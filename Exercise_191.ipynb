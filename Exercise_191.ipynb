{
  "nbformat": 4,
  "nbformat_minor": 0,
  "metadata": {
    "colab": {
      "name": "Exercise_191.ipynb",
      "provenance": [],
      "authorship_tag": "ABX9TyODPd5aGCz5gQaMzAAVtjws",
      "include_colab_link": true
    },
    "kernelspec": {
      "name": "python3",
      "display_name": "Python 3"
    },
    "language_info": {
      "name": "python"
    }
  },
  "cells": [
    {
      "cell_type": "markdown",
      "metadata": {
        "id": "view-in-github",
        "colab_type": "text"
      },
      "source": [
        "<a href=\"https://colab.research.google.com/github/mahmutboran/python_exercise/blob/main/Exercise_191.ipynb\" target=\"_parent\"><img src=\"https://colab.research.google.com/assets/colab-badge.svg\" alt=\"Open In Colab\"/></a>"
      ]
    },
    {
      "cell_type": "markdown",
      "source": [
        "//* Test the each item of the words array whether palindromic or not.\n",
        "\n",
        "//* Return the result as an array which consists of true or\n",
        "\n",
        "//* false values for each item\n"
      ],
      "metadata": {
        "id": "pjVmQoE0Vdb4"
      }
    },
    {
      "cell_type": "code",
      "execution_count": 1,
      "metadata": {
        "colab": {
          "base_uri": "https://localhost:8080/"
        },
        "id": "xfmLAm-mVB1A",
        "outputId": "1162d0d6-adcd-484d-fa8e-712857d7564a"
      },
      "outputs": [
        {
          "output_type": "execute_result",
          "data": {
            "text/plain": [
              "[True, True, False, True, True]"
            ]
          },
          "metadata": {},
          "execution_count": 1
        }
      ],
      "source": [
        "def palindromic(arr):\n",
        "  return [True if i==i[::-1] else False for i in arr ]\n",
        "palindromic([\"mum\", \"kek\", \"gel\", \"ısı\", \"iyi\"])"
      ]
    }
  ]
}