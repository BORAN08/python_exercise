{
  "nbformat": 4,
  "nbformat_minor": 0,
  "metadata": {
    "colab": {
      "name": "Exercise_143.ipynb",
      "provenance": [],
      "authorship_tag": "ABX9TyO1fLJAC3O5rAGfISZ5QfZC",
      "include_colab_link": true
    },
    "kernelspec": {
      "name": "python3",
      "display_name": "Python 3"
    },
    "language_info": {
      "name": "python"
    }
  },
  "cells": [
    {
      "cell_type": "markdown",
      "metadata": {
        "id": "view-in-github",
        "colab_type": "text"
      },
      "source": [
        "<a href=\"https://colab.research.google.com/github/BORAN08/python_exercise/blob/main/Exercise_143.ipynb\" target=\"_parent\"><img src=\"https://colab.research.google.com/assets/colab-badge.svg\" alt=\"Open In Colab\"/></a>"
      ]
    },
    {
      "cell_type": "markdown",
      "source": [
        "Exercise 143 :\n",
        "\n",
        "Advanced List Sort\n",
        "\n",
        "Create a function that takes a list of numbers or strings and returns a list with the items from the original list stored into sublists. Items of the same value should be in the same sublist.\n",
        "\n",
        "Examples\n",
        "\n",
        "advanced_sort([2, 1, 2, 1]) ➞ [[2, 2], [1, 1]]\n",
        "\n",
        "\n",
        "advanced_sort([5, 4, 5, 5, 4, 3]) ➞ [[5, 5, 5], [4, 4], [3]]\n",
        "\n",
        "\n",
        "advanced_sort([\"b\", \"a\", \"b\", \"a\", \"c\"]) ➞ [[\"b\", \"b\"], [\"a\", \"a\"], [\"c\"]]\n",
        "\n",
        "Notes\n",
        "\n",
        "The sublists should be returned in the order of each element's first appearance in the given list. (edited) "
      ],
      "metadata": {
        "id": "QmABBkc8sk4-"
      }
    },
    {
      "cell_type": "code",
      "execution_count": 52,
      "metadata": {
        "colab": {
          "base_uri": "https://localhost:8080/"
        },
        "id": "kBkvVNW9sftW",
        "outputId": "afec00fa-9f2d-47d1-d0e1-4c914f510979"
      },
      "outputs": [
        {
          "output_type": "execute_result",
          "data": {
            "text/plain": [
              "[[5, 5, 5], [4, 4], [3]]"
            ]
          },
          "metadata": {},
          "execution_count": 52
        }
      ],
      "source": [
        "def advanced_sort(n):\n",
        "  dict_={}\n",
        "  for i in n:\n",
        "    if i not in dict_:dict_.setdefault(i,[i])\n",
        "    else:dict_[i]+=[i]\n",
        "  return sorted(dict_.values(),reverse=True)\n",
        "advanced_sort([5, 4, 5, 5, 4, 3])"
      ]
    }
  ]
}