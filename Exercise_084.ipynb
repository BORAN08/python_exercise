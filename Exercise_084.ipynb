{
  "nbformat": 4,
  "nbformat_minor": 0,
  "metadata": {
    "colab": {
      "name": "Exercise_084.ipynb",
      "provenance": [],
      "authorship_tag": "ABX9TyONhNSwLqS4GtxBwfYoHxeC",
      "include_colab_link": true
    },
    "kernelspec": {
      "name": "python3",
      "display_name": "Python 3"
    },
    "language_info": {
      "name": "python"
    }
  },
  "cells": [
    {
      "cell_type": "markdown",
      "metadata": {
        "id": "view-in-github",
        "colab_type": "text"
      },
      "source": [
        "<a href=\"https://colab.research.google.com/github/BORAN08/python_exercise/blob/main/Exercise_084.ipynb\" target=\"_parent\"><img src=\"https://colab.research.google.com/assets/colab-badge.svg\" alt=\"Open In Colab\"/></a>"
      ]
    },
    {
      "cell_type": "markdown",
      "source": [
        "Exercise-084\n",
        "\n",
        "Write Number in Expanded Form\n",
        "\n",
        "You will be given a number and you will need to return it as a string in  \n",
        "\n",
        "For example:\n",
        "\n",
        "12 >>>> '10 + 2'\n",
        "\n",
        "42 >>>>  '40 + 2'\n",
        "\n",
        "70304 >>>> '70000 + 300 + 4' \n"
      ],
      "metadata": {
        "id": "aijQtP428yXg"
      }
    },
    {
      "cell_type": "code",
      "execution_count": 1,
      "metadata": {
        "colab": {
          "base_uri": "https://localhost:8080/",
          "height": 35
        },
        "id": "MfzueOOJ8vfZ",
        "outputId": "6f14f1c8-f386-41d6-deee-a6dcf47ae66b"
      },
      "outputs": [
        {
          "output_type": "execute_result",
          "data": {
            "application/vnd.google.colaboratory.intrinsic+json": {
              "type": "string"
            },
            "text/plain": [
              "'4000000+200000+30000+700+20+2'"
            ]
          },
          "metadata": {},
          "execution_count": 1
        }
      ],
      "source": [
        "n=4230722\n",
        "my_n=str(n)\n",
        "n_list=[]\n",
        "count=len(my_n)-1\n",
        "for i in my_n:\n",
        "  if i!=\"0\":\n",
        "    n_list.append(i+\"0\"*count)\n",
        "  count-=1\n",
        "\"+\".join(n_list)"
      ]
    }
  ]
}