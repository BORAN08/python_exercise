{
  "nbformat": 4,
  "nbformat_minor": 0,
  "metadata": {
    "colab": {
      "name": "Exercise_92.ipynb",
      "provenance": [],
      "collapsed_sections": [],
      "authorship_tag": "ABX9TyPlnnrVLzAOSWBsyB27fxhR",
      "include_colab_link": true
    },
    "kernelspec": {
      "name": "python3",
      "display_name": "Python 3"
    },
    "language_info": {
      "name": "python"
    }
  },
  "cells": [
    {
      "cell_type": "markdown",
      "metadata": {
        "id": "view-in-github",
        "colab_type": "text"
      },
      "source": [
        "<a href=\"https://colab.research.google.com/github/BORAN08/python_exercise/blob/main/Exercise_92.ipynb\" target=\"_parent\"><img src=\"https://colab.research.google.com/assets/colab-badge.svg\" alt=\"Open In Colab\"/></a>"
      ]
    },
    {
      "cell_type": "markdown",
      "metadata": {
        "id": "RQ-y39G-lRSd"
      },
      "source": [
        ""
      ]
    },
    {
      "cell_type": "markdown",
      "metadata": {
        "id": "uyL7qOSq7WH5"
      },
      "source": [
        "Exercise -92\n",
        "\n",
        "Once a water balloon pops, is soaks the area around it. The ground gets drier the further away you travel from the balloon.\n",
        "\n",
        "The effect of a water balloon popping can be modeled using a list. Create a function that takes a list which takes the pre-pop state and returns the state after the balloon is popped. The pre-pop state will contain at most a single balloon, whose size is represented by the only non-zero element.\n",
        "\n",
        "Examples\n",
        "\n",
        "[0, 0, 0, 0, 4, 0, 0, 0, 0] ➞ [0, 1, 2, 3, 4, 3, 2, 1, 0]\n",
        "\n",
        "\n",
        "[0, 0, 0, 3, 0, 0, 0] ➞ [0, 1, 2, 3, 2, 1, 0]\n",
        "\n",
        "\n",
        "[0, 0, 2, 0, 0] ➞ [0, 1, 2, 1, 0]\n",
        "\n",
        "\n",
        "[0] ➞ [0]\n",
        "\n",
        "balloon_pops([0, 0, 0, 0, 4, 0, 0, 0, 0])➞[0, 1, 2, 3, 4, 3, 2, 1, 0]\n",
        "\n",
        "Notes\n",
        "\n",
        "Length of input list is always odd.\n",
        "\n",
        "The input list will always be the exact length it takes for there to be exactly one border zero.\n",
        "\n",
        "If the input list consists only of zeroes, return the same list."
      ]
    },
    {
      "cell_type": "code",
      "metadata": {
        "id": "YF8iyI1yHATQ",
        "colab": {
          "base_uri": "https://localhost:8080/"
        },
        "outputId": "7a27bba5-13d0-411f-8c0f-e40f8c61cd3a"
      },
      "source": [
        "def balloon_pops(n):\n",
        "  return [i for i in range(max(n))]+[i for i in range(max(n),-1,-1)]\n",
        "balloon_pops([0, 0, 0, 0, 4, 0, 0, 0, 0])"
      ],
      "execution_count": 3,
      "outputs": [
        {
          "output_type": "execute_result",
          "data": {
            "text/plain": [
              "[0, 1, 2, 3, 4, 3, 2, 1, 0]"
            ]
          },
          "metadata": {},
          "execution_count": 3
        }
      ]
    }
  ]
}