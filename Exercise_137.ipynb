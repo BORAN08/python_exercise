{
  "nbformat": 4,
  "nbformat_minor": 0,
  "metadata": {
    "colab": {
      "name": "Exercise_137.ipynb",
      "provenance": [],
      "authorship_tag": "ABX9TyMjLdvz//L+vh4hjyRNhy5U",
      "include_colab_link": true
    },
    "kernelspec": {
      "name": "python3",
      "display_name": "Python 3"
    },
    "language_info": {
      "name": "python"
    }
  },
  "cells": [
    {
      "cell_type": "markdown",
      "metadata": {
        "id": "view-in-github",
        "colab_type": "text"
      },
      "source": [
        "<a href=\"https://colab.research.google.com/github/BORAN08/python_exercise/blob/main/Exercise_137.ipynb\" target=\"_parent\"><img src=\"https://colab.research.google.com/assets/colab-badge.svg\" alt=\"Open In Colab\"/></a>"
      ]
    },
    {
      "cell_type": "markdown",
      "source": [
        "Exercise -137 \n",
        "\n",
        "Write a function that pairs the first number in an array with the last, the second number with the second to last, etc. \n",
        "\n",
        "Examples pairs([1, 2, 3, 4, 5, 6, 7]) ➞ [[1, 7], [2, 6], [3, 5], [4, 4]] \n",
        "\n",
        "pairs([1, 2, 3, 4, 5, 6]) ➞ [[1, 6], [2, 5], [3, 4]] \n",
        "\n",
        "pairs([5, 9, 8, 1, 2]) ➞ [[5, 2], [9, 1], [8, 8]] \n",
        "\n",
        "pairs([]) ➞ [] \n",
        "\n",
        "Notes \n",
        "\n",
        "If the list has an odd length, repeat the middle element twice for the last pair. \n",
        "\n",
        "Return an empty list if the input is an empty list."
      ],
      "metadata": {
        "id": "MTDcenBzJCPT"
      }
    },
    {
      "cell_type": "code",
      "execution_count": 1,
      "metadata": {
        "colab": {
          "base_uri": "https://localhost:8080/",
          "height": 0
        },
        "id": "Us4DWqi_JBkN",
        "outputId": "f01907b9-9374-4907-d836-2505420af9a4"
      },
      "outputs": [
        {
          "output_type": "execute_result",
          "data": {
            "text/plain": [
              "[[1, 6], [2, 5], [3, 4]]"
            ]
          },
          "metadata": {},
          "execution_count": 1
        }
      ],
      "source": [
        "def pairs_list(pairs):\n",
        "  pairs_=[]\n",
        "  i=0\n",
        "  while i<len(pairs)/2:\n",
        "    pairs_.append([pairs[i],pairs[-i-1]])\n",
        "    i+=1\n",
        "  return pairs_\n",
        "pairs_list([1, 2, 3, 4, 5, 6])"
      ]
    }
  ]
}