{
  "nbformat": 4,
  "nbformat_minor": 0,
  "metadata": {
    "colab": {
      "name": "Exercise_088.ipynb",
      "provenance": [],
      "authorship_tag": "ABX9TyNFkte1C+CCVixzHs9RxQTH",
      "include_colab_link": true
    },
    "kernelspec": {
      "name": "python3",
      "display_name": "Python 3"
    },
    "language_info": {
      "name": "python"
    }
  },
  "cells": [
    {
      "cell_type": "markdown",
      "metadata": {
        "id": "view-in-github",
        "colab_type": "text"
      },
      "source": [
        "<a href=\"https://colab.research.google.com/github/BORAN08/python_exercise/blob/main/Exercise_088.ipynb\" target=\"_parent\"><img src=\"https://colab.research.google.com/assets/colab-badge.svg\" alt=\"Open In Colab\"/></a>"
      ]
    },
    {
      "cell_type": "markdown",
      "source": [
        "Write a function named first_non_repeating_letter that takes a string input, and returns the first character that is not repeated anywhere in the string.\n",
        "\n",
        "\n",
        "For example, if given the input 'stress', the function should return 't', since the letter t only occurs once in the string, and occurs first in the string.\n",
        "\n",
        "\n",
        "As an added challenge, upper- and lowercase letters are considered the same character, but the function should return the correct case for the initial letter. \n",
        "\n",
        "For example, the input 'sTreSS' should return 'T'.\n",
        "\n",
        "\n",
        "If a string contains all repeating characters, it should return an empty string (\"\") or None -- see sample tests."
      ],
      "metadata": {
        "id": "h69BbTDhDZii"
      }
    },
    {
      "cell_type": "code",
      "execution_count": 1,
      "metadata": {
        "colab": {
          "base_uri": "https://localhost:8080/"
        },
        "id": "c1g93GVODXED",
        "outputId": "3e6bd863-6bb4-47fe-e3f6-bdf78577db72"
      },
      "outputs": [
        {
          "output_type": "stream",
          "name": "stdout",
          "text": [
            "9\n",
            "None\n"
          ]
        }
      ],
      "source": [
        "s='sTtrereSS'\n",
        "s_u=s.upper()\n",
        "slist=[]\n",
        "for i in s_u:\n",
        "  slist.append(s_u.count(i))\n",
        "print(len(slist))\n",
        "if len(slist)==0:\n",
        "  print(None)\n",
        "elif 1 in slist:\n",
        "  print(s[slist.index(1)])\n",
        "else:\n",
        "  print(None)"
      ]
    }
  ]
}