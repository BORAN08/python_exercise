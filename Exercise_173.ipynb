{
  "nbformat": 4,
  "nbformat_minor": 0,
  "metadata": {
    "colab": {
      "name": "Exercise-173.ipynb",
      "provenance": [],
      "authorship_tag": "ABX9TyP/UyB8bHuuvb0p/6VKdDL9",
      "include_colab_link": true
    },
    "kernelspec": {
      "name": "python3",
      "display_name": "Python 3"
    },
    "language_info": {
      "name": "python"
    }
  },
  "cells": [
    {
      "cell_type": "markdown",
      "metadata": {
        "id": "view-in-github",
        "colab_type": "text"
      },
      "source": [
        "<a href=\"https://colab.research.google.com/github/BORAN08/python_exercise/blob/main/Exercise_173.ipynb\" target=\"_parent\"><img src=\"https://colab.research.google.com/assets/colab-badge.svg\" alt=\"Open In Colab\"/></a>"
      ]
    },
    {
      "cell_type": "markdown",
      "source": [
        "Exercise 173\n",
        "Return the most profit from stock quotes.\n",
        "Stock quotes are stored in an array in order of date. The stock profit is the difference in prices in buying and selling stock. Each day, you can either buy one unit of stock, sell any number of stock units you have already bought, or do nothing. Therefore, the most profit is the maximum difference of all pairs in a sequence of stock prices.\n",
        "Example:\n",
        " [ 1, 2, 3, 4, 5, 6 ]        => 15  (buy at 1,2,3,4,5 and then sell all at 6)\n",
        " [ 6, 5, 4, 3, 2, 1 ]        => 0   (nothing to buy for profit)\n",
        " [ 1, 6, 5, 10, 8, 7 ]       => 18  (buy at 1,6,5 and sell all at 10)\n",
        " [ 1, 2, 10, 3, 2, 7, 3, 2 ] => 26  (buy at 1,2 and sell them at 10. Then buy at 3,2 and sell them at 7)"
      ],
      "metadata": {
        "id": "LliiPyVh9KkM"
      }
    },
    {
      "cell_type": "code",
      "source": [
        "def stock_profit(n):\n",
        "  profit=0\n",
        "  for i in n:\n",
        "    if i<max(n) :profit+=max(n)-i\n",
        "    n[n.index(i)]=0\n",
        "  return profit\n",
        "stock_profit([ 1, 6, 5, 10, 8, 7 ])"
      ],
      "metadata": {
        "colab": {
          "base_uri": "https://localhost:8080/"
        },
        "id": "u2IzQbYz-69a",
        "outputId": "61636913-13c3-45a9-9e60-1760465e5c7f"
      },
      "execution_count": 23,
      "outputs": [
        {
          "output_type": "execute_result",
          "data": {
            "text/plain": [
              "18"
            ]
          },
          "metadata": {},
          "execution_count": 23
        }
      ]
    }
  ]
}