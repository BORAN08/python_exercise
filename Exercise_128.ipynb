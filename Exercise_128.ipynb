{
  "nbformat": 4,
  "nbformat_minor": 0,
  "metadata": {
    "colab": {
      "name": "Exercise_128.ipynb",
      "provenance": [],
      "authorship_tag": "ABX9TyPIt/CdOmUEM+5XZCowvzza",
      "include_colab_link": true
    },
    "kernelspec": {
      "name": "python3",
      "display_name": "Python 3"
    },
    "language_info": {
      "name": "python"
    }
  },
  "cells": [
    {
      "cell_type": "markdown",
      "metadata": {
        "id": "view-in-github",
        "colab_type": "text"
      },
      "source": [
        "<a href=\"https://colab.research.google.com/github/BORAN08/python_exercise/blob/main/Exercise_128.ipynb\" target=\"_parent\"><img src=\"https://colab.research.google.com/assets/colab-badge.svg\" alt=\"Open In Colab\"/></a>"
      ]
    },
    {
      "cell_type": "markdown",
      "source": [
        "Exercise -128\n",
        "\n",
        "In this example you have to validate if a user input string is alphanumeric.\n",
        "\n",
        "The given string is not nil/null/NULL/None, so you don't have to check that.\n",
        "\n",
        "The string has the following conditions to be alphanumeric:\n",
        "\n",
        "At least one character (\"\" is not valid)\n",
        "\n",
        "Allowed characters are uppercase / lowercase latin letters and digits from 0 to 9\n",
        "\n",
        "No whitespaces / underscore"
      ],
      "metadata": {
        "id": "5kY84er-9HQU"
      }
    },
    {
      "cell_type": "code",
      "execution_count": 4,
      "metadata": {
        "colab": {
          "base_uri": "https://localhost:8080/"
        },
        "id": "wTAHRZJx9EIT",
        "outputId": "5b7d630e-d80f-4ebf-815a-2ec1fea3bf86"
      },
      "outputs": [
        {
          "output_type": "execute_result",
          "data": {
            "text/plain": [
              "False"
            ]
          },
          "metadata": {},
          "execution_count": 4
        }
      ],
      "source": [
        "def alphanumeric(password):\n",
        "    return (True if password.isalnum() else False)\n",
        "alphanumeric(\"clarusway//*\")"
      ]
    }
  ]
}