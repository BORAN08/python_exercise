{
  "nbformat": 4,
  "nbformat_minor": 0,
  "metadata": {
    "colab": {
      "name": "Exercise_162.ipynb",
      "provenance": [],
      "authorship_tag": "ABX9TyNtSuz1gSz6S+3L8sHybOfk",
      "include_colab_link": true
    },
    "kernelspec": {
      "name": "python3",
      "display_name": "Python 3"
    },
    "language_info": {
      "name": "python"
    }
  },
  "cells": [
    {
      "cell_type": "markdown",
      "metadata": {
        "id": "view-in-github",
        "colab_type": "text"
      },
      "source": [
        "<a href=\"https://colab.research.google.com/github/BORAN08/python_exercise/blob/main/Exercise_162.ipynb\" target=\"_parent\"><img src=\"https://colab.research.google.com/assets/colab-badge.svg\" alt=\"Open In Colab\"/></a>"
      ]
    },
    {
      "cell_type": "markdown",
      "source": [
        "Exercise 162-) Given an integer array nums, return an array answer such that answer[i] is equal to the product of all the elements of nums except nums[i].\n",
        "You must write an algorithm that without using the nested loops  and without using the division operation.\n",
        "\n",
        "Example 1:\n",
        "\n",
        "Input: nums = [1,2,3,4]\n",
        "\n",
        "Output: [24,12,8,6]\n",
        "\n",
        "Example 2:\n",
        "\n",
        "Input: nums = [-1,1,0,-3,3]\n",
        "\n",
        "Output: [0,0,9,0,0]"
      ],
      "metadata": {
        "id": "KGG8Z73GTuxq"
      }
    },
    {
      "cell_type": "code",
      "execution_count": 3,
      "metadata": {
        "colab": {
          "base_uri": "https://localhost:8080/"
        },
        "id": "bYL8SZwaTszs",
        "outputId": "22031dbc-4ea9-4359-922c-b4c97230855e"
      },
      "outputs": [
        {
          "output_type": "execute_result",
          "data": {
            "text/plain": [
              "[0, 0, 9, 0, 0]"
            ]
          },
          "metadata": {},
          "execution_count": 3
        }
      ],
      "source": [
        "#D1119-Bora 's salute\n",
        "def multiply_nums(array):\n",
        "  product=1\n",
        "  spare_list=[]\n",
        "  for i in array:\n",
        "    spare_list.append(product)\n",
        "    product*=i\n",
        "  product=1\n",
        "  for j in range(len(array)-1,-1,-1):\n",
        "    spare_list[j]*=product\n",
        "    product*=array[j]\n",
        "  return spare_list\n",
        "multiply_nums( [-1,1,0,-3,3])"
      ]
    }
  ]
}