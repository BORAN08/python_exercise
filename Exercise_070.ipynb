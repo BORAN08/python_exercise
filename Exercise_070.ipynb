{
  "nbformat": 4,
  "nbformat_minor": 0,
  "metadata": {
    "colab": {
      "name": "Exercise_070.ipynb",
      "provenance": [],
      "authorship_tag": "ABX9TyOXr8sUQbdpdTnoZRljyRbQ",
      "include_colab_link": true
    },
    "kernelspec": {
      "name": "python3",
      "display_name": "Python 3"
    },
    "language_info": {
      "name": "python"
    }
  },
  "cells": [
    {
      "cell_type": "markdown",
      "metadata": {
        "id": "view-in-github",
        "colab_type": "text"
      },
      "source": [
        "<a href=\"https://colab.research.google.com/github/BORAN08/python_exercise/blob/main/Exercise_070.ipynb\" target=\"_parent\"><img src=\"https://colab.research.google.com/assets/colab-badge.svg\" alt=\"Open In Colab\"/></a>"
      ]
    },
    {
      "cell_type": "markdown",
      "source": [
        "Exercise -70\n",
        "\n",
        "Given a string s, find the first non-repeating character in it and return its index. If it does not exist, return -1.\n",
        "\n",
        "Example 1:\n",
        "\n",
        "Input: s = \"leetcode\"\n",
        "\n",
        "Output: 0\n",
        "\n",
        "Example 2:\n",
        "\n",
        "Input: s = \"loveleetcode\"\n",
        "\n",
        "Output: 2\n",
        "\n",
        "Example 3:\n",
        "\n",
        "Input: s = \"aabb\"\n",
        "\n",
        "Output: -1"
      ],
      "metadata": {
        "id": "J7Y_voyXfPxb"
      }
    },
    {
      "cell_type": "code",
      "execution_count": null,
      "metadata": {
        "id": "OKhVsCuJfMW5"
      },
      "outputs": [],
      "source": [
        "s = \"aabb\" \n",
        "for i in s:\n",
        "  if i not in s[s.index(i)+1:]:\n",
        "    print(s.index(i))\n",
        "    break\n",
        "else:\n",
        "  print(-1)"
      ]
    }
  ]
}