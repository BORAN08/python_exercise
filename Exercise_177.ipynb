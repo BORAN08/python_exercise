{
  "nbformat": 4,
  "nbformat_minor": 0,
  "metadata": {
    "colab": {
      "name": "Exercise_177.ipynb",
      "provenance": [],
      "authorship_tag": "ABX9TyPbYAj9FYLkWv5R+rFsjXY3",
      "include_colab_link": true
    },
    "kernelspec": {
      "name": "python3",
      "display_name": "Python 3"
    },
    "language_info": {
      "name": "python"
    }
  },
  "cells": [
    {
      "cell_type": "markdown",
      "metadata": {
        "id": "view-in-github",
        "colab_type": "text"
      },
      "source": [
        "<a href=\"https://colab.research.google.com/github/BORAN08/python_exercise/blob/main/Exercise_177.ipynb\" target=\"_parent\"><img src=\"https://colab.research.google.com/assets/colab-badge.svg\" alt=\"Open In Colab\"/></a>"
      ]
    },
    {
      "cell_type": "markdown",
      "source": [
        "Exercise_177\n",
        "\n",
        "Get the next prime number!\n",
        "\n",
        "You will get a numbern (>= 0) and your task is to find the next prime number.\n",
        "\n",
        "Make sure to optimize your code: there will numbers tested up to about 10^12.\n",
        "\n",
        "Examples\n",
        "\n",
        "5   =>  7\n",
        "\n",
        "12  =>  13"
      ],
      "metadata": {
        "id": "C_vP-AePQU_R"
      }
    },
    {
      "cell_type": "code",
      "execution_count": 16,
      "metadata": {
        "colab": {
          "base_uri": "https://localhost:8080/"
        },
        "id": "mckivOt3QUIN",
        "outputId": "6ceafb22-8abf-4014-a1e4-6fc8ad7023b7"
      },
      "outputs": [
        {
          "output_type": "execute_result",
          "data": {
            "text/plain": [
              "97"
            ]
          },
          "metadata": {},
          "execution_count": 16
        }
      ],
      "source": [
        "def next_prime(n):\n",
        "  n=n+1\n",
        "  while True:\n",
        "    for i in range(2,n):\n",
        "      if n%i==0:\n",
        "        break\n",
        "    else:\n",
        "      if i==n:\n",
        "        continue\n",
        "      else:\n",
        "        return n\n",
        "        break\n",
        "    n+=1\n",
        "next_prime(89)"
      ]
    },
    {
      "cell_type": "markdown",
      "source": [
        "D1166 YUSUF's salute"
      ],
      "metadata": {
        "id": "ReZMfqZFpnB4"
      }
    },
    {
      "cell_type": "code",
      "source": [
        "def isprime(n):   \n",
        "    if n == 2:\n",
        "        return True\n",
        "    elif n < 2 or not n % 2:\n",
        "        return False\n",
        "    else:\n",
        "        for i in range(3, int(n**0.5)+1, 2):\n",
        "            if not n % i:\n",
        "                return False\n",
        "    return True \n",
        "\n",
        "number = int(input(\"Enter a number: \"))\n",
        "\n",
        "for i in range(number+1, number*5):\n",
        "    if isprime(i):\n",
        "        print(i)\n",
        "        break"
      ],
      "metadata": {
        "colab": {
          "base_uri": "https://localhost:8080/"
        },
        "id": "HA3l9sfqkAmK",
        "outputId": "79ea6879-d6a9-45eb-9942-a3f21acb314b"
      },
      "execution_count": 17,
      "outputs": [
        {
          "output_type": "stream",
          "name": "stdout",
          "text": [
            "Enter a number: 89\n",
            "97\n"
          ]
        }
      ]
    }
  ]
}