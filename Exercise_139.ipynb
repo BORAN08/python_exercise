{
  "nbformat": 4,
  "nbformat_minor": 0,
  "metadata": {
    "colab": {
      "name": "Exercise_139.ipynb",
      "provenance": [],
      "authorship_tag": "ABX9TyPwzWRhOSs0BxVPkiaFfdeM",
      "include_colab_link": true
    },
    "kernelspec": {
      "name": "python3",
      "display_name": "Python 3"
    },
    "language_info": {
      "name": "python"
    }
  },
  "cells": [
    {
      "cell_type": "markdown",
      "metadata": {
        "id": "view-in-github",
        "colab_type": "text"
      },
      "source": [
        "<a href=\"https://colab.research.google.com/github/BORAN08/python_exercise/blob/main/Exercise_139.ipynb\" target=\"_parent\"><img src=\"https://colab.research.google.com/assets/colab-badge.svg\" alt=\"Open In Colab\"/></a>"
      ]
    },
    {
      "cell_type": "markdown",
      "source": [
        "Exercise-139\n",
        "Write a program that will calculate the number of trailing zeros in a factorial of a given number.\n",
        "\n",
        "N! = 1 * 2 * 3 * ... * N\n",
        "\n",
        "Be careful 1000! has 2568 digits...\n",
        "\n",
        "For more info, see: http://mathworld.wolfram.com/Factorial.html\n",
        "\n",
        "Examples\n",
        "zeros(6) = 1\n",
        "# 6! = 1 * 2 * 3 * 4 * 5 * 6 = 720 --> 1 trailing zero\n",
        "\n",
        "zeros(12) = 2\n",
        "# 12! = 479001600 --> 2 trailing zeros\n",
        "Hint: You're not meant to calculate the factorial. Find another way to find the number of zeros."
      ],
      "metadata": {
        "id": "F15Cb3J72azj"
      }
    },
    {
      "cell_type": "code",
      "execution_count": 1,
      "metadata": {
        "colab": {
          "base_uri": "https://localhost:8080/"
        },
        "id": "aM2Ch95o2X-X",
        "outputId": "1acdd114-3503-46d9-f2b0-a70eb1d89496"
      },
      "outputs": [
        {
          "output_type": "execute_result",
          "data": {
            "text/plain": [
              "7"
            ]
          },
          "metadata": {},
          "execution_count": 1
        }
      ],
      "source": [
        "def zeros(n):\n",
        "    f=1\n",
        "    for i in range(1,n+1):\n",
        "      f*=i\n",
        "    zero=0\n",
        "    for i in range(1,len(str(f))+1):\n",
        "      if str(f)[-i]==\"0\": \n",
        "        zero+=1\n",
        "      else:\n",
        "        break\n",
        "    return zero\n",
        "zeros(30)"
      ]
    },
    {
      "cell_type": "markdown",
      "source": [
        "C9171 Emirhan's salute"
      ],
      "metadata": {
        "id": "NW5rEzh53FPA"
      }
    },
    {
      "cell_type": "code",
      "source": [
        "def trailing_zeros(x):\n",
        "  zero=0\n",
        "  while x//5>=1:\n",
        "    zero+=(x//5)\n",
        "    x=x//5\n",
        "  return zero\n",
        "trailing_zeros(30)"
      ],
      "metadata": {
        "colab": {
          "base_uri": "https://localhost:8080/"
        },
        "id": "03_4GAnF3LyX",
        "outputId": "d3a62166-5063-474c-fd46-43a1e55f226d"
      },
      "execution_count": 2,
      "outputs": [
        {
          "output_type": "execute_result",
          "data": {
            "text/plain": [
              "7"
            ]
          },
          "metadata": {},
          "execution_count": 2
        }
      ]
    }
  ]
}