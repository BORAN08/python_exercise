{
  "nbformat": 4,
  "nbformat_minor": 0,
  "metadata": {
    "colab": {
      "name": "Exercise_086.ipynb",
      "provenance": [],
      "authorship_tag": "ABX9TyOn8opoiHx3HNNzfcXhwEw6",
      "include_colab_link": true
    },
    "kernelspec": {
      "name": "python3",
      "display_name": "Python 3"
    },
    "language_info": {
      "name": "python"
    }
  },
  "cells": [
    {
      "cell_type": "markdown",
      "metadata": {
        "id": "view-in-github",
        "colab_type": "text"
      },
      "source": [
        "<a href=\"https://colab.research.google.com/github/BORAN08/python_exercise/blob/main/Exercise_086.ipynb\" target=\"_parent\"><img src=\"https://colab.research.google.com/assets/colab-badge.svg\" alt=\"Open In Colab\"/></a>"
      ]
    },
    {
      "cell_type": "markdown",
      "source": [
        "Exercise - 86\n",
        "\n",
        "Mubashir needs your help to construct a building which will be a pile of n cubes. The cube at the bottom will have a volume of n^3, the cube above will have volume of (n-1)^3 and so on until the top which will have a volume of 1^3.\n",
        "Given the total volume m of the building, can you find the number of cubes n required for the building?\n",
        "\n",
        "In other words, you have to return an integer n such that:\n",
        "\n",
        "n^3 + (n-1)^3 + ... + 1^3 == m\n",
        "\n",
        "Return None if there is no such number.\n",
        "\n",
        "Examples\n",
        "\n",
        "1071225 ➞ 45\n",
        "\n",
        "4183059834009 ➞ 2022\n",
        "\n",
        "16 ➞ None"
      ],
      "metadata": {
        "id": "tvYRkWgQBM7r"
      }
    },
    {
      "cell_type": "code",
      "execution_count": 1,
      "metadata": {
        "colab": {
          "base_uri": "https://localhost:8080/"
        },
        "id": "hX1Z7GAFBKow",
        "outputId": "4a28ebe4-7d2d-4d44-efc6-a5894810fcd8"
      },
      "outputs": [
        {
          "output_type": "stream",
          "name": "stdout",
          "text": [
            "1071225\n",
            "45\n"
          ]
        }
      ],
      "source": [
        "n=int(input(\"\"))\n",
        "sayac=0\n",
        "total=0\n",
        "while total<n:\n",
        "  sayac+=1\n",
        "  total+=sayac**3\n",
        "print(sayac)"
      ]
    }
  ]
}