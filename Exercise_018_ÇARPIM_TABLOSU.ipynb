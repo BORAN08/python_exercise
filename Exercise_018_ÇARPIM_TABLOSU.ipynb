{
  "nbformat": 4,
  "nbformat_minor": 0,
  "metadata": {
    "colab": {
      "name": "Exercise-018 ÇARPIM TABLOSU.ipynb",
      "provenance": [],
      "authorship_tag": "ABX9TyPzDWCb1HbgBC8jr5yJIJJR",
      "include_colab_link": true
    },
    "kernelspec": {
      "name": "python3",
      "display_name": "Python 3"
    },
    "language_info": {
      "name": "python"
    }
  },
  "cells": [
    {
      "cell_type": "markdown",
      "metadata": {
        "id": "view-in-github",
        "colab_type": "text"
      },
      "source": [
        "<a href=\"https://colab.research.google.com/github/BORAN08/python_exercise/blob/main/Exercise_018_%C3%87ARPIM_TABLOSU.ipynb\" target=\"_parent\"><img src=\"https://colab.research.google.com/assets/colab-badge.svg\" alt=\"Open In Colab\"/></a>"
      ]
    },
    {
      "cell_type": "code",
      "metadata": {
        "colab": {
          "base_uri": "https://localhost:8080/"
        },
        "id": "_DcF5QCEllYA",
        "outputId": "8a9c63c6-8158-4124-9038-1e488b35da9f"
      },
      "source": [
        "for i in range(1,11):\n",
        "  for j in range(1,11):\n",
        "    print(format(j,\"2d\"),\"x\",format(i,\"2d\"),\"=\",format(i*j,\"3d\"),\"|\", end=\"\")\n",
        "  print()\n",
        "\n",
        " "
      ],
      "execution_count": 3,
      "outputs": [
        {
          "output_type": "stream",
          "name": "stdout",
          "text": [
            " 1 x  1 =   1 | 2 x  1 =   2 | 3 x  1 =   3 | 4 x  1 =   4 | 5 x  1 =   5 | 6 x  1 =   6 | 7 x  1 =   7 | 8 x  1 =   8 | 9 x  1 =   9 |10 x  1 =  10 |\n",
            " 1 x  2 =   2 | 2 x  2 =   4 | 3 x  2 =   6 | 4 x  2 =   8 | 5 x  2 =  10 | 6 x  2 =  12 | 7 x  2 =  14 | 8 x  2 =  16 | 9 x  2 =  18 |10 x  2 =  20 |\n",
            " 1 x  3 =   3 | 2 x  3 =   6 | 3 x  3 =   9 | 4 x  3 =  12 | 5 x  3 =  15 | 6 x  3 =  18 | 7 x  3 =  21 | 8 x  3 =  24 | 9 x  3 =  27 |10 x  3 =  30 |\n",
            " 1 x  4 =   4 | 2 x  4 =   8 | 3 x  4 =  12 | 4 x  4 =  16 | 5 x  4 =  20 | 6 x  4 =  24 | 7 x  4 =  28 | 8 x  4 =  32 | 9 x  4 =  36 |10 x  4 =  40 |\n",
            " 1 x  5 =   5 | 2 x  5 =  10 | 3 x  5 =  15 | 4 x  5 =  20 | 5 x  5 =  25 | 6 x  5 =  30 | 7 x  5 =  35 | 8 x  5 =  40 | 9 x  5 =  45 |10 x  5 =  50 |\n",
            " 1 x  6 =   6 | 2 x  6 =  12 | 3 x  6 =  18 | 4 x  6 =  24 | 5 x  6 =  30 | 6 x  6 =  36 | 7 x  6 =  42 | 8 x  6 =  48 | 9 x  6 =  54 |10 x  6 =  60 |\n",
            " 1 x  7 =   7 | 2 x  7 =  14 | 3 x  7 =  21 | 4 x  7 =  28 | 5 x  7 =  35 | 6 x  7 =  42 | 7 x  7 =  49 | 8 x  7 =  56 | 9 x  7 =  63 |10 x  7 =  70 |\n",
            " 1 x  8 =   8 | 2 x  8 =  16 | 3 x  8 =  24 | 4 x  8 =  32 | 5 x  8 =  40 | 6 x  8 =  48 | 7 x  8 =  56 | 8 x  8 =  64 | 9 x  8 =  72 |10 x  8 =  80 |\n",
            " 1 x  9 =   9 | 2 x  9 =  18 | 3 x  9 =  27 | 4 x  9 =  36 | 5 x  9 =  45 | 6 x  9 =  54 | 7 x  9 =  63 | 8 x  9 =  72 | 9 x  9 =  81 |10 x  9 =  90 |\n",
            " 1 x 10 =  10 | 2 x 10 =  20 | 3 x 10 =  30 | 4 x 10 =  40 | 5 x 10 =  50 | 6 x 10 =  60 | 7 x 10 =  70 | 8 x 10 =  80 | 9 x 10 =  90 |10 x 10 = 100 |\n"
          ]
        }
      ]
    },
    {
      "cell_type": "code",
      "metadata": {
        "colab": {
          "base_uri": "https://localhost:8080/"
        },
        "id": "tx6tfUVr5wGO",
        "outputId": "50b1a7ff-f1b4-48e1-d499-58c5c319aa1d"
      },
      "source": [
        "print(format(\"Welcome\", \"50s\"),\"Ahsen Duru\")\n",
        "print(format(111, \"40d\"))\n",
        "print(format(924.656, \"40.20f\"))\n"
      ],
      "execution_count": 2,
      "outputs": [
        {
          "output_type": "stream",
          "name": "stdout",
          "text": [
            "Welcome                                            Ahsen Duru\n",
            "                                     111\n",
            "                924.65599999999994906830\n"
          ]
        }
      ]
    },
    {
      "cell_type": "code",
      "metadata": {
        "colab": {
          "base_uri": "https://localhost:8080/"
        },
        "id": "hdSUvsqHlyXe",
        "outputId": "a718d0fe-b2a3-420d-f057-5b63f636d881"
      },
      "source": [
        "for i in range(1,11):\n",
        "  for j in range(1,11):\n",
        "    print(i,\"x\",j,\"=\",i*j)\n",
        "  print(\"***********\")"
      ],
      "execution_count": null,
      "outputs": [
        {
          "output_type": "stream",
          "name": "stdout",
          "text": [
            "1 x 1 = 1\n",
            "1 x 2 = 2\n",
            "1 x 3 = 3\n",
            "1 x 4 = 4\n",
            "1 x 5 = 5\n",
            "1 x 6 = 6\n",
            "1 x 7 = 7\n",
            "1 x 8 = 8\n",
            "1 x 9 = 9\n",
            "1 x 10 = 10\n",
            "***********\n",
            "2 x 1 = 2\n",
            "2 x 2 = 4\n",
            "2 x 3 = 6\n",
            "2 x 4 = 8\n",
            "2 x 5 = 10\n",
            "2 x 6 = 12\n",
            "2 x 7 = 14\n",
            "2 x 8 = 16\n",
            "2 x 9 = 18\n",
            "2 x 10 = 20\n",
            "***********\n",
            "3 x 1 = 3\n",
            "3 x 2 = 6\n",
            "3 x 3 = 9\n",
            "3 x 4 = 12\n",
            "3 x 5 = 15\n",
            "3 x 6 = 18\n",
            "3 x 7 = 21\n",
            "3 x 8 = 24\n",
            "3 x 9 = 27\n",
            "3 x 10 = 30\n",
            "***********\n",
            "4 x 1 = 4\n",
            "4 x 2 = 8\n",
            "4 x 3 = 12\n",
            "4 x 4 = 16\n",
            "4 x 5 = 20\n",
            "4 x 6 = 24\n",
            "4 x 7 = 28\n",
            "4 x 8 = 32\n",
            "4 x 9 = 36\n",
            "4 x 10 = 40\n",
            "***********\n",
            "5 x 1 = 5\n",
            "5 x 2 = 10\n",
            "5 x 3 = 15\n",
            "5 x 4 = 20\n",
            "5 x 5 = 25\n",
            "5 x 6 = 30\n",
            "5 x 7 = 35\n",
            "5 x 8 = 40\n",
            "5 x 9 = 45\n",
            "5 x 10 = 50\n",
            "***********\n",
            "6 x 1 = 6\n",
            "6 x 2 = 12\n",
            "6 x 3 = 18\n",
            "6 x 4 = 24\n",
            "6 x 5 = 30\n",
            "6 x 6 = 36\n",
            "6 x 7 = 42\n",
            "6 x 8 = 48\n",
            "6 x 9 = 54\n",
            "6 x 10 = 60\n",
            "***********\n",
            "7 x 1 = 7\n",
            "7 x 2 = 14\n",
            "7 x 3 = 21\n",
            "7 x 4 = 28\n",
            "7 x 5 = 35\n",
            "7 x 6 = 42\n",
            "7 x 7 = 49\n",
            "7 x 8 = 56\n",
            "7 x 9 = 63\n",
            "7 x 10 = 70\n",
            "***********\n",
            "8 x 1 = 8\n",
            "8 x 2 = 16\n",
            "8 x 3 = 24\n",
            "8 x 4 = 32\n",
            "8 x 5 = 40\n",
            "8 x 6 = 48\n",
            "8 x 7 = 56\n",
            "8 x 8 = 64\n",
            "8 x 9 = 72\n",
            "8 x 10 = 80\n",
            "***********\n",
            "9 x 1 = 9\n",
            "9 x 2 = 18\n",
            "9 x 3 = 27\n",
            "9 x 4 = 36\n",
            "9 x 5 = 45\n",
            "9 x 6 = 54\n",
            "9 x 7 = 63\n",
            "9 x 8 = 72\n",
            "9 x 9 = 81\n",
            "9 x 10 = 90\n",
            "***********\n",
            "10 x 1 = 10\n",
            "10 x 2 = 20\n",
            "10 x 3 = 30\n",
            "10 x 4 = 40\n",
            "10 x 5 = 50\n",
            "10 x 6 = 60\n",
            "10 x 7 = 70\n",
            "10 x 8 = 80\n",
            "10 x 9 = 90\n",
            "10 x 10 = 100\n",
            "***********\n"
          ]
        }
      ]
    }
  ]
}