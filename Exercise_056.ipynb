{
  "nbformat": 4,
  "nbformat_minor": 0,
  "metadata": {
    "colab": {
      "name": "Exercise_056.ipynb",
      "provenance": [],
      "authorship_tag": "ABX9TyNEpGk+nFHyutKB+OMfot1J",
      "include_colab_link": true
    },
    "kernelspec": {
      "name": "python3",
      "display_name": "Python 3"
    },
    "language_info": {
      "name": "python"
    }
  },
  "cells": [
    {
      "cell_type": "markdown",
      "metadata": {
        "id": "view-in-github",
        "colab_type": "text"
      },
      "source": [
        "<a href=\"https://colab.research.google.com/github/BORAN08/python_exercise/blob/main/Exercise_056.ipynb\" target=\"_parent\"><img src=\"https://colab.research.google.com/assets/colab-badge.svg\" alt=\"Open In Colab\"/></a>"
      ]
    },
    {
      "cell_type": "markdown",
      "metadata": {
        "id": "zXc7OmKs9ig7"
      },
      "source": [
        "Exercise -56\n",
        "\n",
        "Given a string s, return the longest palindromic substring in s.\n",
        "\n",
        "Example 1:\n",
        "\n",
        "Input: s = \"babad\"\n",
        "\n",
        "Output: \"bab\"\n",
        "\n",
        "Note: \"aba\" is also a valid answer."
      ]
    },
    {
      "cell_type": "code",
      "execution_count": null,
      "metadata": {
        "colab": {
          "base_uri": "https://localhost:8080/"
        },
        "id": "ekuZTw4BlDX0",
        "outputId": "f9c49662-8491-4bc5-d855-d0a2d9a91513"
      },
      "outputs": [
        {
          "output_type": "stream",
          "name": "stdout",
          "text": [
            "babad\n",
            "The longest palindromic substring:  bab\n"
          ]
        }
      ],
      "source": [
        "max_len = 0\n",
        "max_sub = \"\"\n",
        "s = input(\"\")\n",
        "for i in range(len(s)) :\n",
        "  for j in range(1, len(s)+1):\n",
        "    substring = s[i:j]\n",
        "    if (substring == substring[::-1]) and (len(substring)> max_len) :\n",
        "      max_sub = substring\n",
        "      max_len = len(substring)\n",
        "\n",
        "print(\"The longest palindromic substring: \", max_sub)"
      ]
    },
    {
      "cell_type": "code",
      "source": [
        "class Solution(object):\n",
        "   def longestPalindrome(self, s):\n",
        "      dp = [[False for i in range(len(s))] for i in range(len(s))]\n",
        "      for i in range(len(s)):\n",
        "         dp[i][i] = True\n",
        "      max_length = 1\n",
        "      start = 0\n",
        "      for l in range(2,len(s)+1):\n",
        "         for i in range(len(s)-l+1):\n",
        "            end = i+l\n",
        "            if l==2:\n",
        "               if s[i] == s[end-1]:\n",
        "                  dp[i][end-1]=True\n",
        "                  max_length = l\n",
        "                  start = i\n",
        "            else:\n",
        "               if s[i] == s[end-1] and dp[i+1][end-2]:\n",
        "                  dp[i][end-1]=True\n",
        "                  max_length = l\n",
        "                  start = i\n",
        "      return s[start:start+max_length]\n",
        "ob1 = Solution()\n",
        "print(ob1.longestPalindrome(\"ABBABBC\"))"
      ],
      "metadata": {
        "colab": {
          "base_uri": "https://localhost:8080/"
        },
        "id": "c538hcz1oqFN",
        "outputId": "ae969299-5b30-4d05-8543-56847190ba72"
      },
      "execution_count": 3,
      "outputs": [
        {
          "output_type": "stream",
          "name": "stdout",
          "text": [
            "BBABB\n"
          ]
        }
      ]
    }
  ]
}