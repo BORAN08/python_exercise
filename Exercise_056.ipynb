{
  "nbformat": 4,
  "nbformat_minor": 0,
  "metadata": {
    "colab": {
      "name": "Exercise_056.ipynb",
      "provenance": [],
      "authorship_tag": "ABX9TyMnnRWtzyqcsqGePDzPJB/I",
      "include_colab_link": true
    },
    "kernelspec": {
      "name": "python3",
      "display_name": "Python 3"
    },
    "language_info": {
      "name": "python"
    }
  },
  "cells": [
    {
      "cell_type": "markdown",
      "metadata": {
        "id": "view-in-github",
        "colab_type": "text"
      },
      "source": [
        "<a href=\"https://colab.research.google.com/github/BORAN08/python_exercise/blob/main/Exercise_056.ipynb\" target=\"_parent\"><img src=\"https://colab.research.google.com/assets/colab-badge.svg\" alt=\"Open In Colab\"/></a>"
      ]
    },
    {
      "cell_type": "markdown",
      "metadata": {
        "id": "zXc7OmKs9ig7"
      },
      "source": [
        "Exercise -56\n",
        "\n",
        "Given a string s, return the longest palindromic substring in s.\n",
        "\n",
        "Example 1:\n",
        "\n",
        "Input: s = \"babad\"\n",
        "\n",
        "Output: \"bab\"\n",
        "\n",
        "Note: \"aba\" is also a valid answer."
      ]
    },
    {
      "cell_type": "code",
      "execution_count": 1,
      "metadata": {
        "colab": {
          "base_uri": "https://localhost:8080/"
        },
        "id": "ekuZTw4BlDX0",
        "outputId": "f9c49662-8491-4bc5-d855-d0a2d9a91513"
      },
      "outputs": [
        {
          "output_type": "stream",
          "name": "stdout",
          "text": [
            "babad\n",
            "The longest palindromic substring:  bab\n"
          ]
        }
      ],
      "source": [
        "max_len = 0\n",
        "max_sub = \"\"\n",
        "s = input(\"\")\n",
        "for i in range(len(s)) :\n",
        "  for j in range(1, len(s)+1):\n",
        "    substring = s[i:j]\n",
        "    if (substring == substring[::-1]) and (len(substring)> max_len) :\n",
        "      max_sub = substring\n",
        "      max_len = len(substring)\n",
        "\n",
        "print(\"The longest palindromic substring: \", max_sub)"
      ]
    }
  ]
}