{
  "nbformat": 4,
  "nbformat_minor": 0,
  "metadata": {
    "colab": {
      "name": "Exercise_171.ipynb",
      "provenance": [],
      "collapsed_sections": [],
      "authorship_tag": "ABX9TyNGEdgXD4luB2e0Ar7qG6FT",
      "include_colab_link": true
    },
    "kernelspec": {
      "name": "python3",
      "display_name": "Python 3"
    },
    "language_info": {
      "name": "python"
    }
  },
  "cells": [
    {
      "cell_type": "markdown",
      "metadata": {
        "id": "view-in-github",
        "colab_type": "text"
      },
      "source": [
        "<a href=\"https://colab.research.google.com/github/BORAN08/python_exercise/blob/main/Exercise_171.ipynb\" target=\"_parent\"><img src=\"https://colab.research.google.com/assets/colab-badge.svg\" alt=\"Open In Colab\"/></a>"
      ]
    },
    {
      "cell_type": "markdown",
      "source": [
        "Exercise 171\n",
        "You are a khmmadkhm scientist and you decided to play with electron distribution among atom's shells. You know that basic idea of electron distribution is that electrons should fill a shell untill it's holding the maximum number of electrons.\n",
        "Rules:\n",
        "Maximum number of electrons in a shell is distributed with a rule of 2n^2 (n being position of a shell).\n",
        "For example, maximum number of electrons in 3rd shield is 2*3^2 = 18.\n",
        "Electrons should fill the lowest level shell first.\n",
        "If the electrons have completely filled the lowest level shell, the other unoccupied electrons will fill the higher level shell and so on.\n",
        "Ex.:    atomicNumber(1); should return [1]\n",
        "        atomicNumber(10); should return [2, 8]\n",
        "        atomicNumber(11); should return [2, 8, 1]\n",
        "        atomicNumber(47); should return [2, 8, 18, 19]"
      ],
      "metadata": {
        "id": "XG6gKezZG_-s"
      }
    },
    {
      "cell_type": "code",
      "source": [
        "def atomicNumber(n):\n",
        "  count=1\n",
        "  electron=[]\n",
        "  while True:\n",
        "    shell=2*count**2\n",
        "    if n>shell:electron.append(shell)\n",
        "    else:\n",
        "      electron.append(n) \n",
        "      break\n",
        "    n-=shell\n",
        "    count+=1\n",
        "  return electron\n",
        "atomicNumber(1)"
      ],
      "metadata": {
        "colab": {
          "base_uri": "https://localhost:8080/"
        },
        "id": "BoNZBf-KG_uG",
        "outputId": "bb2a7af6-d24b-4b0b-f773-e053ecfd22a5"
      },
      "execution_count": 15,
      "outputs": [
        {
          "output_type": "execute_result",
          "data": {
            "text/plain": [
              "[1]"
            ]
          },
          "metadata": {},
          "execution_count": 15
        }
      ]
    },
    {
      "cell_type": "code",
      "execution_count": null,
      "metadata": {
        "id": "_Y6PrcF4G_DD"
      },
      "outputs": [],
      "source": [
        ""
      ]
    }
  ]
}