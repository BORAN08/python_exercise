{
  "nbformat": 4,
  "nbformat_minor": 0,
  "metadata": {
    "colab": {
      "name": "Exercise_050.ipynb",
      "provenance": [],
      "authorship_tag": "ABX9TyMdZ+yYEajHdSsztCwG2qsi",
      "include_colab_link": true
    },
    "kernelspec": {
      "name": "python3",
      "display_name": "Python 3"
    },
    "language_info": {
      "name": "python"
    }
  },
  "cells": [
    {
      "cell_type": "markdown",
      "metadata": {
        "id": "view-in-github",
        "colab_type": "text"
      },
      "source": [
        "<a href=\"https://colab.research.google.com/github/BORAN08/python_exercise/blob/main/Exercise_050.ipynb\" target=\"_parent\"><img src=\"https://colab.research.google.com/assets/colab-badge.svg\" alt=\"Open In Colab\"/></a>"
      ]
    },
    {
      "cell_type": "markdown",
      "source": [
        "Exercise- 50 Write a program that shows which letter is used how many times in the text received from the user."
      ],
      "metadata": {
        "id": "P0toT7B5ie-j"
      }
    },
    {
      "cell_type": "code",
      "execution_count": 1,
      "metadata": {
        "colab": {
          "base_uri": "https://localhost:8080/"
        },
        "id": "L7QF7kjWiard",
        "outputId": "db6a33a2-6b36-47ff-f90a-40e3ce14b34a"
      },
      "outputs": [
        {
          "output_type": "stream",
          "name": "stdout",
          "text": [
            "Plase enter a string: clarusway\n",
            "The letter 'c' occurs '1' times\n",
            "The letter 'l' occurs '1' times\n",
            "The letter 'a' occurs '2' times\n",
            "The letter 'r' occurs '1' times\n",
            "The letter 'u' occurs '1' times\n",
            "The letter 's' occurs '1' times\n",
            "The letter 'w' occurs '1' times\n",
            "The letter 'y' occurs '1' times\n"
          ]
        }
      ],
      "source": [
        "my_str = input(\"Plase enter a string: \")\n",
        "my_dict={}\n",
        "for i in my_str:\n",
        "  if i in my_dict:\n",
        "    my_dict[i]+=1\n",
        "  else:\n",
        "    my_dict[i]=1\n",
        "for i,j in my_dict.items():\n",
        "  print(f\"The letter '{i}' occurs '{j}' times\")"
      ]
    }
  ]
}