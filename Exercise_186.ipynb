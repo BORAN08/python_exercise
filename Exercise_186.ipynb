{
  "nbformat": 4,
  "nbformat_minor": 0,
  "metadata": {
    "colab": {
      "name": "Exercise_186.ipynb",
      "provenance": [],
      "authorship_tag": "ABX9TyPEQX088vfoFRbl/lhEHmLe",
      "include_colab_link": true
    },
    "kernelspec": {
      "name": "python3",
      "display_name": "Python 3"
    },
    "language_info": {
      "name": "python"
    }
  },
  "cells": [
    {
      "cell_type": "markdown",
      "metadata": {
        "id": "view-in-github",
        "colab_type": "text"
      },
      "source": [
        "<a href=\"https://colab.research.google.com/github/mahmutboran/python_exercise/blob/main/Exercise_186.ipynb\" target=\"_parent\"><img src=\"https://colab.research.google.com/assets/colab-badge.svg\" alt=\"Open In Colab\"/></a>"
      ]
    },
    {
      "cell_type": "markdown",
      "source": [
        "This is an interview question asked by Uber.\n",
        "Given an array of integers, return a new array such that each element at index i of the new array is the product of all the numbers in the original array except the one at i.\n",
        "For example, if our input was [1, 2, 3, 4, 5], the expected output would be [120, 60, 40, 30, 24]. If our input was [3, 2, 1], the expected output would be [2, 3, 6].\n",
        "Follow-up: what if you can't use division?"
      ],
      "metadata": {
        "id": "EZfgKaPlYdJm"
      }
    },
    {
      "cell_type": "code",
      "execution_count": 18,
      "metadata": {
        "colab": {
          "base_uri": "https://localhost:8080/"
        },
        "id": "iQxVSzqvYZYR",
        "outputId": "40326208-9dc7-4b6a-d7a8-aea33419bb90"
      },
      "outputs": [
        {
          "output_type": "stream",
          "name": "stdout",
          "text": [
            "[120, 60, 40, 30, 24]\n"
          ]
        }
      ],
      "source": [
        "def newArray(mylist):\n",
        "  newlist=[]\n",
        "  for i in range(len(mylist)):\n",
        "    num=1\n",
        "    for j in mylist:\n",
        "      if mylist[i]!=j:\n",
        "        num*=j\n",
        "    newlist.append(num)\n",
        "  return newlist\n",
        "print(newArray([1, 2, 3, 4, 5]))"
      ]
    }
  ]
}