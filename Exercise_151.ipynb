{
  "nbformat": 4,
  "nbformat_minor": 0,
  "metadata": {
    "colab": {
      "name": "Exercise_151.ipynb",
      "provenance": [],
      "authorship_tag": "ABX9TyN9YQ/TPRjRyxpnGQLJrllH",
      "include_colab_link": true
    },
    "kernelspec": {
      "name": "python3",
      "display_name": "Python 3"
    },
    "language_info": {
      "name": "python"
    }
  },
  "cells": [
    {
      "cell_type": "markdown",
      "metadata": {
        "id": "view-in-github",
        "colab_type": "text"
      },
      "source": [
        "<a href=\"https://colab.research.google.com/github/BORAN08/python_exercise/blob/main/Exercise_151.ipynb\" target=\"_parent\"><img src=\"https://colab.research.google.com/assets/colab-badge.svg\" alt=\"Open In Colab\"/></a>"
      ]
    },
    {
      "cell_type": "markdown",
      "source": [
        "Exercise -151\n",
        "\n",
        "Write a pyhton code, which is a number guessing game that tries to find the number that will be randomly selected from the number sequence from 1 to 100.\n",
        "and indicate in the code that each user has the right to guess 5, deduct 1 right for each wrong guess "
      ],
      "metadata": {
        "id": "j8d32ldyRiAE"
      }
    },
    {
      "cell_type": "code",
      "execution_count": 1,
      "metadata": {
        "colab": {
          "base_uri": "https://localhost:8080/"
        },
        "id": "fh2q0TSDRhRr",
        "outputId": "0646191e-53a1-4c0a-91de-23e0af98fb71"
      },
      "outputs": [
        {
          "output_type": "stream",
          "name": "stdout",
          "text": [
            "Please enter a digit from 1 to 100: 50\n",
            "Wrong guess, remaining guess:4\n",
            "Please enter a digit from 1 to 100: 75\n",
            "Wrong guess, remaining guess:3\n",
            "Please enter a digit from 1 to 100: 80\n",
            "Wrong guess, remaining guess:2\n",
            "Please enter a digit from 1 to 100: 89\n",
            "Wrong guess, remaining guess:1\n",
            "Please enter a digit from 1 to 100: 90\n",
            "Wrong guess, remaining guess:0\n",
            "Remaining guess is finish. The correct numbers is 70\n"
          ]
        }
      ],
      "source": [
        "def number_guess(end,guess):\n",
        "  import random\n",
        "  a=random.randint(1,end)\n",
        "  while True:\n",
        "    guess-=1\n",
        "    b=int(input(\"Please enter a digit from 1 to 100: \"))\n",
        "    if b==a:\n",
        "      print(\"Congratulations, correct guess \")\n",
        "      break\n",
        "    elif b!=a:\n",
        "      print(f\"Wrong guess, remaining guess:{guess}\")\n",
        "    if guess==0:\n",
        "      print(f\"Remaining guess is finish. The correct numbers is {a}\")\n",
        "      break\n",
        "number_guess(100,5)"
      ]
    }
  ]
}