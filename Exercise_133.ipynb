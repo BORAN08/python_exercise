{
  "nbformat": 4,
  "nbformat_minor": 0,
  "metadata": {
    "colab": {
      "name": "Exercise_133.ipynb",
      "provenance": [],
      "authorship_tag": "ABX9TyO0jLA/z2W9xD1sN6mmVEJZ",
      "include_colab_link": true
    },
    "kernelspec": {
      "name": "python3",
      "display_name": "Python 3"
    },
    "language_info": {
      "name": "python"
    }
  },
  "cells": [
    {
      "cell_type": "markdown",
      "metadata": {
        "id": "view-in-github",
        "colab_type": "text"
      },
      "source": [
        "<a href=\"https://colab.research.google.com/github/BORAN08/python_exercise/blob/main/Exercise_133.ipynb\" target=\"_parent\"><img src=\"https://colab.research.google.com/assets/colab-badge.svg\" alt=\"Open In Colab\"/></a>"
      ]
    },
    {
      "cell_type": "markdown",
      "source": [
        "Exercise-133\n",
        "\n",
        "What is an anagram? Well, two words are anagrams of each other if they both contain the same letters. \n",
        "For example:\n",
        "\n",
        "'abba' & 'baab' == true\n",
        "\n",
        "\n",
        "'abba' & 'bbaa' == true\n",
        "\n",
        "\n",
        "'abba' & 'abbba' == false\n",
        "\n",
        "\n",
        "'abba' & 'abca' == false\n",
        "\n",
        "Write a function that will find all the anagrams of a word from a list. You will be given two inputs a word and an array with words. You should return an array of all the anagrams or an empty array if there are none. \n",
        "\n",
        "For example:\n",
        "anagrams('abba', ['aabb', 'abcd', 'bbaa', 'dada']) => ['aabb', 'bbaa']\n",
        "\n",
        "\n",
        "anagrams('racer', ['crazer', 'carer', 'racar', 'caers', 'racer']) => ['carer', 'racer']\n",
        "\n",
        "\n",
        "anagrams('laser', ['lazing', 'lazy',  'lacer']) => []\n",
        "\n",
        "Note for Go\n",
        "For Go: Empty string slice is expected when there are no anagrams found."
      ],
      "metadata": {
        "id": "zVbREwYZmQRP"
      }
    },
    {
      "cell_type": "code",
      "execution_count": 2,
      "metadata": {
        "colab": {
          "base_uri": "https://localhost:8080/"
        },
        "id": "Yyyys2mxmCwi",
        "outputId": "5cbbb54c-69cd-4400-f1f9-dc6ac8e53ca2"
      },
      "outputs": [
        {
          "output_type": "execute_result",
          "data": {
            "text/plain": [
              "['carer', 'racer']"
            ]
          },
          "metadata": {},
          "execution_count": 2
        }
      ],
      "source": [
        "def anagrams(word, words): \n",
        "  return [i for i in words if sorted(i)==sorted(word)]\n",
        "anagrams('racer', ['crazer', 'carer', 'racar', 'caers', 'racer'])"
      ]
    },
    {
      "cell_type": "code",
      "source": [
        "def anagrams(word, words):\n",
        "    words_dict={\"\".join(sorted(word)):[]}\n",
        "    for i in words:\n",
        "         if \"\".join(sorted(i)) in words_dict:\n",
        "                 words_dict[\"\".join(sorted(word))].append(i)\n",
        "    return list(words_dict.values())[0]\n",
        "anagrams('racer', ['crazer', 'carer', 'racar', 'caers', 'racer'])"
      ],
      "metadata": {
        "colab": {
          "base_uri": "https://localhost:8080/"
        },
        "id": "hR9sQnSvG12T",
        "outputId": "dedd2ff1-b814-4184-8040-5316b9e70d91"
      },
      "execution_count": 1,
      "outputs": [
        {
          "output_type": "execute_result",
          "data": {
            "text/plain": [
              "['carer', 'racer']"
            ]
          },
          "metadata": {},
          "execution_count": 1
        }
      ]
    }
  ]
}