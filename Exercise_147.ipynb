{
  "nbformat": 4,
  "nbformat_minor": 0,
  "metadata": {
    "colab": {
      "name": "Exercise_147.ipynb",
      "provenance": [],
      "authorship_tag": "ABX9TyMRETbT+x7LmYhD9rEBmdMN",
      "include_colab_link": true
    },
    "kernelspec": {
      "name": "python3",
      "display_name": "Python 3"
    },
    "language_info": {
      "name": "python"
    }
  },
  "cells": [
    {
      "cell_type": "markdown",
      "metadata": {
        "id": "view-in-github",
        "colab_type": "text"
      },
      "source": [
        "<a href=\"https://colab.research.google.com/github/BORAN08/python_exercise/blob/main/Exercise_147.ipynb\" target=\"_parent\"><img src=\"https://colab.research.google.com/assets/colab-badge.svg\" alt=\"Open In Colab\"/></a>"
      ]
    },
    {
      "cell_type": "markdown",
      "source": [
        "Exercise_147\n",
        "\n",
        "Let d(n) be defined as the sum of proper divisors of n (numbers less than n which divide evenly into n). If d(a) = b and d(b) = a, where a ≠ b, then a and b are an amicable pair and each of a and b are called amicable numbers.\n",
        "\n",
        "\n",
        "For example, \n",
        "the proper divisors of 220 are 1, 2, 4, 5, 10, 11, 20, 22, 44, 55 and 110;\n",
        "\n",
        "therefore d(220) = 284. \n",
        "\n",
        "The proper divisors of 284 are 1, 2, 4, 71 and 142; so d(284) = 220.\n",
        "\n",
        "Evaluate the sum of all the amicable numbers under 10000."
      ],
      "metadata": {
        "id": "EPZbZLSONNGR"
      }
    },
    {
      "cell_type": "code",
      "execution_count": 1,
      "metadata": {
        "colab": {
          "base_uri": "https://localhost:8080/"
        },
        "id": "L4uUf5tuNLxQ",
        "outputId": "b95924b6-c658-488d-c2e3-1e12c2e2d6ca"
      },
      "outputs": [
        {
          "output_type": "execute_result",
          "data": {
            "text/plain": [
              "31626"
            ]
          },
          "metadata": {},
          "execution_count": 1
        }
      ],
      "source": [
        "def amicable_number(n):\n",
        "  dict_={}\n",
        "  for i in range(1,n):\n",
        "    sumj=0\n",
        "    for j in range(1,i):\n",
        "      if i%j==0:\n",
        "        sumj+=j\n",
        "        dict_[i]=sumj\n",
        "  return sum(k for k,l in dict_.items() if dict_.get(l)==k and k!=l)\n",
        "amicable_number(10000)"
      ]
    },
    {
      "cell_type": "code",
      "source": [
        "#D1155 Melek's salute\n",
        "def amicable(nums) :\n",
        "  def n_divice(n):\n",
        "    total = sum([i for i in range(1,n) if n % i == 0])\n",
        "    sum_total = sum([j for j in range(1,total) if total % j == 0])\n",
        "    if n == sum_total and n != total :\n",
        "      return n\n",
        "  return sum([n_divice(k) for k in range(1,nums) if n_divice(k) != None])\n",
        "amicable(10000)"
      ],
      "metadata": {
        "colab": {
          "base_uri": "https://localhost:8080/"
        },
        "id": "kL_WZwzMNvp0",
        "outputId": "dd77a70b-d4a2-4f31-d3ad-9098002a9a35"
      },
      "execution_count": 4,
      "outputs": [
        {
          "output_type": "execute_result",
          "data": {
            "text/plain": [
              "31626"
            ]
          },
          "metadata": {},
          "execution_count": 4
        }
      ]
    }
  ]
}