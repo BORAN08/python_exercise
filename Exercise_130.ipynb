{
  "nbformat": 4,
  "nbformat_minor": 0,
  "metadata": {
    "colab": {
      "name": "Exercise_130.ipynb",
      "provenance": [],
      "authorship_tag": "ABX9TyPzap1DNAYQcM9+naSfOt+D",
      "include_colab_link": true
    },
    "kernelspec": {
      "name": "python3",
      "display_name": "Python 3"
    },
    "language_info": {
      "name": "python"
    }
  },
  "cells": [
    {
      "cell_type": "markdown",
      "metadata": {
        "id": "view-in-github",
        "colab_type": "text"
      },
      "source": [
        "<a href=\"https://colab.research.google.com/github/BORAN08/python_exercise/blob/main/Exercise_130.ipynb\" target=\"_parent\"><img src=\"https://colab.research.google.com/assets/colab-badge.svg\" alt=\"Open In Colab\"/></a>"
      ]
    },
    {
      "cell_type": "markdown",
      "source": [
        "Exercise-130\n",
        "\n",
        "Write a function that when given a URL as a string, parses out just the domain name and returns it as a string. For example:\n",
        "\n",
        "domain_name(\"http://github.com/carbonfive/raygun\") == \"github\" \n",
        "\n",
        "domain_name(\"http://www.zombie-bites.com\") == \"zombie-bites\"\n",
        "\n",
        "domain_name(\"https://www.cnet.com\") == \"cnet\""
      ],
      "metadata": {
        "id": "j1j3i9gH_gz6"
      }
    },
    {
      "cell_type": "code",
      "execution_count": 1,
      "metadata": {
        "colab": {
          "base_uri": "https://localhost:8080/",
          "height": 35
        },
        "id": "eI4G6zQg_VWA",
        "outputId": "44b26a10-8689-464b-afff-f17a5a14e9e1"
      },
      "outputs": [
        {
          "output_type": "execute_result",
          "data": {
            "application/vnd.google.colaboratory.intrinsic+json": {
              "type": "string"
            },
            "text/plain": [
              "'github'"
            ]
          },
          "metadata": {},
          "execution_count": 1
        }
      ],
      "source": [
        "def domain_name(url):\n",
        "    return url.split(\"://\")[-1].split(\".\")[-2]\n",
        "domain_name(\"http://www.github.com/carbonfive/raygun\")"
      ]
    },
    {
      "cell_type": "code",
      "source": [
        "domain_name(\"http://www.zombie-bites.com\")"
      ],
      "metadata": {
        "colab": {
          "base_uri": "https://localhost:8080/",
          "height": 35
        },
        "id": "ZGtCjzMf_2Yz",
        "outputId": "6fd22fed-7800-48a3-af6a-6a5f80ac9c88"
      },
      "execution_count": 2,
      "outputs": [
        {
          "output_type": "execute_result",
          "data": {
            "application/vnd.google.colaboratory.intrinsic+json": {
              "type": "string"
            },
            "text/plain": [
              "'zombie-bites'"
            ]
          },
          "metadata": {},
          "execution_count": 2
        }
      ]
    },
    {
      "cell_type": "code",
      "source": [
        "domain_name(\"https://www.cnet.com\")"
      ],
      "metadata": {
        "colab": {
          "base_uri": "https://localhost:8080/",
          "height": 35
        },
        "id": "0ELHyovC_6VA",
        "outputId": "efa5a773-2cdd-424b-cd72-47ca8eced568"
      },
      "execution_count": 3,
      "outputs": [
        {
          "output_type": "execute_result",
          "data": {
            "application/vnd.google.colaboratory.intrinsic+json": {
              "type": "string"
            },
            "text/plain": [
              "'cnet'"
            ]
          },
          "metadata": {},
          "execution_count": 3
        }
      ]
    }
  ]
}