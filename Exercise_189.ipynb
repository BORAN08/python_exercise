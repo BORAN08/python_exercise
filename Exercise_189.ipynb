{
  "nbformat": 4,
  "nbformat_minor": 0,
  "metadata": {
    "colab": {
      "name": "Exercise_189.ipynb",
      "provenance": [],
      "authorship_tag": "ABX9TyN2e3AAeJ2OObL6mWtNDfA+",
      "include_colab_link": true
    },
    "kernelspec": {
      "name": "python3",
      "display_name": "Python 3"
    },
    "language_info": {
      "name": "python"
    }
  },
  "cells": [
    {
      "cell_type": "markdown",
      "metadata": {
        "id": "view-in-github",
        "colab_type": "text"
      },
      "source": [
        "<a href=\"https://colab.research.google.com/github/mahmutboran/python_exercise/blob/main/Exercise_189.ipynb\" target=\"_parent\"><img src=\"https://colab.research.google.com/assets/colab-badge.svg\" alt=\"Open In Colab\"/></a>"
      ]
    },
    {
      "cell_type": "markdown",
      "source": [
        "This is an interview question asked by Amazon.\n",
        "Given an integer k and a string s, find the length of the longest substring that contains at most k distinct characters.\n",
        "For example, given s = \"abcba\" and k = 2, the longest substring with k distinct characters is \"bcb\"."
      ],
      "metadata": {
        "id": "o9RKh1-msUHc"
      }
    },
    {
      "cell_type": "code",
      "source": [
        "def longestSubstring(s,k):\n",
        "  _s=[(len(s[i:j+1]),s[i:j+1]) for i in range(len(s)) for j in range(len(s)) if len(set(s[i:j+1]))==k]\n",
        "  return max(_s)[1]\n",
        "longestSubstring(\"abcba\",2)"
      ],
      "metadata": {
        "colab": {
          "base_uri": "https://localhost:8080/",
          "height": 35
        },
        "id": "fadG9dMTuH1T",
        "outputId": "ed6f1712-4fff-40a6-8240-b56c87fe8e41"
      },
      "execution_count": 28,
      "outputs": [
        {
          "output_type": "execute_result",
          "data": {
            "application/vnd.google.colaboratory.intrinsic+json": {
              "type": "string"
            },
            "text/plain": [
              "'bcb'"
            ]
          },
          "metadata": {},
          "execution_count": 28
        }
      ]
    }
  ]
}