{
  "nbformat": 4,
  "nbformat_minor": 0,
  "metadata": {
    "colab": {
      "name": "Exercise_90.ipynb",
      "provenance": [],
      "authorship_tag": "ABX9TyP48qytMORY9IHMvjxLO7Gj",
      "include_colab_link": true
    },
    "kernelspec": {
      "name": "python3",
      "display_name": "Python 3"
    },
    "language_info": {
      "name": "python"
    }
  },
  "cells": [
    {
      "cell_type": "markdown",
      "metadata": {
        "id": "view-in-github",
        "colab_type": "text"
      },
      "source": [
        "<a href=\"https://colab.research.google.com/github/BORAN08/python_exercise/blob/main/Exercise_90.ipynb\" target=\"_parent\"><img src=\"https://colab.research.google.com/assets/colab-badge.svg\" alt=\"Open In Colab\"/></a>"
      ]
    },
    {
      "cell_type": "markdown",
      "source": [
        "Exercise 91 ROT13 is a simple letter substitution cipher that replaces a letter with the letter 13 letters after it in the alphabet. ROT13 is an example of the Caesar cipher.\n",
        "\n",
        "Create a function that takes a string and returns the string ciphered with Rot13. If there are numbers or special characters included in the string, they should be returned as they are. Only letters from the latin/english alphabet should be shifted, like in the original Rot13 \"implementation\".\n",
        "\n",
        "Please note that using encode is considered cheating.\n",
        "\n",
        "test.assert_equals(rot13(\"test\"),\"grfg\")\n",
        "\n",
        "test.assert_equals(rot13(\"Test\"),\"Grfg\")\n",
        "\n",
        "test.assert_equals(rot13(\"Tes12t //tESt\"),\"Grf12g //gRFg\")\n",
        "\n"
      ],
      "metadata": {
        "id": "ottBth0pZcCD"
      }
    },
    {
      "cell_type": "code",
      "execution_count": 1,
      "metadata": {
        "colab": {
          "base_uri": "https://localhost:8080/",
          "height": 35
        },
        "id": "1qG2udRiZXTc",
        "outputId": "2dc5ac31-c38b-474c-8a34-33a6f1ee1d97"
      },
      "outputs": [
        {
          "output_type": "execute_result",
          "data": {
            "application/vnd.google.colaboratory.intrinsic+json": {
              "type": "string"
            },
            "text/plain": [
              "'Grf12g //gRFg'"
            ]
          },
          "metadata": {},
          "execution_count": 1
        }
      ],
      "source": [
        "def rot13(message):\n",
        "  import string\n",
        "  a=string.ascii_lowercase\n",
        "  b=string.ascii_uppercase\n",
        "  sy=\"\"\n",
        "  for i in message:\n",
        "    if i.isupper():\n",
        "      sy+=b[b.index(i)-13]\n",
        "    elif i.islower():\n",
        "      sy+=a[a.index(i)-13]\n",
        "    else:\n",
        "      sy+=i\n",
        "  return sy\n",
        "rot13(\"Tes12t //tESt\")"
      ]
    }
  ]
}