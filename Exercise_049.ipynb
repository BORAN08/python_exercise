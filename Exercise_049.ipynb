{
  "nbformat": 4,
  "nbformat_minor": 0,
  "metadata": {
    "colab": {
      "name": "Exercise_049.ipynb",
      "provenance": [],
      "authorship_tag": "ABX9TyPQh7/ouJ1cvilZhHmJjxdA",
      "include_colab_link": true
    },
    "kernelspec": {
      "name": "python3",
      "display_name": "Python 3"
    },
    "language_info": {
      "name": "python"
    }
  },
  "cells": [
    {
      "cell_type": "markdown",
      "metadata": {
        "id": "view-in-github",
        "colab_type": "text"
      },
      "source": [
        "<a href=\"https://colab.research.google.com/github/BORAN08/python_exercise/blob/main/Exercise_049.ipynb\" target=\"_parent\"><img src=\"https://colab.research.google.com/assets/colab-badge.svg\" alt=\"Open In Colab\"/></a>"
      ]
    },
    {
      "cell_type": "markdown",
      "source": [
        "There is a large of socks that must be paired by color. Given an array of integers representing the color of each sock, determine how many pairs of socks with matching colors there are.\n",
        "\n",
        "Example :\n",
        "\n",
        "n = 7\n",
        "\n",
        "ar = [1, 2, 1, 2, 1, 3, 2]\n",
        "\n",
        "Note: There is one pair of color 1 and one of color 2. There are three odd socks left, one of each color. The number of pairs is 2."
      ],
      "metadata": {
        "id": "y9JtqRXnYNda"
      }
    },
    {
      "cell_type": "code",
      "execution_count": 19,
      "metadata": {
        "colab": {
          "base_uri": "https://localhost:8080/"
        },
        "id": "G7ZqqugBDwVH",
        "outputId": "cc9cbcb8-5d8d-4ce9-ee10-ddfb74bb3b39"
      },
      "outputs": [
        {
          "output_type": "execute_result",
          "data": {
            "text/plain": [
              "3"
            ]
          },
          "metadata": {},
          "execution_count": 19
        }
      ],
      "source": [
        "def sockMerchant(n, ar):\n",
        "  ar_dict={i:ar.count(i) for i in ar}\n",
        "  return sum([divmod(i,2)[0] for i in ar_dict.values() ])\n",
        "sockMerchant(9,[10, 20, 20, 10, 10, 30, 50, 10, 20])"
      ]
    }
  ]
}