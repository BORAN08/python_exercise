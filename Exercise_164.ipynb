{
  "nbformat": 4,
  "nbformat_minor": 0,
  "metadata": {
    "colab": {
      "name": "Exercise_164.ipynb",
      "provenance": [],
      "authorship_tag": "ABX9TyO+KmCX/vJIAqwQB3RRB0sT",
      "include_colab_link": true
    },
    "kernelspec": {
      "name": "python3",
      "display_name": "Python 3"
    },
    "language_info": {
      "name": "python"
    }
  },
  "cells": [
    {
      "cell_type": "markdown",
      "metadata": {
        "id": "view-in-github",
        "colab_type": "text"
      },
      "source": [
        "<a href=\"https://colab.research.google.com/github/BORAN08/python_exercise/blob/main/Exercise_164.ipynb\" target=\"_parent\"><img src=\"https://colab.research.google.com/assets/colab-badge.svg\" alt=\"Open In Colab\"/></a>"
      ]
    },
    {
      "cell_type": "markdown",
      "source": [
        "Exercise 164)Create a function that takes a list of football clubs with properties: name, wins, loss, draws, scored, conceded, and returns the team name with the highest number of points. If two teams have the same number of points, return the team with the largest goal difference.\n",
        "How to Calculate Points and Goal Difference\n",
        "team = { \"name\": \"Manchester United\", \"wins\": 30, \"loss\": 3, \"draws\": 5, \"scored\": 88, \"conceded\": 20 }\n",
        "\n",
        "Total Points = 3 * wins + 0 * loss + 1 * draws = 3 * 30 + 0 * 3 + 5 * 1 = 95 points\n",
        "Goal Difference = scored - conceded = 88 - 20 = 68\n",
        "Examples\n",
        "champions([\n",
        "  {\n",
        "    \"name\": \"Manchester United\",\n",
        "    \"wins\": 30,\n",
        "    \"loss\": 3,\n",
        "    \"draws\": 5,\n",
        "    \"scored\": 88,\n",
        "    \"conceded\": 20,\n",
        "  },\n",
        "  {\n",
        "    \"name\": \"Arsenal\",\n",
        "    \"wins\": 24,\n",
        "    \"loss\": 6,\n",
        "    \"draws\": 8,\n",
        "    \"scored\": 98,\n",
        "    \"conceded\": 29,\n",
        "  },\n",
        "  {\n",
        "    \"name\": \"Chelsea\",\n",
        "    \"wins\": 22,\n",
        "    \"loss\": 8,\n",
        "    \"draws\": 8,\n",
        "    \"scored\": 98,\n",
        "    \"conceded\": 29,\n",
        "  }\n",
        "]) ➞ \"Manchester United\""
      ],
      "metadata": {
        "id": "rDSSE8WfTng0"
      }
    },
    {
      "cell_type": "code",
      "execution_count": 1,
      "metadata": {
        "colab": {
          "base_uri": "https://localhost:8080/",
          "height": 530
        },
        "id": "feZ6OxBmTnC4",
        "outputId": "0e1e9a68-696a-4377-cddd-6dd2a7462f7c"
      },
      "outputs": [
        {
          "name": "stdout",
          "output_type": "stream",
          "text": [
            "Please enter your team : 1\n",
            "Please enter the wins rate : 2\n",
            "Please enter losses rate of team : 3\n",
            "Please enter the draws of team : 4\n",
            "Please enter the scores of the team : 5\n",
            "Please enter the concede of the team : 6\n",
            "Please enter your team : 7\n",
            "Please enter the wins rate : 8\n",
            "Please enter losses rate of team : 9\n",
            "Please enter the draws of team : q\n"
          ]
        },
        {
          "output_type": "error",
          "ename": "ValueError",
          "evalue": "ignored",
          "traceback": [
            "\u001b[0;31m---------------------------------------------------------------------------\u001b[0m",
            "\u001b[0;31mValueError\u001b[0m                                Traceback (most recent call last)",
            "\u001b[0;32m<ipython-input-1-a6ea70dc3a05>\u001b[0m in \u001b[0;36m<module>\u001b[0;34m()\u001b[0m\n\u001b[1;32m     15\u001b[0m     \u001b[0;32mreturn\u001b[0m \u001b[0mdict1\u001b[0m\u001b[0;34m\u001b[0m\u001b[0;34m\u001b[0m\u001b[0m\n\u001b[1;32m     16\u001b[0m \u001b[0ma\u001b[0m \u001b[0;34m=\u001b[0m \u001b[0mfunction_of_team\u001b[0m\u001b[0;34m(\u001b[0m\u001b[0mdict1\u001b[0m\u001b[0;34m=\u001b[0m\u001b[0;34m{\u001b[0m\u001b[0;34m}\u001b[0m\u001b[0;34m)\u001b[0m\u001b[0;34m\u001b[0m\u001b[0;34m\u001b[0m\u001b[0m\n\u001b[0;32m---> 17\u001b[0;31m \u001b[0mb\u001b[0m \u001b[0;34m=\u001b[0m \u001b[0mfunction_of_team\u001b[0m\u001b[0;34m(\u001b[0m\u001b[0mdict1\u001b[0m\u001b[0;34m=\u001b[0m\u001b[0;34m{\u001b[0m\u001b[0;34m}\u001b[0m\u001b[0;34m)\u001b[0m\u001b[0;34m\u001b[0m\u001b[0;34m\u001b[0m\u001b[0m\n\u001b[0m\u001b[1;32m     18\u001b[0m \u001b[0mc\u001b[0m \u001b[0;34m=\u001b[0m \u001b[0mfunction_of_team\u001b[0m\u001b[0;34m(\u001b[0m\u001b[0mdict1\u001b[0m\u001b[0;34m=\u001b[0m\u001b[0;34m{\u001b[0m\u001b[0;34m}\u001b[0m\u001b[0;34m)\u001b[0m\u001b[0;34m\u001b[0m\u001b[0;34m\u001b[0m\u001b[0m\n\u001b[1;32m     19\u001b[0m \u001b[0mdict2\u001b[0m \u001b[0;34m=\u001b[0m \u001b[0;34m{\u001b[0m\u001b[0;34m}\u001b[0m\u001b[0;34m\u001b[0m\u001b[0;34m\u001b[0m\u001b[0m\n",
            "\u001b[0;32m<ipython-input-1-a6ea70dc3a05>\u001b[0m in \u001b[0;36mfunction_of_team\u001b[0;34m(dict1)\u001b[0m\n\u001b[1;32m      4\u001b[0m     \u001b[0mwins\u001b[0m \u001b[0;34m=\u001b[0m \u001b[0mint\u001b[0m\u001b[0;34m(\u001b[0m\u001b[0minput\u001b[0m\u001b[0;34m(\u001b[0m\u001b[0;34m\"Please enter the wins rate : \"\u001b[0m\u001b[0;34m)\u001b[0m\u001b[0;34m)\u001b[0m\u001b[0;34m\u001b[0m\u001b[0;34m\u001b[0m\u001b[0m\n\u001b[1;32m      5\u001b[0m     \u001b[0mloss\u001b[0m \u001b[0;34m=\u001b[0m \u001b[0mint\u001b[0m\u001b[0;34m(\u001b[0m\u001b[0minput\u001b[0m\u001b[0;34m(\u001b[0m\u001b[0;34m\"Please enter losses rate of team : \"\u001b[0m\u001b[0;34m)\u001b[0m\u001b[0;34m)\u001b[0m\u001b[0;34m\u001b[0m\u001b[0;34m\u001b[0m\u001b[0m\n\u001b[0;32m----> 6\u001b[0;31m     \u001b[0mdraws\u001b[0m \u001b[0;34m=\u001b[0m \u001b[0mint\u001b[0m\u001b[0;34m(\u001b[0m\u001b[0minput\u001b[0m\u001b[0;34m(\u001b[0m\u001b[0;34m\"Please enter the draws of team : \"\u001b[0m\u001b[0;34m)\u001b[0m\u001b[0;34m)\u001b[0m\u001b[0;34m\u001b[0m\u001b[0;34m\u001b[0m\u001b[0m\n\u001b[0m\u001b[1;32m      7\u001b[0m     \u001b[0mscored\u001b[0m \u001b[0;34m=\u001b[0m \u001b[0mint\u001b[0m\u001b[0;34m(\u001b[0m\u001b[0minput\u001b[0m\u001b[0;34m(\u001b[0m\u001b[0;34m\"Please enter the scores of the team : \"\u001b[0m\u001b[0;34m)\u001b[0m\u001b[0;34m)\u001b[0m\u001b[0;34m\u001b[0m\u001b[0;34m\u001b[0m\u001b[0m\n\u001b[1;32m      8\u001b[0m     \u001b[0mconceded\u001b[0m \u001b[0;34m=\u001b[0m \u001b[0mint\u001b[0m\u001b[0;34m(\u001b[0m\u001b[0minput\u001b[0m\u001b[0;34m(\u001b[0m\u001b[0;34m\"Please enter the concede of the team : \"\u001b[0m\u001b[0;34m)\u001b[0m\u001b[0;34m)\u001b[0m\u001b[0;34m\u001b[0m\u001b[0;34m\u001b[0m\u001b[0m\n",
            "\u001b[0;31mValueError\u001b[0m: invalid literal for int() with base 10: 'q'"
          ]
        }
      ],
      "source": [
        "def function_of_team(dict1):\n",
        "    dict1 = {}\n",
        "    name = input(\"Please enter your team : \")\n",
        "    wins = int(input(\"Please enter the wins rate : \"))\n",
        "    loss = int(input(\"Please enter losses rate of team : \"))\n",
        "    draws = int(input(\"Please enter the draws of team : \"))\n",
        "    scored = int(input(\"Please enter the scores of the team : \"))\n",
        "    conceded = int(input(\"Please enter the concede of the team : \"))\n",
        "    dict1[\"name\"] = name\n",
        "    dict1[\"wins\"] = wins\n",
        "    dict1[\"draws\"] = draws\n",
        "    dict1[\"scored\"] = scored\n",
        "    dict1[\"loss\"] = loss\n",
        "    dict1[\"conceded\"] = conceded\n",
        "    return dict1\n",
        "a = function_of_team(dict1={})\n",
        "b = function_of_team(dict1={})\n",
        "c = function_of_team(dict1={})\n",
        "dict2 = {}\n",
        "champions = [a, b, c]\n",
        "for i in champions:\n",
        "    count  = 0\n",
        "    count = count + i[\"wins\"]*3 + i[\"loss\"]*0 + i[\"draws\"] * 1\n",
        "    dict2[i[\"name\"]] = count\n",
        "a = (max(dict2, key=dict2.get))\n",
        "print(a)"
      ]
    }
  ]
}