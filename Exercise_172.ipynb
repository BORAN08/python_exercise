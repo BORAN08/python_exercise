{
  "nbformat": 4,
  "nbformat_minor": 0,
  "metadata": {
    "colab": {
      "name": "Exercise_172.ipynb",
      "provenance": [],
      "collapsed_sections": [],
      "authorship_tag": "ABX9TyNkO5jUE/eAt+9KYkIgpUpG",
      "include_colab_link": true
    },
    "kernelspec": {
      "name": "python3",
      "display_name": "Python 3"
    },
    "language_info": {
      "name": "python"
    }
  },
  "cells": [
    {
      "cell_type": "markdown",
      "metadata": {
        "id": "view-in-github",
        "colab_type": "text"
      },
      "source": [
        "<a href=\"https://colab.research.google.com/github/BORAN08/python_exercise/blob/main/Exercise_172.ipynb\" target=\"_parent\"><img src=\"https://colab.research.google.com/assets/colab-badge.svg\" alt=\"Open In Colab\"/></a>"
      ]
    },
    {
      "cell_type": "markdown",
      "source": [
        "Exercise 172\n",
        "An ATM ran out of 10 dollar bills and only has 100, 50 and 20 dollar bills.\n",
        "Given an amount between 40 and 10000 dollars (inclusive) and assuming that the ATM wants to use as few bills as possible, determinate the minimal number of 100, 50 and 20 dollar bills the ATM needs to dispense (in that order).\n",
        "Example\n",
        "For n = 250, the result should be [2, 1, 0].\n",
        "For n = 260, the result should be [2, 0, 3].\n",
        "For n = 370, the result should be [3, 1, 1].\n",
        "Input/Output\n",
        "[input] integer n Amount of money to withdraw. Assume that n is always exchangeable with [100, 50, 20] bills.\n",
        "[output] integer array An array of number of 100, 50 and 20 dollar bills needed to complete the withdraw (in that order)."
      ],
      "metadata": {
        "id": "27ndbJ0_ErYG"
      }
    },
    {
      "cell_type": "code",
      "execution_count": 40,
      "metadata": {
        "colab": {
          "base_uri": "https://localhost:8080/"
        },
        "id": "CKvzfUjxEqDJ",
        "outputId": "b6499b8b-834a-4bcd-a788-9fb9d31aa825"
      },
      "outputs": [
        {
          "output_type": "stream",
          "name": "stdout",
          "text": [
            "[100, 0, 0]\n",
            "[0, 0, 2]\n",
            "[3, 1, 1]\n",
            "[98, 1, 1]\n"
          ]
        }
      ],
      "source": [
        "def atm(n):\n",
        "  result=[]\n",
        "  if n/10%2==1:\n",
        "    result.append(n//100)\n",
        "    result.append((n-n//100*100)//50)\n",
        "    result.append((n-((n//100*100)+((n-n//100*100)//50*50)))//20)\n",
        "  else:\n",
        "    result.append(n//100)\n",
        "    result.append(0)\n",
        "    result.append((n-n//100*100)//20)\n",
        "  return result\n",
        "print(atm(10000))\n",
        "print(atm(40))\n",
        "print(atm(370))\n",
        "print(atm(9870))"
      ]
    }
  ]
}