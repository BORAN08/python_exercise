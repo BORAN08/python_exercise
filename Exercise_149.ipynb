{
  "nbformat": 4,
  "nbformat_minor": 0,
  "metadata": {
    "colab": {
      "name": "Exercise_149.ipynb",
      "provenance": [],
      "authorship_tag": "ABX9TyNwTdAqmXo/perTWizjitCX",
      "include_colab_link": true
    },
    "kernelspec": {
      "name": "python3",
      "display_name": "Python 3"
    },
    "language_info": {
      "name": "python"
    }
  },
  "cells": [
    {
      "cell_type": "markdown",
      "metadata": {
        "id": "view-in-github",
        "colab_type": "text"
      },
      "source": [
        "<a href=\"https://colab.research.google.com/github/BORAN08/python_exercise/blob/main/Exercise_149.ipynb\" target=\"_parent\"><img src=\"https://colab.research.google.com/assets/colab-badge.svg\" alt=\"Open In Colab\"/></a>"
      ]
    },
    {
      "cell_type": "markdown",
      "source": [
        "Exercise_149)\n",
        "\n",
        "There are number of lockers \"n\" and number of students \"n\" in the school. The principal asks the first student to go to every locker and open it. Then he has the second student go to every second locker and close it. The third goes to every third locker and, if it is closed, he opens it, and if it is open, he closes it. The fourth student does this to every fourth locker, and so on. After the process is completed with the \"n\"th student, how many lockers are open?\n",
        "\n",
        "The task is to write a function which gets any number as an input and returns the number of open lockers after last sudent complets his activity. So input of the function is just one number which shows number of lockers and number of students. For example if there are 1000 lockers and 1000 students in school then input is 1000 and function returns number of open lockers after 1000th student completes his action.\n",
        "\n",
        "The given input is always an integer greater than or equal to zero that is why there is no need for validation."
      ],
      "metadata": {
        "id": "I0EMquFULNdQ"
      }
    },
    {
      "cell_type": "code",
      "execution_count": 1,
      "metadata": {
        "colab": {
          "base_uri": "https://localhost:8080/"
        },
        "id": "6qPIfVMKLFwD",
        "outputId": "484216c4-ac4a-49cf-9eb8-9c3fdaf13469"
      },
      "outputs": [
        {
          "output_type": "execute_result",
          "data": {
            "text/plain": [
              "31"
            ]
          },
          "metadata": {},
          "execution_count": 1
        }
      ],
      "source": [
        "def locker(n):\n",
        "  on_off=[0]*n\n",
        "  for i in range(1,n):\n",
        "    for j in range(i,n,i+1):\n",
        "      if on_off[j]==0: on_off[j]=1\n",
        "      elif on_off[j]==1: on_off[j]=0\n",
        "  return on_off.count(0)\n",
        "locker(1000)"
      ]
    }
  ]
}