{
  "nbformat": 4,
  "nbformat_minor": 0,
  "metadata": {
    "colab": {
      "name": "Exercise_160.ipynb",
      "provenance": [],
      "authorship_tag": "ABX9TyOHvD9zxdSamizeinazlqH5",
      "include_colab_link": true
    },
    "kernelspec": {
      "name": "python3",
      "display_name": "Python 3"
    },
    "language_info": {
      "name": "python"
    }
  },
  "cells": [
    {
      "cell_type": "markdown",
      "metadata": {
        "id": "view-in-github",
        "colab_type": "text"
      },
      "source": [
        "<a href=\"https://colab.research.google.com/github/BORAN08/python_exercise/blob/main/Exercise_160.ipynb\" target=\"_parent\"><img src=\"https://colab.research.google.com/assets/colab-badge.svg\" alt=\"Open In Colab\"/></a>"
      ]
    },
    {
      "cell_type": "markdown",
      "source": [
        "Exercise-160\n",
        "Given an n x n array, return the array elements arranged from outermost elements to the middle element, traveling clockwise.\n",
        "\n",
        "array = [[1,2,3],\n",
        "         [4,5,6],\n",
        "         [7,8,9]]\n",
        "\n",
        "snail(array) #=> [1,2,3,6,9,8,7,4,5]\n",
        "\n",
        "For better understanding, please follow the numbers of the next array consecutively:\n",
        "\n",
        "array = [[1,2,3],\n",
        "         [8,9,4],\n",
        "         [7,6,5]]\n",
        "\n",
        "snail(array) #=> [1,2,3,4,5,6,7,8,9]\n",
        "\n",
        "This image will illustrate things more clearly:\n",
        "\n",
        "NOTE: The idea is not sort the elements from the lowest value to the highest; the idea is to traverse the 2-d array in a clockwise snailshell pattern.\n",
        "\n",
        "NOTE 2: The 0x0 (empty matrix) is represented as en empty array inside an array [[]].\n",
        "\n",
        "![image (14).png](data:image/png;base64,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)"
      ],
      "metadata": {
        "id": "n6DM02GsjXI-"
      }
    },
    {
      "cell_type": "code",
      "execution_count": null,
      "metadata": {
        "id": "BoKZuhqUjV2Y"
      },
      "outputs": [],
      "source": [
        "def snail(array):\n",
        "  new_array=[]\n",
        "  while True:\n",
        "    if array:\n",
        "      new_array.extend(array.pop(0))\n",
        "      array=list(zip(*array))[::-1]\n",
        "    else:\n",
        "      break\n",
        "  return new_array "
      ]
    }
  ]
}