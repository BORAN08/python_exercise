{
  "nbformat": 4,
  "nbformat_minor": 0,
  "metadata": {
    "colab": {
      "name": "Exercise_178.ipynb",
      "provenance": [],
      "authorship_tag": "ABX9TyMRHf58KjZDHvqJs65EhinF",
      "include_colab_link": true
    },
    "kernelspec": {
      "name": "python3",
      "display_name": "Python 3"
    },
    "language_info": {
      "name": "python"
    }
  },
  "cells": [
    {
      "cell_type": "markdown",
      "metadata": {
        "id": "view-in-github",
        "colab_type": "text"
      },
      "source": [
        "<a href=\"https://colab.research.google.com/github/BORAN08/python_exercise/blob/main/Exercise_178.ipynb\" target=\"_parent\"><img src=\"https://colab.research.google.com/assets/colab-badge.svg\" alt=\"Open In Colab\"/></a>"
      ]
    },
    {
      "cell_type": "markdown",
      "source": [
        "Exercise_178\n",
        "\n",
        "You certainly can tell which is the larger number between 210 and 215.\n",
        "\n",
        "But what about, say, 210 and 310? You know this one too.\n",
        "\n",
        "Things tend to get a bit more complicated with both different bases and exponents: which is larger between 39 and 56?\n",
        "\n",
        "Well, by now you have surely guessed that you have to build a function to compare powers, returning -1 if the first member is larger, 0 if they are equal, 1 otherwise; powers to compare will be provided in the [base, exponent] format:\n",
        "\n",
        "compare_powers([2,10],[2,15])==1\n",
        "\n",
        "compare_powers([2,10],[3,10])==1\n",
        "\n",
        "compare_powers([2,10],[2,10])==0\n",
        "\n",
        "compare_powers([3,9],[5,6])==-1\n",
        "\n",
        "compare_powers([7,7],[5,8])==-1\n",
        "\n",
        "Only positive integers will be tested, incluing bigger numbers - you are warned now, so be diligent try to implement an efficient solution not to drain too much on CW resources ;)!"
      ],
      "metadata": {
        "id": "mugDjk_tqLr8"
      }
    },
    {
      "cell_type": "code",
      "source": [
        "def compare_powers(n1,n2):\n",
        "  if n1[0]==n2[0] and n1[1]>n2[1]:return -1\n",
        "  elif n1[0]==n2[0] and n1[1]<n2[1]:return 1\n",
        "  elif n1[1]==n2[1] and n1[0]<n2[0]:return 1\n",
        "  elif n1[1]==n2[1] and n1[0]>n2[0]:return -1\n",
        "  elif n1[1]==n2[1] and n1[0]==n2[0]:return 0\n",
        "  else:\n",
        "    if pow(*n1)>pow(*n2):return -1\n",
        "    if pow(*n1)<pow(*n2):return 1\n",
        "\n",
        "print(compare_powers([2,10],[2,15]))\n",
        "print(compare_powers([2,10],[3,10]))\n",
        "print(compare_powers([2,10],[2,10]))\n",
        "print(compare_powers([3,9],[5,6]))\n",
        "print(compare_powers([7,7],[5,8]))\n",
        "print(compare_powers([2400, 4800],[3000, 4000]))\n",
        "print(compare_powers([9737, 4987],[3777, 97779]))"
      ],
      "metadata": {
        "colab": {
          "base_uri": "https://localhost:8080/"
        },
        "id": "hyz55U7euJa3",
        "outputId": "4e258aed-72a8-4856-8d9b-6e3b052ac4a6"
      },
      "execution_count": 9,
      "outputs": [
        {
          "output_type": "stream",
          "name": "stdout",
          "text": [
            "1\n",
            "1\n",
            "0\n",
            "-1\n",
            "-1\n",
            "-1\n",
            "1\n"
          ]
        }
      ]
    },
    {
      "cell_type": "markdown",
      "source": [
        "D1166 Yusuf's salute"
      ],
      "metadata": {
        "id": "L1ydQXCNwi1m"
      }
    },
    {
      "cell_type": "code",
      "execution_count": 3,
      "metadata": {
        "colab": {
          "base_uri": "https://localhost:8080/"
        },
        "id": "s-xXul6yqEFo",
        "outputId": "82c69d78-d9ba-41ec-f9ec-6979f3c66689"
      },
      "outputs": [
        {
          "output_type": "stream",
          "name": "stdout",
          "text": [
            "-1\n"
          ]
        }
      ],
      "source": [
        "from math import gcd\n",
        "\n",
        "def compare_powers(lst1, lst2):\n",
        "    a, b = lst1\n",
        "    c, d = lst2\n",
        "\n",
        "    if a == c:\n",
        "        return 1 if d>b else -1 if d<b else 0\n",
        "    if b == d:\n",
        "        return 1 if c>a else -1 if c<a else 0\n",
        "\n",
        "    x = gcd(b, d)\n",
        "    b //= x\n",
        "    d //= x\n",
        "\n",
        "    return 1 if c**d>a**b else -1 if c**d<a**b else 0\n",
        "\n",
        "print(compare_powers([2737, 4987],[3777, 4777]))"
      ]
    }
  ]
}