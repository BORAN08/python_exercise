{
  "nbformat": 4,
  "nbformat_minor": 0,
  "metadata": {
    "colab": {
      "name": "Exercise_2.ipynb",
      "provenance": []
    },
    "kernelspec": {
      "name": "python3",
      "display_name": "Python 3"
    },
    "language_info": {
      "name": "python"
    }
  },
  "cells": [
    {
      "cell_type": "markdown",
      "metadata": {
        "id": "bmqSjAdf0v4a"
      },
      "source": [
        "Python Exercise\n",
        "Write a Python program to get the least common multiple (LCM) of two positive integers."
      ]
    },
    {
      "cell_type": "code",
      "metadata": {
        "colab": {
          "base_uri": "https://localhost:8080/"
        },
        "id": "u-3ILFpX0u1v",
        "outputId": "ab54bb2e-e047-4e95-f9ca-60761511bd2c"
      },
      "source": [
        "\n",
        "a=10\n",
        "b=12\n",
        "if a%b==0:\n",
        "  ekok=a\n",
        "elif b%a==0:\n",
        "  ekok=b\n",
        "else:\n",
        "  c=a*b\n",
        "  for i in range(c,1,-1):\n",
        "    if i%a==0 and i%b==0:\n",
        "      print(\"Ortak Katlar:\",i)\n",
        "      ekok=i\n",
        "print(\"EKOK:\",ekok)"
      ],
      "execution_count": 1,
      "outputs": [
        {
          "output_type": "stream",
          "name": "stdout",
          "text": [
            "Ortak Katlar: 120\n",
            "Ortak Katlar: 60\n",
            "EKOK: 60\n"
          ]
        }
      ]
    }
  ]
}
