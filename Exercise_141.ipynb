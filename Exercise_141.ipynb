{
  "nbformat": 4,
  "nbformat_minor": 0,
  "metadata": {
    "colab": {
      "name": "Exercise_141.ipynb",
      "provenance": [],
      "authorship_tag": "ABX9TyPegvgwb8MQRpU+xgUIjPid",
      "include_colab_link": true
    },
    "kernelspec": {
      "name": "python3",
      "display_name": "Python 3"
    },
    "language_info": {
      "name": "python"
    }
  },
  "cells": [
    {
      "cell_type": "markdown",
      "metadata": {
        "id": "view-in-github",
        "colab_type": "text"
      },
      "source": [
        "<a href=\"https://colab.research.google.com/github/BORAN08/python_exercise/blob/main/Exercise_141.ipynb\" target=\"_parent\"><img src=\"https://colab.research.google.com/assets/colab-badge.svg\" alt=\"Open In Colab\"/></a>"
      ]
    },
    {
      "cell_type": "markdown",
      "source": [
        "Exercise 141\n",
        "\n",
        "All Pairs that Sum to Target\n",
        "\n",
        "Create a function that returns all pairs of numbers in an array that sum to a target. Sort the pairs in ascending order with respect to the smaller number, then order each pair in this order: [smaller, larger].\n",
        "\n",
        "Examples\n",
        "\n",
        "allPairs([2, 4, 5, 3], 7) ➞ [[2, 5], [3, 4]]\n",
        "\n",
        "// 2 + 5 = 7, 3 + 4 = 7\n",
        "\n",
        "\n",
        "allPairs([5, 3, 9, 2, 1], 3) ➞ [[1, 2]]\n",
        "\n",
        "\n",
        "allPairs([4, 5, 1, 3, 6, 8], 9) ➞ [[1, 8], [3, 6], [4, 5]]\n",
        "\n",
        "// Sorted: 1 < 3 < 4; each pair is ordered [smaller, larger]\n",
        "\n",
        "Notes\n",
        "\n",
        "If no pairs are found, return an empty array [].\n",
        "\n",
        "You are only allowed to use each number once in a pair."
      ],
      "metadata": {
        "id": "Eslk0lMEq49m"
      }
    },
    {
      "cell_type": "code",
      "execution_count": 3,
      "metadata": {
        "colab": {
          "base_uri": "https://localhost:8080/"
        },
        "id": "veEsWsFsqsc3",
        "outputId": "f3a97ae7-d751-40a1-d07e-e30990e87a6b"
      },
      "outputs": [
        {
          "output_type": "execute_result",
          "data": {
            "text/plain": [
              "[[1, 8], [3, 6], [4, 5]]"
            ]
          },
          "metadata": {},
          "execution_count": 3
        }
      ],
      "source": [
        "def allPairs(pair,n):\n",
        "  return sorted([[i,j] for  i in pair for j in pair[pair.index(i):] if i+j==n ])\n",
        "allPairs([4, 5, 1, 3, 6, 8], 9)"
      ]
    }
  ]
}