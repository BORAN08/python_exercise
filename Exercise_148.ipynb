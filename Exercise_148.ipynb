{
  "nbformat": 4,
  "nbformat_minor": 0,
  "metadata": {
    "colab": {
      "name": "Exercise_148.ipynb",
      "provenance": [],
      "authorship_tag": "ABX9TyMvEccwU27Eq9ZlFAQrZR4C",
      "include_colab_link": true
    },
    "kernelspec": {
      "name": "python3",
      "display_name": "Python 3"
    },
    "language_info": {
      "name": "python"
    }
  },
  "cells": [
    {
      "cell_type": "markdown",
      "metadata": {
        "id": "view-in-github",
        "colab_type": "text"
      },
      "source": [
        "<a href=\"https://colab.research.google.com/github/BORAN08/python_exercise/blob/main/Exercise_148.ipynb\" target=\"_parent\"><img src=\"https://colab.research.google.com/assets/colab-badge.svg\" alt=\"Open In Colab\"/></a>"
      ]
    },
    {
      "cell_type": "markdown",
      "source": [
        "Exercise_148\n",
        "\n",
        "This challenge is based on the classic videogame \"Snake\".\n",
        "Assume the game screen is an n * n square, and the snake starts the game with length 1 (i.e. just the head) positioned on the top left corner.\n",
        "For example, if n = 7 the game looks something like this:\n",
        "In this version of the game, the length of the snake doubles each time it eats food (e.g. if the length is 4, after eating it becomes 8).\n",
        "Create a function that takes the side n of the game screen and returns the number of times the snake can eat before it runs out of space in the game screen.\n",
        "Examples\n",
        "snakefill(3) ➞ 3\n",
        "\n",
        "snakefill(6) ➞ 5\n",
        "\n",
        "snakefill(24) ➞ 9"
      ],
      "metadata": {
        "id": "Iqh6HYniOhvX"
      }
    },
    {
      "cell_type": "code",
      "execution_count": 1,
      "metadata": {
        "colab": {
          "base_uri": "https://localhost:8080/"
        },
        "id": "rzvmd4gyOhXL",
        "outputId": "13703be0-a0f6-4113-ba82-9f7fb2424468"
      },
      "outputs": [
        {
          "output_type": "execute_result",
          "data": {
            "text/plain": [
              "9"
            ]
          },
          "metadata": {},
          "execution_count": 1
        }
      ],
      "source": [
        "def snakefill(n):\n",
        "  s=[1]\n",
        "  for i in range(1,n+1):\n",
        "    s.append(s[-1]*2)\n",
        "    if sum(s)>n*n:\n",
        "      break\n",
        "  return len(s)-1\n",
        "snakefill(24)"
      ]
    }
  ]
}