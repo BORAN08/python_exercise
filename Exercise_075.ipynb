{
  "nbformat": 4,
  "nbformat_minor": 0,
  "metadata": {
    "colab": {
      "name": "Exercise_75.ipynb",
      "provenance": [],
      "authorship_tag": "ABX9TyPg8Q6hZUZc08A0eihtzCJx",
      "include_colab_link": true
    },
    "kernelspec": {
      "name": "python3",
      "display_name": "Python 3"
    },
    "language_info": {
      "name": "python"
    }
  },
  "cells": [
    {
      "cell_type": "markdown",
      "metadata": {
        "id": "view-in-github",
        "colab_type": "text"
      },
      "source": [
        "<a href=\"https://colab.research.google.com/github/BORAN08/python_exercise/blob/main/Exercise_75.ipynb\" target=\"_parent\"><img src=\"https://colab.research.google.com/assets/colab-badge.svg\" alt=\"Open In Colab\"/></a>"
      ]
    },
    {
      "cell_type": "markdown",
      "source": [
        "Exercise -75\n",
        "\n",
        "You are given an m x n integer grid accounts where accounts[i][j] is the amount of money the i​​​​​​​​​​​th customer has in the j​​​​​​​​​​​th bank. Return the wealth that the richest customer has.\n",
        "\n",
        "A customer's wealth is the amount of money they have in all their bank accounts. The richest customer is the customer that has the maximum wealth.\n",
        "\n",
        "Example 1:\n",
        "\n",
        "Input: accounts = [[1,2,3],[3,2,1]]\n",
        "\n",
        "Output: 6\n",
        "\n",
        "Explanation:\n",
        "\n",
        "1st customer has wealth = 1 + 2 + 3 = 6\n",
        "\n",
        "2nd customer has wealth = 3 + 2 + 1 = 6\n",
        "\n",
        "Both customers are considered the richest with a wealth of 6 each, so return 6.\n",
        "\n",
        "Example 2:\n",
        "\n",
        "Input: accounts = [[1,5],[7,3],[3,5]]\n",
        "\n",
        "Output: 10\n",
        "\n",
        "Explanation: \n",
        "\n",
        "1st customer has wealth = 6\n",
        "\n",
        "2nd customer has wealth = 10 \n",
        "\n",
        "3rd customer has wealth = 8\n",
        "\n",
        "The 2nd customer is the richest with a wealth of 10."
      ],
      "metadata": {
        "id": "gg1RAcx6cvNc"
      }
    },
    {
      "cell_type": "code",
      "execution_count": 1,
      "metadata": {
        "colab": {
          "base_uri": "https://localhost:8080/"
        },
        "id": "7cvDWasIculC",
        "outputId": "fc785925-682d-4690-a9ba-8550fab35f94"
      },
      "outputs": [
        {
          "output_type": "stream",
          "name": "stdout",
          "text": [
            "2 nd customer is the richest\n"
          ]
        }
      ],
      "source": [
        "a=[[1,5],[7,3],[3,5]]\n",
        "wealth=[]\n",
        "for i in a:\n",
        "  sum_i=0\n",
        "  for j in i:\n",
        "    sum_i+=j\n",
        "  wealth.append(sum_i)\n",
        "print(wealth.index(max(wealth))+1,\"nd customer is the richest\")"
      ]
    }
  ]
}
