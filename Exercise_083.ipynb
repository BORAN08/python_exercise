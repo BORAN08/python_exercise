{
  "nbformat": 4,
  "nbformat_minor": 0,
  "metadata": {
    "colab": {
      "name": "Exercise_083.ipynb",
      "provenance": [],
      "authorship_tag": "ABX9TyPjsKCG5MHs7PXH2lNSb865",
      "include_colab_link": true
    },
    "kernelspec": {
      "name": "python3",
      "display_name": "Python 3"
    },
    "language_info": {
      "name": "python"
    }
  },
  "cells": [
    {
      "cell_type": "markdown",
      "metadata": {
        "id": "view-in-github",
        "colab_type": "text"
      },
      "source": [
        "<a href=\"https://colab.research.google.com/github/BORAN08/python_exercise/blob/main/Exercise_083.ipynb\" target=\"_parent\"><img src=\"https://colab.research.google.com/assets/colab-badge.svg\" alt=\"Open In Colab\"/></a>"
      ]
    },
    {
      "cell_type": "markdown",
      "source": [
        "Exercise - 83 : Given a function that accepts unlimited arguments, check and count how many data types are in those arguments. Finally return the total in a list. List order is: [int, str, bool, list, tuple, dictionary] Examples [1, 45, \"Hi\", False] ➞ [2, 1, 1, 0, 0, 0]\n",
        "\n",
        "[[10, 20], (\"t\", \"Ok\"), 2, 3, 1] ➞ [3, 0, 0, 1, 1, 0]\n",
        "\n",
        "[\"Hello\", \"Bye\", True, True, False, {\"1\": \"One\", \"2\": \"Two\"}, [1, 3], {\"Brayan\": 18}, 25, 23] ➞ [2, 2, 3, 1, 0, 2]\n",
        "\n",
        "[4, 21, (\"ES\", \"EN\"), (\"a\", \"b\"), False, [1, 2, 3], [4, 5, 6]] ➞ [2, 0, 1, 2, 2, 0]"
      ],
      "metadata": {
        "id": "kkrj9lhw8Cfx"
      }
    },
    {
      "cell_type": "code",
      "execution_count": 1,
      "metadata": {
        "colab": {
          "base_uri": "https://localhost:8080/"
        },
        "id": "4XlWz1cf7_ot",
        "outputId": "e4c060c5-1bfd-4ac0-817d-006b1bbfc3d1"
      },
      "outputs": [
        {
          "output_type": "stream",
          "name": "stdout",
          "text": [
            "[\"Hello\", \"Bye\", True, True, False, {\"1\": \"One\", \"2\": \"Two\"}, [1, 3], {\"Brayan\": 18}, 25, 23]\n",
            "[2, 2, 3, 1, 0, 2]\n"
          ]
        }
      ],
      "source": [
        "mylist=eval(input(\"\"))\n",
        "int_, str_, bool_, list_, tuple_, dict_=0,0,0,0,0,0\n",
        "for i in mylist:\n",
        "  if type(i)==int:\n",
        "    int_+=1\n",
        "  elif type(i)==str:\n",
        "    str_+=1\n",
        "  elif type(i)==bool:\n",
        "    bool_+=1\n",
        "  elif type(i)==list:\n",
        "    list_+=1\n",
        "  elif type(i)==tuple:\n",
        "    tuple_+=1\n",
        "  elif type(i)==dict:\n",
        "    dict_+=1\n",
        "print([int_, str_, bool_, list_, tuple_, dict_])"
      ]
    }
  ]
}