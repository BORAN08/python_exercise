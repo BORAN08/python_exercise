{
  "nbformat": 4,
  "nbformat_minor": 0,
  "metadata": {
    "colab": {
      "name": "Exercise_168.ipynb",
      "provenance": [],
      "authorship_tag": "ABX9TyM7sRKwIiloMrkEqsX7c68O",
      "include_colab_link": true
    },
    "kernelspec": {
      "name": "python3",
      "display_name": "Python 3"
    },
    "language_info": {
      "name": "python"
    }
  },
  "cells": [
    {
      "cell_type": "markdown",
      "metadata": {
        "id": "view-in-github",
        "colab_type": "text"
      },
      "source": [
        "<a href=\"https://colab.research.google.com/github/BORAN08/python_exercise/blob/main/Exercise_168.ipynb\" target=\"_parent\"><img src=\"https://colab.research.google.com/assets/colab-badge.svg\" alt=\"Open In Colab\"/></a>"
      ]
    },
    {
      "cell_type": "markdown",
      "source": [
        "Exercise-168\n",
        "Write a function called sumIntervals/sum_intervals() that accepts an array of intervals, and returns the sum of all the interval lengths. Overlapping intervals should only be counted once.\n",
        "Intervals\n",
        "Intervals are represented by a pair of integers in the form of an array. The first value of the interval will always be less than the second value. Interval example: [1, 5] is an interval from 1 to 5. The length of this interval is 4.\n",
        "Overlapping Intervals\n",
        "List containing overlapping intervals:\n",
        "[\n",
        "   [1,4],\n",
        "   [7, 10],\n",
        "   [3, 5]\n",
        "]\n",
        "The sum of the lengths of these intervals is 7. Since [1, 4] and [3, 5] overlap, we can treat the interval as [1, 5], which has a length of 4.\n",
        "Examples:\n",
        "sumIntervals( [\n",
        "   [1,2],\n",
        "   [6, 10],\n",
        "   [11, 15]\n",
        "] ); // => 9\n",
        "\n",
        "sumIntervals( [\n",
        "   [1,4],\n",
        "   [7, 10],\n",
        "   [3, 5]\n",
        "] ); // => 7\n",
        "\n",
        "sumIntervals( [\n",
        "   [1,5],\n",
        "   [10, 20],\n",
        "   [1, 6],\n",
        "   [16, 19],\n",
        "   [5, 11]\n",
        "] ); // => 19"
      ],
      "metadata": {
        "id": "a44ar8-82UZh"
      }
    },
    {
      "cell_type": "code",
      "execution_count": 1,
      "metadata": {
        "colab": {
          "base_uri": "https://localhost:8080/"
        },
        "id": "3omNqsVu2Q-I",
        "outputId": "f471be42-242d-4690-8b5d-5c37a8740310"
      },
      "outputs": [
        {
          "output_type": "execute_result",
          "data": {
            "text/plain": [
              "19"
            ]
          },
          "metadata": {},
          "execution_count": 1
        }
      ],
      "source": [
        "def sum_of_intervals(n):\n",
        "    interval= set(t for i,j in n for t in range(i,j))      \n",
        "    return len(interval)\n",
        "sum_of_intervals([ [1,5], [10, 20], [1, 6], [16, 19], [5, 11] ])"
      ]
    },
    {
      "cell_type": "markdown",
      "source": [
        "D1155 Melek's solution"
      ],
      "metadata": {
        "id": "q-D6FcE02h4e"
      }
    },
    {
      "cell_type": "code",
      "source": [
        "def sumIntervals(arry) :\n",
        "  return len(set([j for i in [list(range(i,j)) for i,j in arry] for j in i]))"
      ],
      "metadata": {
        "id": "WosKm43S2gJI"
      },
      "execution_count": 2,
      "outputs": []
    }
  ]
}