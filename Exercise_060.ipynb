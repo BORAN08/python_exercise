{
  "nbformat": 4,
  "nbformat_minor": 0,
  "metadata": {
    "colab": {
      "name": "Exercise_060.ipynb",
      "provenance": [],
      "authorship_tag": "ABX9TyNZ8DK9NYomFKzFSxBwh7fd",
      "include_colab_link": true
    },
    "kernelspec": {
      "name": "python3",
      "display_name": "Python 3"
    },
    "language_info": {
      "name": "python"
    }
  },
  "cells": [
    {
      "cell_type": "markdown",
      "metadata": {
        "id": "view-in-github",
        "colab_type": "text"
      },
      "source": [
        "<a href=\"https://colab.research.google.com/github/BORAN08/python_exercise/blob/main/Exercise_060.ipynb\" target=\"_parent\"><img src=\"https://colab.research.google.com/assets/colab-badge.svg\" alt=\"Open In Colab\"/></a>"
      ]
    },
    {
      "cell_type": "markdown",
      "source": [
        "Exercise_60\n",
        "\n",
        "In this kata you are required to, given a string, replace every letter with its position in the alphabet.\n",
        "\n",
        "If anything in the text isn't a letter, ignore it and don't return it.\n",
        "\n",
        "\"a\" = 1, \"b\" = 2, etc.\n",
        "\n",
        "Example alphabet_position(\"The sunset sets at twelve o' clock.\") Should return \"20 8 5 19 21 14 19 5 20 19 5 20 19 1 20 20 23 5 12 22 5 15 3 12 15 3 11\" (as a string)"
      ],
      "metadata": {
        "id": "tpP2g6-K67Xl"
      }
    },
    {
      "cell_type": "code",
      "execution_count": 2,
      "metadata": {
        "colab": {
          "base_uri": "https://localhost:8080/"
        },
        "id": "ebNb6XkL65Wi",
        "outputId": "5902fd75-aeed-4866-8970-c59d782b7375"
      },
      "outputs": [
        {
          "output_type": "stream",
          "name": "stdout",
          "text": [
            "The sunset sets at twelve o' clock\n",
            "20 8 5 19 21 14 19 5 20 19 5 20 19 1 20 20 23 5 12 22 5 15 3 12 15 3 11\n"
          ]
        }
      ],
      "source": [
        "import string\n",
        "a=string.ascii_lowercase\n",
        "k=dict(zip(a,range(1,27)))\n",
        "words=input(\"\").lower()\n",
        "s=[]\n",
        "for i in words:\n",
        "  if i in k:\n",
        "    z=str(k.get(i))\n",
        "    s.append(z)\n",
        "q=\" \".join(s)\n",
        "print(q)"
      ]
    }
  ]
}