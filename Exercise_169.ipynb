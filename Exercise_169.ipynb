{
  "nbformat": 4,
  "nbformat_minor": 0,
  "metadata": {
    "colab": {
      "name": "Exercise_169.ipynb",
      "provenance": [],
      "collapsed_sections": [],
      "authorship_tag": "ABX9TyNu360vrEV6yU4EaiOfMuaN",
      "include_colab_link": true
    },
    "kernelspec": {
      "name": "python3",
      "display_name": "Python 3"
    },
    "language_info": {
      "name": "python"
    }
  },
  "cells": [
    {
      "cell_type": "markdown",
      "metadata": {
        "id": "view-in-github",
        "colab_type": "text"
      },
      "source": [
        "<a href=\"https://colab.research.google.com/github/BORAN08/python_exercise/blob/main/Exercise_169.ipynb\" target=\"_parent\"><img src=\"https://colab.research.google.com/assets/colab-badge.svg\" alt=\"Open In Colab\"/></a>"
      ]
    },
    {
      "cell_type": "markdown",
      "source": [
        "Exercise-169\n",
        "Your task in this Kata is to emulate text justify right in monospace font. You will be given a single-lined text and the expected justification width. The longest word will never be greater than this width.\n",
        "Here are the rules:\n",
        "Use spaces to fill in the gaps on the left side of the words.\n",
        "Each line should contain as many words as possible.\n",
        "Use '\\n' to separate lines.\n",
        "Gap between words can't differ by more than one space.\n",
        "Lines should end with a word not a space.\n",
        "'\\n' is not included in the length of a line.\n",
        "Last line should not contain '\\n'\n",
        "Example with width=30:\n",
        "        Bacon ipsum dolor amet\n",
        "excepteur ut kevin burgdoggen,\n",
        "   shankle cupim dolor officia\n",
        "       ground round id ullamco\n",
        "   deserunt nisi. Commodo tail\n",
        "    qui salami, brisket boudin \n",
        "tri-tip. Labore flank laboris,\n",
        "  cow enim proident aliqua sed\n",
        "      hamburger consequat. Sed\n",
        "     consequat ut non bresaola\n",
        "   capicola shoulder excepteur\n",
        " veniam, bacon kevin. Pastrami\n",
        "   shank laborum est excepteur\n",
        " non eiusmod bresaola flank in\n",
        "nostrud. Corned beef ex pig do\n",
        "   kevin filet mignon in irure\n",
        " deserunt ipsum qui duis short\n",
        "        loin. Beef ribs dolore\n",
        "  meatball officia rump fugiat\n",
        "  in enim corned beef non est."
      ],
      "metadata": {
        "id": "rmLo8NjixYKr"
      }
    },
    {
      "cell_type": "code",
      "execution_count": 1,
      "metadata": {
        "colab": {
          "base_uri": "https://localhost:8080/"
        },
        "id": "40-gUrDYxWIQ",
        "outputId": "a41b4710-dc03-45cb-8eb8-cfea0193f909"
      },
      "outputs": [
        {
          "output_type": "stream",
          "name": "stdout",
          "text": [
            "   Lorem ipsum dolor sit amet,\n",
            "  consectetur adipiscing elit.\n",
            " Cras iaculis sem vitae ligula\n",
            "   tempor, et facilisis tortor\n",
            "    mattis. Suspendisse tempus\n",
            "     nibh a lectus commodo, in\n",
            "    volutpat est pellentesque.\n",
            "   Quisque eget lectus ligula.\n",
            "Donec nisl mi, volutpat id est\n",
            "       vitae, elementum tempor\n",
            "  turpis. Sed pharetra laoreet\n",
            "    lacus, sit amet vestibulum\n",
            "      eros pellentesque vitae.\n",
            "      Aenean scelerisque nulla\n",
            "      tortor, ac mollis mauris\n",
            "consectetur non. Mauris mattis\n",
            "    ac ante tincidunt maximus.\n",
            "    Donec quis sapien non diam\n",
            " iaculis tempor sed nec metus.\n",
            "   Fusce consectetur turpis ac\n",
            "             finibus interdum.\n"
          ]
        }
      ],
      "source": [
        "import textwrap\n",
        "def align_right(text,width):\n",
        "    return \"\\n\".join([i.rjust(width, ' ') for i in textwrap.wrap(text, width)])\n",
        "txt = \"Lorem ipsum dolor sit amet, consectetur adipiscing elit. Cras iaculis sem vitae ligula tempor, et facilisis tortor mattis. Suspendisse tempus nibh a lectus commodo, in volutpat est pellentesque. Quisque eget lectus ligula. Donec nisl mi, volutpat id est vitae, elementum tempor turpis. Sed pharetra laoreet lacus, sit amet vestibulum eros pellentesque vitae. Aenean scelerisque nulla tortor, ac mollis mauris consectetur non. Mauris mattis ac ante tincidunt maximus. Donec quis sapien non diam iaculis tempor sed nec metus. Fusce consectetur turpis ac finibus interdum.\"\n",
        "print(align_right(txt,30)) "
      ]
    },
    {
      "cell_type": "markdown",
      "source": [
        "D1220-Leyla's solution"
      ],
      "metadata": {
        "id": "Cl0rjgNXxn3i"
      }
    },
    {
      "cell_type": "code",
      "source": [
        "text = \"Lorem ipsum dolor sit amet, consectetur adipiscing elit. Cras iaculis sem vitae ligula tempor, et facilisis tortor mattis. Suspendisse tempus nibh a lectus commodo, in volutpat est pellentesque. Quisque eget lectus ligula. Donec nisl mi, volutpat id est vitae, elementum tempor turpis. Sed pharetra laoreet lacus, sit amet vestibulum eros pellentesque vitae. Aenean scelerisque nulla tortor, ac mollis mauris consectetur non. Mauris mattis ac ante tincidunt maximus. Donec quis sapien non diam iaculis tempor sed nec metus. Fusce consectetur turpis ac finibus interdum.\"\n",
        "def monospace(text, width):\n",
        "  output = \"\"\n",
        "  text = text.split()\n",
        "  line = \"\"\n",
        "  for word in text:\n",
        "    if len(line) + len(word) + 1 > width:\n",
        "      output = output + ((width-len(line))*\" \") + line + \"\\n\"\n",
        "      line = word\n",
        "    else:\n",
        "      line = line + ' ' + word\n",
        "  return output + line\n",
        "print(monospace(text, 30))"
      ],
      "metadata": {
        "colab": {
          "base_uri": "https://localhost:8080/"
        },
        "id": "IpxtNhVzxkJk",
        "outputId": "5631b30e-6c1f-4e8e-ae11-67f8bdb9c061"
      },
      "execution_count": 4,
      "outputs": [
        {
          "output_type": "stream",
          "name": "stdout",
          "text": [
            "   Lorem ipsum dolor sit amet,\n",
            "  consectetur adipiscing elit.\n",
            " Cras iaculis sem vitae ligula\n",
            "   tempor, et facilisis tortor\n",
            "    mattis. Suspendisse tempus\n",
            "     nibh a lectus commodo, in\n",
            "    volutpat est pellentesque.\n",
            "   Quisque eget lectus ligula.\n",
            "Donec nisl mi, volutpat id est\n",
            "       vitae, elementum tempor\n",
            "  turpis. Sed pharetra laoreet\n",
            "    lacus, sit amet vestibulum\n",
            "      eros pellentesque vitae.\n",
            "      Aenean scelerisque nulla\n",
            "      tortor, ac mollis mauris\n",
            "consectetur non. Mauris mattis\n",
            "    ac ante tincidunt maximus.\n",
            "    Donec quis sapien non diam\n",
            " iaculis tempor sed nec metus.\n",
            "   Fusce consectetur turpis ac\n",
            "finibus interdum.\n"
          ]
        }
      ]
    }
  ]
}