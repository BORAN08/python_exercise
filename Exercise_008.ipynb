{
  "nbformat": 4,
  "nbformat_minor": 0,
  "metadata": {
    "colab": {
      "name": "Exercise_8.ipynb",
      "provenance": []
    },
    "kernelspec": {
      "name": "python3",
      "display_name": "Python 3"
    },
    "language_info": {
      "name": "python"
    }
  },
  "cells": [
    {
      "cell_type": "markdown",
      "source": [
        "Python Exercise\n",
        "The user enters a string and a substring. You have to print the number of times that the substring occurs in the given string. String traversal will take place from left to right, not from right to left.\n",
        "NOTE: String letters are case-sensitive.\n",
        "Sample Input\n",
        "ABCDCDC\n",
        "CDC\n",
        "Sample Output\n",
        "2"
      ],
      "metadata": {
        "id": "MAO_JCsTgZtO"
      }
    },
    {
      "cell_type": "code",
      "execution_count": 1,
      "metadata": {
        "colab": {
          "base_uri": "https://localhost:8080/"
        },
        "id": "2ahjZIgVUQJ_",
        "outputId": "56ada188-26e3-4834-8a9e-bfa5215e1378"
      },
      "outputs": [
        {
          "output_type": "stream",
          "name": "stdout",
          "text": [
            "ABCDCDC\n",
            "CDC\n",
            "2\n"
          ]
        }
      ],
      "source": [
        "text = input(\"\")\n",
        "sub_text= input(\"\")\n",
        "count = 0\n",
        "for i in range(len(text)) :\n",
        "  if text[i:i+len(sub_text)] == sub_text :\n",
        "    count += 1\n",
        "print(count)"
      ]
    }
  ]
}
