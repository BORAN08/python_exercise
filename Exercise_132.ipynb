{
  "nbformat": 4,
  "nbformat_minor": 0,
  "metadata": {
    "colab": {
      "name": "Exercise_132.ipynb",
      "provenance": [],
      "authorship_tag": "ABX9TyMCi3kwes5j3y1RL6o2Aook",
      "include_colab_link": true
    },
    "kernelspec": {
      "name": "python3",
      "display_name": "Python 3"
    },
    "language_info": {
      "name": "python"
    }
  },
  "cells": [
    {
      "cell_type": "markdown",
      "metadata": {
        "id": "view-in-github",
        "colab_type": "text"
      },
      "source": [
        "<a href=\"https://colab.research.google.com/github/BORAN08/python_exercise/blob/main/Exercise_132.ipynb\" target=\"_parent\"><img src=\"https://colab.research.google.com/assets/colab-badge.svg\" alt=\"Open In Colab\"/></a>"
      ]
    },
    {
      "cell_type": "markdown",
      "source": [
        "Exercise-132\n",
        "Sum of Pairs\n",
        "Given a list of integers and a single sum value, return the first two values (parse from the left please) in order of appearance that add up to form the sum.\n",
        "\n",
        "sum_pairs([11, 3, 7, 5],         10)\n",
        "#              ^--^      3 + 7 = 10\n",
        "== [3, 7]\n",
        "\n",
        "sum_pairs([4, 3, 2, 3, 4],         6)\n",
        "#          ^-----^         4 + 2 = 6, indices: 0, 2 *\n",
        "#             ^-----^      3 + 3 = 6, indices: 1, 3\n",
        "#                ^-----^   2 + 4 = 6, indices: 2, 4\n",
        "#  * entire pair is earlier, and therefore is the correct answer\n",
        "== [4, 2]\n",
        "\n",
        "sum_pairs([0, 0, -2, 3], 2)\n",
        "#  there are no pairs of values that can be added to produce 2.\n",
        "== None/nil/undefined (Based on the language)\n",
        "\n",
        "sum_pairs([10, 5, 2, 3, 7, 5],         10)\n",
        "#              ^-----------^   5 + 5 = 10, indices: 1, 5\n",
        "#                    ^--^      3 + 7 = 10, indices: 3, 4 *\n",
        "#  * entire pair is earlier, and therefore is the correct answer\n",
        "== [3, 7]"
      ],
      "metadata": {
        "id": "kxD_Lnx1F0UF"
      }
    },
    {
      "cell_type": "code",
      "execution_count": 1,
      "metadata": {
        "colab": {
          "base_uri": "https://localhost:8080/"
        },
        "id": "dl8pWwRRFxVL",
        "outputId": "a85809ec-4dd5-452e-fa8c-9cbb55e1d47b"
      },
      "outputs": [
        {
          "output_type": "execute_result",
          "data": {
            "text/plain": [
              "[4, 2]"
            ]
          },
          "metadata": {},
          "execution_count": 1
        }
      ],
      "source": [
        "def sum_pairs(ints, s):\n",
        "  list_=[]\n",
        "  for i in ints:\n",
        "      for j in ints[ints.index(i)+1:]:\n",
        "        if i+j==s:\n",
        "          return [i,j]\n",
        "sum_pairs([4, 3, 2, 3, 4], 6)"
      ]
    }
  ]
}