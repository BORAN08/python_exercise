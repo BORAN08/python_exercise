{
  "nbformat": 4,
  "nbformat_minor": 0,
  "metadata": {
    "colab": {
      "name": "Exercise_155.ipynb",
      "provenance": [],
      "authorship_tag": "ABX9TyNJBYFfVfowrHn/+JArQzn/",
      "include_colab_link": true
    },
    "kernelspec": {
      "name": "python3",
      "display_name": "Python 3"
    },
    "language_info": {
      "name": "python"
    }
  },
  "cells": [
    {
      "cell_type": "markdown",
      "metadata": {
        "id": "view-in-github",
        "colab_type": "text"
      },
      "source": [
        "<a href=\"https://colab.research.google.com/github/BORAN08/python_exercise/blob/main/Exercise_155.ipynb\" target=\"_parent\"><img src=\"https://colab.research.google.com/assets/colab-badge.svg\" alt=\"Open In Colab\"/></a>"
      ]
    },
    {
      "cell_type": "markdown",
      "source": [
        "155 -Remember the triangle of balls in billiards? To build a classic triangle (5 levels) you need 15 balls. With 3 balls you can build a 2-level triangle, etc.\n",
        "\n",
        "For more examples,\n",
        "\n",
        "pyramid(1) == 1\n",
        "\n",
        "pyramid(3) == 2\n",
        "\n",
        "pyramid(6) == 3\n",
        "\n",
        "pyramid(10) == 4\n",
        "\n",
        "pyramid(15) == 5\n",
        "\n",
        "Write a function that takes number of balls (≥ 1) and calculates how many levels you can build a triangle."
      ],
      "metadata": {
        "id": "T-b2sOC9ntJW"
      }
    },
    {
      "cell_type": "code",
      "execution_count": 2,
      "metadata": {
        "colab": {
          "base_uri": "https://localhost:8080/"
        },
        "id": "amSGGypqnnBs",
        "outputId": "c7cbb230-ede4-4c7b-d8a8-d51895bc58d6"
      },
      "outputs": [
        {
          "output_type": "execute_result",
          "data": {
            "text/plain": [
              "0"
            ]
          },
          "metadata": {},
          "execution_count": 2
        }
      ],
      "source": [
        "def pyramid(n):\n",
        "  s=[i for i in range(1,n+1)]\n",
        "  d,count=0,0\n",
        "  for i in s:\n",
        "    if d<n: d+=i\n",
        "    else: break\n",
        "  return count\n",
        "pyramid(15)"
      ]
    },
    {
      "cell_type": "code",
      "source": [
        ""
      ],
      "metadata": {
        "id": "xhigPo8roMDd"
      },
      "execution_count": null,
      "outputs": []
    }
  ]
}