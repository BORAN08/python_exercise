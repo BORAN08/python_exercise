{
  "nbformat": 4,
  "nbformat_minor": 0,
  "metadata": {
    "colab": {
      "name": "Exercise_164,75.ipynb",
      "provenance": [],
      "authorship_tag": "ABX9TyPbCngmxkGedMrtbXdxTM3S",
      "include_colab_link": true
    },
    "kernelspec": {
      "name": "python3",
      "display_name": "Python 3"
    },
    "language_info": {
      "name": "python"
    }
  },
  "cells": [
    {
      "cell_type": "markdown",
      "metadata": {
        "id": "view-in-github",
        "colab_type": "text"
      },
      "source": [
        "<a href=\"https://colab.research.google.com/github/BORAN08/python_exercise/blob/main/Exercise_164%2C75.ipynb\" target=\"_parent\"><img src=\"https://colab.research.google.com/assets/colab-badge.svg\" alt=\"Open In Colab\"/></a>"
      ]
    },
    {
      "cell_type": "markdown",
      "source": [
        "Have the function StringChallenge(str) take the str parameter being passed and return the string true if the parameter is a palindrome, (the string is the same forward as it is backward) otherwise return the string false. \n",
        "\n",
        "For example: \"racecar\" is also \"racecar\" backwards. Punctuation and numbers will not be part of the string.\n",
        "\n",
        "Examples\n",
        "\n",
        "Input: \"never odd or even\"\n",
        "\n",
        "Output: true\n",
        "\n",
        "Input: \"eye\"\n",
        "\n",
        "Output: true"
      ],
      "metadata": {
        "id": "UnTSk9WcZ2V1"
      }
    },
    {
      "cell_type": "code",
      "execution_count": 4,
      "metadata": {
        "colab": {
          "base_uri": "https://localhost:8080/"
        },
        "id": "8GK-rejtZw-g",
        "outputId": "b480708c-0ea7-4c16-9bd2-2780ec628f90"
      },
      "outputs": [
        {
          "output_type": "execute_result",
          "data": {
            "text/plain": [
              "True"
            ]
          },
          "metadata": {},
          "execution_count": 4
        }
      ],
      "source": [
        "def palindrome(text):\n",
        "  import string\n",
        "  text_=\"\".join(i for i in text if i in string.ascii_lowercase)\n",
        "  return text_==text_[::-1]\n",
        "palindrome(\"never odd or8700543/** even\")"
      ]
    }
  ]
}