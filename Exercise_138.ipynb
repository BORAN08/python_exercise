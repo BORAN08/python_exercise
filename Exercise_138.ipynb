{
  "nbformat": 4,
  "nbformat_minor": 0,
  "metadata": {
    "colab": {
      "name": "Exercise_138.ipynb",
      "provenance": [],
      "authorship_tag": "ABX9TyN3oVPdAB5tnjaTUtgqSRun",
      "include_colab_link": true
    },
    "kernelspec": {
      "name": "python3",
      "display_name": "Python 3"
    },
    "language_info": {
      "name": "python"
    }
  },
  "cells": [
    {
      "cell_type": "markdown",
      "metadata": {
        "id": "view-in-github",
        "colab_type": "text"
      },
      "source": [
        "<a href=\"https://colab.research.google.com/github/BORAN08/python_exercise/blob/main/Exercise_138.ipynb\" target=\"_parent\"><img src=\"https://colab.research.google.com/assets/colab-badge.svg\" alt=\"Open In Colab\"/></a>"
      ]
    },
    {
      "cell_type": "markdown",
      "metadata": {
        "id": "qasxUOwerRqe"
      },
      "source": [
        "Exercise-138\n",
        "\n",
        "The rgb function is incomplete. Complete it so that passing in RGB decimal values will result in a hexadecimal representation being returned. Valid decimal values for RGB are 0 - 255. Any values that fall out of that range must be rounded to the closest valid value.\n",
        "\n",
        "Note: Your answer should always be 6 characters long, the shorthand with 3 will not work here.\n",
        "\n",
        "The following are examples of expected output values:\n",
        "\n",
        "rgb(255, 255, 255) # returns FFFFFF\n",
        "\n",
        "rgb(255, 255, 300) # returns FFFFFF\n",
        "\n",
        "rgb(0,0,0) # returns 000000\n",
        "\n",
        "rgb(148, 0, 211) # returns 9400D3"
      ]
    },
    {
      "cell_type": "code",
      "metadata": {
        "colab": {
          "base_uri": "https://localhost:8080/",
          "height": 35
        },
        "id": "W-bjOx-m3pDq",
        "outputId": "b9372092-8303-4238-a95b-4f749a32563e"
      },
      "source": [
        "def rgb(r, g, b):\n",
        "    rgb_=\"\"\n",
        "    for i in r,g,b:\n",
        "        if i<=0:\n",
        "            rgb_+=hex(0)[-1:]+\"0\"\n",
        "        elif i<=15:\n",
        "            rgb_+=\"0\"+hex(i)[-1:].upper()\n",
        "        elif i>255:\n",
        "            rgb_+=hex(255)[-2:].upper()\n",
        "        else:\n",
        "            rgb_+=hex(i)[-2:].upper()\n",
        "    return rgb_\n",
        "rgb(-20,358,248)"
      ],
      "execution_count": 19,
      "outputs": [
        {
          "output_type": "execute_result",
          "data": {
            "application/vnd.google.colaboratory.intrinsic+json": {
              "type": "string"
            },
            "text/plain": [
              "'00FFF8'"
            ]
          },
          "metadata": {},
          "execution_count": 19
        }
      ]
    },
    {
      "cell_type": "code",
      "metadata": {
        "colab": {
          "base_uri": "https://localhost:8080/",
          "height": 35
        },
        "id": "JwfluqK8KCH8",
        "outputId": "4f6c74a6-585a-459a-f8cd-dcd2e9f91f08"
      },
      "source": [
        "def rgb(r, g, b):\n",
        "    round = lambda x: min(255, max(x, 0))\n",
        "    return (\"{:02X}\" * 3).format(round(r), round(g), round(b))\n",
        "rgb(255,0,0)"
      ],
      "execution_count": 24,
      "outputs": [
        {
          "output_type": "execute_result",
          "data": {
            "application/vnd.google.colaboratory.intrinsic+json": {
              "type": "string"
            },
            "text/plain": [
              "'FF0000'"
            ]
          },
          "metadata": {},
          "execution_count": 24
        }
      ]
    },
    {
      "cell_type": "code",
      "source": [
        "# C9171 Emirhan's salute\n",
        "\n",
        "def rgb_to_hex(r, g, b):\n",
        "  r, g, b = [0 if i < 0 else 255 if i > 255 else i for i in (r, g, b)]\n",
        "  return ('{:02X}{:02X}{:02X}').format(r, g, b)\n",
        "rgb_to_hex(255, 255, 300)"
      ],
      "metadata": {
        "colab": {
          "base_uri": "https://localhost:8080/",
          "height": 35
        },
        "id": "xbRbfYkk5Wmf",
        "outputId": "39e5916a-9e13-4b88-8e08-172f102e9852"
      },
      "execution_count": 25,
      "outputs": [
        {
          "output_type": "execute_result",
          "data": {
            "application/vnd.google.colaboratory.intrinsic+json": {
              "type": "string"
            },
            "text/plain": [
              "'FFFFFF'"
            ]
          },
          "metadata": {},
          "execution_count": 25
        }
      ]
    }
  ]
}