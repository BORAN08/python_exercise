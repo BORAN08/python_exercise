{
  "nbformat": 4,
  "nbformat_minor": 0,
  "metadata": {
    "colab": {
      "name": "Exercise_157.ipynb",
      "provenance": [],
      "authorship_tag": "ABX9TyNbsmzgX/ZotWuQJdTQnruD",
      "include_colab_link": true
    },
    "kernelspec": {
      "name": "python3",
      "display_name": "Python 3"
    },
    "language_info": {
      "name": "python"
    }
  },
  "cells": [
    {
      "cell_type": "markdown",
      "metadata": {
        "id": "view-in-github",
        "colab_type": "text"
      },
      "source": [
        "<a href=\"https://colab.research.google.com/github/BORAN08/python_exercise/blob/main/Exercise_157.ipynb\" target=\"_parent\"><img src=\"https://colab.research.google.com/assets/colab-badge.svg\" alt=\"Open In Colab\"/></a>"
      ]
    },
    {
      "cell_type": "markdown",
      "source": [
        "Exercise-157 A newly opened multinational brand has decided to base their company logo on the three most common characters in the company name. \n",
        "They are now trying out various combinations of company names and logos based on this condition. Given a string , which is the company name in lowercase letters, your task is to find the top three most common characters in the string.\n",
        "Print the three most common characters along with their occurrence count.\n",
        "\n",
        "Sort in descending order of occurrence count.\n",
        "\n",
        "If the occurrence count is the same, sort the characters in alphabetical order.\n",
        "\n",
        "Input Format\n",
        "\n",
        "A single line of input containing the string .\n",
        "\n",
        "Constraints\n",
        "\n",
        " has at least  distinct characters\n",
        "\n",
        "Sample Input\n",
        "\n",
        "aabbbccde\n",
        "\n",
        "Sample Output\n",
        "\n",
        "b 3\n",
        "\n",
        "a 2\n",
        "\n",
        "c 2\n",
        "\n",
        "Explanation\n",
        "\n",
        "Here, b occurs  times. It is printed first.\n",
        "Both a and c occur  times. So, a is printed in the second line and c in the third line because a comes before c in the alphabet.\n",
        "Note: The string  has at least  distinct characters."
      ],
      "metadata": {
        "id": "6vXQo1bFAosr"
      }
    },
    {
      "cell_type": "code",
      "execution_count": 3,
      "metadata": {
        "colab": {
          "base_uri": "https://localhost:8080/"
        },
        "id": "JwuxF6JPAoOn",
        "outputId": "78c5341f-aae2-428c-828f-be10efd80c42"
      },
      "outputs": [
        {
          "output_type": "stream",
          "name": "stdout",
          "text": [
            "b 3\n",
            "a 2\n",
            "c 2\n"
          ]
        }
      ],
      "source": [
        "def company_logo(logo):\n",
        "  d={}\n",
        "  for i in logo:\n",
        "    d.setdefault(i,logo.count(i))\n",
        "  a=sorted(d.items(),key=lambda item:item[0])\n",
        "  a.sort(key=lambda x:x[1],reverse=True)\n",
        "  for i,j in a[:3]:\n",
        "    print(i,j)\n",
        "company_logo(\"bbbccdeeaa\") "
      ]
    },
    {
      "cell_type": "markdown",
      "source": [
        "C9171_Emirhan's solute"
      ],
      "metadata": {
        "id": "WZkOd-fxBXKR"
      }
    },
    {
      "cell_type": "code",
      "source": [
        "def logo(s):\n",
        "    sorted_list = sorted([[i, s.count(i)] for i in set(s)], key=lambda x: (-x[1], ord(x[0])))\n",
        "    for i in sorted_list[:3]:\n",
        "        print(*i)\n",
        "logo(input(\"Please enter a brand name: \").strip().lower())"
      ],
      "metadata": {
        "colab": {
          "base_uri": "https://localhost:8080/"
        },
        "id": "AQueuXZEBVum",
        "outputId": "18062c9c-95b7-401b-c57e-faa596687d18"
      },
      "execution_count": 2,
      "outputs": [
        {
          "output_type": "stream",
          "name": "stdout",
          "text": [
            "Please enter a brand name: clarusway\n",
            "a 2\n",
            "c 1\n",
            "l 1\n"
          ]
        }
      ]
    }
  ]
}
