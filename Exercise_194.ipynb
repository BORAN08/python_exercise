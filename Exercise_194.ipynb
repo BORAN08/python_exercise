{
  "nbformat": 4,
  "nbformat_minor": 0,
  "metadata": {
    "colab": {
      "name": "Excirse_194.ipynb",
      "provenance": [],
      "authorship_tag": "ABX9TyPAlT1Y2chocVvSeUZm4dIy",
      "include_colab_link": true
    },
    "kernelspec": {
      "name": "python3",
      "display_name": "Python 3"
    },
    "language_info": {
      "name": "python"
    }
  },
  "cells": [
    {
      "cell_type": "markdown",
      "metadata": {
        "id": "view-in-github",
        "colab_type": "text"
      },
      "source": [
        "<a href=\"https://colab.research.google.com/github/mahmutboran/python_exercise/blob/main/Excirse_194.ipynb\" target=\"_parent\"><img src=\"https://colab.research.google.com/assets/colab-badge.svg\" alt=\"Open In Colab\"/></a>"
      ]
    },
    {
      "cell_type": "markdown",
      "source": [
        "Purpose of the this coding challenge is to write a code that given numbers convert to Roman Numerals. The Romans wrote numbers using letters - I, V, X, L, C, D, M. (notice these letters have lots of straight lines and are hence easy to hack into stone tablets).\n",
        "\n",
        "\n",
        "Example:\n",
        "\n",
        "\n",
        "1000=M 900=CM 90=XC\n",
        "\n",
        "\n",
        "2008 is written as MMVIII:\n",
        "\n",
        "\n",
        "2000=MM 8=VIII\n",
        "\n",
        "Learning Outcomes\n",
        "\n",
        "At the end of the this coding challenge, students will be able to;\n",
        "\n",
        "\n",
        "Analyze a problem, identify and apply programming knowledge for appropriate solution.\n",
        "\n",
        "\n",
        "Demonstrate their knowledge of algorithmic design principles by using JavaScript and Python effectively.\n",
        "\n",
        "\n",
        "Problem Statement\n",
        "\n",
        "Write a function that takes normal number( 8, 148, 457 ) and convert to Roman Numerals( VIII, CXLVIII, CDLVII )\n",
        "\n",
        "\n",
        "Please note that, there is no need to be able to convert numbers larger than about 3000. (The Romans themselves didn't tend to go any higher)\n"
      ],
      "metadata": {
        "id": "s-UnI9jkeLxv"
      }
    },
    {
      "cell_type": "code",
      "source": [
        "def romanNumerals(n):\n",
        "   romanNum = {  1000 :\"M\",900:\"CM\",500:\"D\",400:\"CD\",100:\"C\",90:\"XC\",50:\"L\",40:\"XL\",10:\"X\",5:\"V\",4:\"IV\",1:\"I\"}\n",
        "   normalNum=\"\"\n",
        "   for i in romanNum:\n",
        "     while n>=i:\n",
        "       normalNum+=romanNum[i]\n",
        "       n-=i\n",
        "   return normalNum \n",
        "romanNumerals(110)"
      ],
      "metadata": {
        "colab": {
          "base_uri": "https://localhost:8080/",
          "height": 35
        },
        "id": "DsW5MSqLMjgp",
        "outputId": "56859cc2-9731-4f13-e958-4e8962249178"
      },
      "execution_count": 28,
      "outputs": [
        {
          "output_type": "execute_result",
          "data": {
            "text/plain": [
              "'CX'"
            ],
            "application/vnd.google.colaboratory.intrinsic+json": {
              "type": "string"
            }
          },
          "metadata": {},
          "execution_count": 28
        }
      ]
    },
    {
      "cell_type": "code",
      "source": [
        "def romanNumerals(n):\n",
        "   romanNum = {  1000 :\"M\",900:\"CM\",500:\"D\",400:\"CD\",100:\"C\",90:\"XC\",50:\"L\",40:\"XL\",10:\"X\",5:\"V\",4:\"IV\",1:\"I\"}\n",
        "   normalNum=\"\"\n",
        "   for i,j in romanNum.items():\n",
        "     x,n=divmod(n,i)\n",
        "     normalNum+=j*x\n",
        "   return normalNum\n",
        "romanNumerals(110)"
      ],
      "metadata": {
        "colab": {
          "base_uri": "https://localhost:8080/",
          "height": 35
        },
        "id": "50CudBymGJcl",
        "outputId": "d4d11306-eff7-43b4-84ac-a73d176c8afd"
      },
      "execution_count": 30,
      "outputs": [
        {
          "output_type": "execute_result",
          "data": {
            "text/plain": [
              "'CX'"
            ],
            "application/vnd.google.colaboratory.intrinsic+json": {
              "type": "string"
            }
          },
          "metadata": {},
          "execution_count": 30
        }
      ]
    }
  ]
}
