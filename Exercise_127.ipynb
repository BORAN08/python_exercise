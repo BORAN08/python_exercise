{
  "nbformat": 4,
  "nbformat_minor": 0,
  "metadata": {
    "colab": {
      "name": "Exercise_127.ipynb",
      "provenance": [],
      "authorship_tag": "ABX9TyPK4mV08DnwygkVoL8ACHJc",
      "include_colab_link": true
    },
    "kernelspec": {
      "name": "python3",
      "display_name": "Python 3"
    },
    "language_info": {
      "name": "python"
    }
  },
  "cells": [
    {
      "cell_type": "markdown",
      "metadata": {
        "id": "view-in-github",
        "colab_type": "text"
      },
      "source": [
        "<a href=\"https://colab.research.google.com/github/BORAN08/python_exercise/blob/main/Exercise_127.ipynb\" target=\"_parent\"><img src=\"https://colab.research.google.com/assets/colab-badge.svg\" alt=\"Open In Colab\"/></a>"
      ]
    },
    {
      "cell_type": "markdown",
      "source": [
        "Exercise-127\n",
        "\n",
        "A friend of mine takes the sequence of all numbers from 1 to n (where n > 0).\n",
        "Within that sequence, he chooses two numbers, a and b.\n",
        "\n",
        "He says that the product of a and b should be equal to the sum of all numbers in the sequence, excluding a and b.\n",
        "\n",
        "Given a number n, could you tell me the numbers he excluded from the sequence?\n",
        "The function takes the parameter: n (n is always strictly greater than 0) and returns an array or a string (depending on the language) of the form:\n",
        "\n",
        "[(a, b), ...] or [[a, b], ...] or {{a, b}, ...} or or [{a, b}, ...]\n",
        "\n",
        "with all (a, b) which are the possible removed numbers in the sequence 1 to n.\n",
        "[(a, b), ...] or [[a, b], ...] or {{a, b}, ...} or ... will be sorted in increasing order of the \"a\".\n",
        "\n",
        "It happens that there are several possible (a, b). The function returns an empty array (or an empty string) if no possible numbers are found which will prove that my friend has not told the truth! (Go: in this case return nil).\n",
        "Examples:\n",
        "\n",
        "removNb(26) should return [(15, 21), (21, 15)]\n",
        "or\n",
        "\n",
        "removNb(26) should return { {15, 21}, {21, 15} }\n",
        "\n",
        "or\n",
        "removeNb(26) should return [[15, 21], [21, 15]]\n",
        "\n",
        "or\n",
        "removNb(26) should return [ {15, 21}, {21, 15} ]\n",
        "\n",
        "or\n",
        "removNb(26) should return \"15 21, 21 15\"\n",
        "\n",
        "or\n",
        "in C:\n",
        "\n",
        "removNb(26) should return  {{15, 21}{21, 15}} tested by way of strings.\n",
        "Function removNb should return a pointer to an allocated array of Pair pointers, each one also allocated. \n",
        "\n",
        "Note\n",
        "\n",
        "See examples of returns for each language in \"RUN SAMPLE TESTS\""
      ],
      "metadata": {
        "id": "HEBGyz5I8ehk"
      }
    },
    {
      "cell_type": "code",
      "execution_count": 2,
      "metadata": {
        "colab": {
          "base_uri": "https://localhost:8080/"
        },
        "id": "eR2J63vA8bDU",
        "outputId": "270596e1-0243-429f-c26d-3836358dd49d"
      },
      "outputs": [
        {
          "output_type": "execute_result",
          "data": {
            "text/plain": [
              "[(15, 21), (21, 15)]"
            ]
          },
          "metadata": {},
          "execution_count": 2
        }
      ],
      "source": [
        "n=26\n",
        "n2=[]\n",
        "n1=[i for i in range(1,n+1)]\n",
        "for i in range(1,n+1):\n",
        "  for j in range(1,n+1):\n",
        "    if i*j==sum(n1)-(i+j):\n",
        "      n2.append((i,j))\n",
        "n2"
      ]
    },
    {
      "cell_type": "code",
      "source": [
        "def remov_nb(n):\n",
        "    n1=[i for i in range(1,n+1)]\n",
        "    return [(i,j) for i in n1 for j in n1 if i*j==sum(n1)-(i+j)]\n",
        "remov_nb(26)"
      ],
      "metadata": {
        "colab": {
          "base_uri": "https://localhost:8080/"
        },
        "id": "8m-XlP9X8owK",
        "outputId": "f677b264-dde7-4bc1-ec1f-ea1671ecbbed"
      },
      "execution_count": 3,
      "outputs": [
        {
          "output_type": "execute_result",
          "data": {
            "text/plain": [
              "[(15, 21), (21, 15)]"
            ]
          },
          "metadata": {},
          "execution_count": 3
        }
      ]
    }
  ]
}