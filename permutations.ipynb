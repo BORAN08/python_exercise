{
  "nbformat": 4,
  "nbformat_minor": 0,
  "metadata": {
    "colab": {
      "name": "permutations.ipynb",
      "provenance": [],
      "collapsed_sections": [],
      "authorship_tag": "ABX9TyMDxGR/WGxoKMrRuQ6XYUta",
      "include_colab_link": true
    },
    "kernelspec": {
      "name": "python3",
      "display_name": "Python 3"
    },
    "language_info": {
      "name": "python"
    }
  },
  "cells": [
    {
      "cell_type": "markdown",
      "metadata": {
        "id": "view-in-github",
        "colab_type": "text"
      },
      "source": [
        "<a href=\"https://colab.research.google.com/github/mahmutboran/python_exercise/blob/main/permutations.ipynb\" target=\"_parent\"><img src=\"https://colab.research.google.com/assets/colab-badge.svg\" alt=\"Open In Colab\"/></a>"
      ]
    },
    {
      "cell_type": "markdown",
      "source": [
        "Here is another interview question of Python code challenge.\n",
        "Problem :\n",
        "\n",
        "\n",
        "Given a collection of distinct integers, return all possible permutations. This example has three elements but solution should cover all possible element numbers.\n",
        "\n",
        "Example: Input:\n",
        "\n",
        "[1,2,3]\n",
        "\n",
        "Output:\n",
        "\n",
        "[ [1,2,3], [1,3,2], [2,1,3], [2,3,1], [3,1,2], [3,2,1] ]"
      ],
      "metadata": {
        "id": "yr18lJMBbxxi"
      }
    },
    {
      "cell_type": "markdown",
      "source": [
        "D1166 Yusuf's salute"
      ],
      "metadata": {
        "id": "crLgMxVT679l"
      }
    },
    {
      "cell_type": "code",
      "source": [
        "def permutation(lst:list):\n",
        "    if len(lst) == 1:\n",
        "        return lst\n",
        "    res = []\n",
        "    for i in range(len(lst)):\n",
        "        perms = permutation(lst[:i] + lst[i+1:])\n",
        "        for j in perms:\n",
        "            if isinstance(j, list):\n",
        "                res.append([lst[i]] + j)\n",
        "            else:\n",
        "                res.append([lst[i]] + [j])\n",
        "    return res\n",
        "\n",
        "print(permutation([1, 2, 3, 4]))"
      ],
      "metadata": {
        "colab": {
          "base_uri": "https://localhost:8080/"
        },
        "id": "MvPJKspW63Km",
        "outputId": "b32067e2-1007-42fd-ee3b-ac8afa501309"
      },
      "execution_count": null,
      "outputs": [
        {
          "output_type": "stream",
          "name": "stdout",
          "text": [
            "[[1, 2, 3, 4], [1, 2, 4, 3], [1, 3, 2, 4], [1, 3, 4, 2], [1, 4, 2, 3], [1, 4, 3, 2], [2, 1, 3, 4], [2, 1, 4, 3], [2, 3, 1, 4], [2, 3, 4, 1], [2, 4, 1, 3], [2, 4, 3, 1], [3, 1, 2, 4], [3, 1, 4, 2], [3, 2, 1, 4], [3, 2, 4, 1], [3, 4, 1, 2], [3, 4, 2, 1], [4, 1, 2, 3], [4, 1, 3, 2], [4, 2, 1, 3], [4, 2, 3, 1], [4, 3, 1, 2], [4, 3, 2, 1]]\n"
          ]
        }
      ]
    },
    {
      "cell_type": "code",
      "execution_count": null,
      "metadata": {
        "colab": {
          "base_uri": "https://localhost:8080/"
        },
        "id": "VkoOxZnDy1wL",
        "outputId": "4237a076-f157-4c0d-854f-d370812c7a75"
      },
      "outputs": [
        {
          "output_type": "execute_result",
          "data": {
            "text/plain": [
              "[[1, 2, 3], [1, 3, 2], [2, 1, 3], [2, 3, 1], [3, 1, 2], [3, 2, 1]]"
            ]
          },
          "metadata": {},
          "execution_count": 7
        }
      ],
      "source": [
        "import itertools\n",
        "a=[1,2,3]\n",
        "[[*i] for i in itertools.permutations(a)]"
      ]
    },
    {
      "cell_type": "code",
      "source": [
        "def all_permutations(n):\n",
        "  result=[]\n",
        "  for i in range(len(n)):\n",
        "    perm=[]\n",
        "    for j in n:\n",
        "      perm=n[i:]+n[:i]\n",
        "    result.append(perm)\n",
        "    perm=[perm[0]]+[perm[2]]+[perm[1]]\n",
        "    result.append(perm)\n",
        "  return result\n",
        "all_permutations([1,2,3])"
      ],
      "metadata": {
        "colab": {
          "base_uri": "https://localhost:8080/"
        },
        "id": "fOtaa0oYk5VN",
        "outputId": "fd77fc3e-378e-4387-e4dd-06e138773340"
      },
      "execution_count": null,
      "outputs": [
        {
          "output_type": "execute_result",
          "data": {
            "text/plain": [
              "[[1, 2, 3, 4],\n",
              " [1, 3, 2],\n",
              " [2, 3, 4, 1],\n",
              " [2, 4, 3],\n",
              " [3, 4, 1, 2],\n",
              " [3, 1, 4],\n",
              " [4, 1, 2, 3],\n",
              " [4, 2, 1]]"
            ]
          },
          "metadata": {},
          "execution_count": 2
        }
      ]
    },
    {
      "cell_type": "code",
      "source": [
        ""
      ],
      "metadata": {
        "id": "8lEdxORK2I2C"
      },
      "execution_count": null,
      "outputs": []
    },
    {
      "cell_type": "code",
      "source": [
        "def perm(n):\n",
        "  a=[]\n",
        "  for i in range(len(n)):\n",
        "    for j in n:\n",
        "      a.append(n[i:]+n[:i])\n",
        "      a.append(n[i::-1]+n[:i:-1])\n",
        "  return a\n",
        "perm([1,2,3,4])"
      ],
      "metadata": {
        "colab": {
          "base_uri": "https://localhost:8080/"
        },
        "id": "rdba2F9MqOB_",
        "outputId": "f9fec138-ea20-4bd9-eb8c-a37b84905f2a"
      },
      "execution_count": null,
      "outputs": [
        {
          "output_type": "execute_result",
          "data": {
            "text/plain": [
              "[[1, 2, 3, 4],\n",
              " [1, 4, 3, 2],\n",
              " [1, 2, 3, 4],\n",
              " [1, 4, 3, 2],\n",
              " [1, 2, 3, 4],\n",
              " [1, 4, 3, 2],\n",
              " [1, 2, 3, 4],\n",
              " [1, 4, 3, 2],\n",
              " [2, 3, 4, 1],\n",
              " [2, 1, 4, 3],\n",
              " [2, 3, 4, 1],\n",
              " [2, 1, 4, 3],\n",
              " [2, 3, 4, 1],\n",
              " [2, 1, 4, 3],\n",
              " [2, 3, 4, 1],\n",
              " [2, 1, 4, 3],\n",
              " [3, 4, 1, 2],\n",
              " [3, 2, 1, 4],\n",
              " [3, 4, 1, 2],\n",
              " [3, 2, 1, 4],\n",
              " [3, 4, 1, 2],\n",
              " [3, 2, 1, 4],\n",
              " [3, 4, 1, 2],\n",
              " [3, 2, 1, 4],\n",
              " [4, 1, 2, 3],\n",
              " [4, 3, 2, 1],\n",
              " [4, 1, 2, 3],\n",
              " [4, 3, 2, 1],\n",
              " [4, 1, 2, 3],\n",
              " [4, 3, 2, 1],\n",
              " [4, 1, 2, 3],\n",
              " [4, 3, 2, 1]]"
            ]
          },
          "metadata": {},
          "execution_count": 24
        }
      ]
    },
    {
      "cell_type": "code",
      "source": [
        "def perm(n):\n",
        "  a=[]\n",
        "  for i in range(len(n)):\n",
        "    a.append(n[0:i]+[n[0]]+n[i:])\n",
        "  return a\n",
        "perm([1,2,3,4])"
      ],
      "metadata": {
        "id": "YGvEGPBXb4LH",
        "colab": {
          "base_uri": "https://localhost:8080/"
        },
        "outputId": "a9e3414f-b268-49fb-e294-ace3ae7792a8"
      },
      "execution_count": null,
      "outputs": [
        {
          "output_type": "execute_result",
          "data": {
            "text/plain": [
              "[[1, 1, 2, 3, 4], [1, 1, 2, 3, 4], [1, 2, 1, 3, 4], [1, 2, 3, 1, 4]]"
            ]
          },
          "metadata": {},
          "execution_count": 33
        }
      ]
    },
    {
      "cell_type": "code",
      "source": [
        "# Just for 3 digit\n",
        "def perm(n):\n",
        "  a=[]\n",
        "  for i in range(len(n)+1):\n",
        "    a.append(n[i:]+n[:i])\n",
        "    a.append(n[i::-1]+n[:i:-1])\n",
        "  return a\n",
        "perm([1,2,3])"
      ],
      "metadata": {
        "colab": {
          "base_uri": "https://localhost:8080/"
        },
        "id": "fY8uUOralfT2",
        "outputId": "132e3ded-565b-4e76-ef0e-8e9471f2d910"
      },
      "execution_count": null,
      "outputs": [
        {
          "output_type": "execute_result",
          "data": {
            "text/plain": [
              "[[1, 2, 3],\n",
              " [1, 3, 2],\n",
              " [2, 3, 1],\n",
              " [2, 1, 3],\n",
              " [3, 1, 2],\n",
              " [3, 2, 1],\n",
              " [1, 2, 3],\n",
              " [3, 2, 1]]"
            ]
          },
          "metadata": {},
          "execution_count": 3
        }
      ]
    },
    {
      "cell_type": "code",
      "source": [
        "def all_perms(elements):\n",
        "    if len(elements) <=1:\n",
        "        return elements\n",
        "    else:\n",
        "        for perm in all_perms(elements[1:]):\n",
        "            for i in range(len(elements)):\n",
        "                # nb elements[0:1] works in both string and list contexts\n",
        "                return perm[:i] + elements[0:1] + perm[i:]\n",
        "all_perms([1,2,3])"
      ],
      "metadata": {
        "colab": {
          "base_uri": "https://localhost:8080/",
          "height": 328
        },
        "id": "ix-TphMlnSLp",
        "outputId": "a1c35e8b-4721-445b-d141-11eb3dd2ec7f"
      },
      "execution_count": null,
      "outputs": [
        {
          "output_type": "error",
          "ename": "TypeError",
          "evalue": "ignored",
          "traceback": [
            "\u001b[0;31m---------------------------------------------------------------------------\u001b[0m",
            "\u001b[0;31mTypeError\u001b[0m                                 Traceback (most recent call last)",
            "\u001b[0;32m<ipython-input-59-7e680278eb7a>\u001b[0m in \u001b[0;36m<module>\u001b[0;34m()\u001b[0m\n\u001b[1;32m      7\u001b[0m                 \u001b[0;31m# nb elements[0:1] works in both string and list contexts\u001b[0m\u001b[0;34m\u001b[0m\u001b[0;34m\u001b[0m\u001b[0;34m\u001b[0m\u001b[0m\n\u001b[1;32m      8\u001b[0m                 \u001b[0;32mreturn\u001b[0m \u001b[0mperm\u001b[0m\u001b[0;34m[\u001b[0m\u001b[0;34m:\u001b[0m\u001b[0mi\u001b[0m\u001b[0;34m]\u001b[0m \u001b[0;34m+\u001b[0m \u001b[0melements\u001b[0m\u001b[0;34m[\u001b[0m\u001b[0;36m0\u001b[0m\u001b[0;34m:\u001b[0m\u001b[0;36m1\u001b[0m\u001b[0;34m]\u001b[0m \u001b[0;34m+\u001b[0m \u001b[0mperm\u001b[0m\u001b[0;34m[\u001b[0m\u001b[0mi\u001b[0m\u001b[0;34m:\u001b[0m\u001b[0;34m]\u001b[0m\u001b[0;34m\u001b[0m\u001b[0;34m\u001b[0m\u001b[0m\n\u001b[0;32m----> 9\u001b[0;31m \u001b[0mall_perms\u001b[0m\u001b[0;34m(\u001b[0m\u001b[0;34m[\u001b[0m\u001b[0;36m1\u001b[0m\u001b[0;34m,\u001b[0m\u001b[0;36m2\u001b[0m\u001b[0;34m,\u001b[0m\u001b[0;36m3\u001b[0m\u001b[0;34m]\u001b[0m\u001b[0;34m)\u001b[0m\u001b[0;34m\u001b[0m\u001b[0;34m\u001b[0m\u001b[0m\n\u001b[0m",
            "\u001b[0;32m<ipython-input-59-7e680278eb7a>\u001b[0m in \u001b[0;36mall_perms\u001b[0;34m(elements)\u001b[0m\n\u001b[1;32m      3\u001b[0m         \u001b[0;32mreturn\u001b[0m \u001b[0melements\u001b[0m\u001b[0;34m\u001b[0m\u001b[0;34m\u001b[0m\u001b[0m\n\u001b[1;32m      4\u001b[0m     \u001b[0;32melse\u001b[0m\u001b[0;34m:\u001b[0m\u001b[0;34m\u001b[0m\u001b[0;34m\u001b[0m\u001b[0m\n\u001b[0;32m----> 5\u001b[0;31m         \u001b[0;32mfor\u001b[0m \u001b[0mperm\u001b[0m \u001b[0;32min\u001b[0m \u001b[0mall_perms\u001b[0m\u001b[0;34m(\u001b[0m\u001b[0melements\u001b[0m\u001b[0;34m[\u001b[0m\u001b[0;36m1\u001b[0m\u001b[0;34m:\u001b[0m\u001b[0;34m]\u001b[0m\u001b[0;34m)\u001b[0m\u001b[0;34m:\u001b[0m\u001b[0;34m\u001b[0m\u001b[0;34m\u001b[0m\u001b[0m\n\u001b[0m\u001b[1;32m      6\u001b[0m             \u001b[0;32mfor\u001b[0m \u001b[0mi\u001b[0m \u001b[0;32min\u001b[0m \u001b[0mrange\u001b[0m\u001b[0;34m(\u001b[0m\u001b[0mlen\u001b[0m\u001b[0;34m(\u001b[0m\u001b[0melements\u001b[0m\u001b[0;34m)\u001b[0m\u001b[0;34m)\u001b[0m\u001b[0;34m:\u001b[0m\u001b[0;34m\u001b[0m\u001b[0;34m\u001b[0m\u001b[0m\n\u001b[1;32m      7\u001b[0m                 \u001b[0;31m# nb elements[0:1] works in both string and list contexts\u001b[0m\u001b[0;34m\u001b[0m\u001b[0;34m\u001b[0m\u001b[0;34m\u001b[0m\u001b[0m\n",
            "\u001b[0;32m<ipython-input-59-7e680278eb7a>\u001b[0m in \u001b[0;36mall_perms\u001b[0;34m(elements)\u001b[0m\n\u001b[1;32m      6\u001b[0m             \u001b[0;32mfor\u001b[0m \u001b[0mi\u001b[0m \u001b[0;32min\u001b[0m \u001b[0mrange\u001b[0m\u001b[0;34m(\u001b[0m\u001b[0mlen\u001b[0m\u001b[0;34m(\u001b[0m\u001b[0melements\u001b[0m\u001b[0;34m)\u001b[0m\u001b[0;34m)\u001b[0m\u001b[0;34m:\u001b[0m\u001b[0;34m\u001b[0m\u001b[0;34m\u001b[0m\u001b[0m\n\u001b[1;32m      7\u001b[0m                 \u001b[0;31m# nb elements[0:1] works in both string and list contexts\u001b[0m\u001b[0;34m\u001b[0m\u001b[0;34m\u001b[0m\u001b[0;34m\u001b[0m\u001b[0m\n\u001b[0;32m----> 8\u001b[0;31m                 \u001b[0;32mreturn\u001b[0m \u001b[0mperm\u001b[0m\u001b[0;34m[\u001b[0m\u001b[0;34m:\u001b[0m\u001b[0mi\u001b[0m\u001b[0;34m]\u001b[0m \u001b[0;34m+\u001b[0m \u001b[0melements\u001b[0m\u001b[0;34m[\u001b[0m\u001b[0;36m0\u001b[0m\u001b[0;34m:\u001b[0m\u001b[0;36m1\u001b[0m\u001b[0;34m]\u001b[0m \u001b[0;34m+\u001b[0m \u001b[0mperm\u001b[0m\u001b[0;34m[\u001b[0m\u001b[0mi\u001b[0m\u001b[0;34m:\u001b[0m\u001b[0;34m]\u001b[0m\u001b[0;34m\u001b[0m\u001b[0;34m\u001b[0m\u001b[0m\n\u001b[0m\u001b[1;32m      9\u001b[0m \u001b[0mall_perms\u001b[0m\u001b[0;34m(\u001b[0m\u001b[0;34m[\u001b[0m\u001b[0;36m1\u001b[0m\u001b[0;34m,\u001b[0m\u001b[0;36m2\u001b[0m\u001b[0;34m,\u001b[0m\u001b[0;36m3\u001b[0m\u001b[0;34m]\u001b[0m\u001b[0;34m)\u001b[0m\u001b[0;34m\u001b[0m\u001b[0;34m\u001b[0m\u001b[0m\n",
            "\u001b[0;31mTypeError\u001b[0m: 'int' object is not subscriptable"
          ]
        }
      ]
    },
    {
      "cell_type": "code",
      "source": [
        "n=[1,2,3,4]\n",
        "l=[]\n",
        "s=[]\n",
        "count=0\n",
        "while count<len(n)-1:\n",
        "  for i in n:\n",
        "    l=n[:count]+[i]+n[count:]\n",
        "  s.append(l)\n",
        "  count+=1\n",
        "s"
      ],
      "metadata": {
        "colab": {
          "base_uri": "https://localhost:8080/"
        },
        "id": "43PaGmmzO7-T",
        "outputId": "c3688c72-0e44-459a-96d5-a8251bbe3986"
      },
      "execution_count": null,
      "outputs": [
        {
          "output_type": "execute_result",
          "data": {
            "text/plain": [
              "[[4, 1, 2, 3, 4], [1, 4, 2, 3, 4], [1, 2, 4, 3, 4]]"
            ]
          },
          "metadata": {},
          "execution_count": 77
        }
      ]
    },
    {
      "cell_type": "code",
      "source": [
        "def permutations(c):\n",
        "  n=\"\".join(str(i) for i in c)\n",
        "  if len(n) == 1: return n\n",
        "  else:\n",
        "    first = n[0]\n",
        "    result = []\n",
        "    for i in range(len(n)):\n",
        "      for j in permutations(c[1:]):\n",
        "        result.append(j[0:i] + first + j[i:])\n",
        "        print(\"*\",result)\n",
        "\n",
        "    return result\n",
        "permutations([1,2,3])"
      ],
      "metadata": {
        "colab": {
          "base_uri": "https://localhost:8080/"
        },
        "id": "yQ1zSvxxrSqD",
        "outputId": "bde96a1d-964a-4957-bc79-c3666ce3fc50"
      },
      "execution_count": null,
      "outputs": [
        {
          "output_type": "stream",
          "name": "stdout",
          "text": [
            "* ['23']\n",
            "* ['23', '32']\n",
            "* ['123']\n",
            "* ['123', '132']\n",
            "* ['23']\n",
            "* ['23', '32']\n",
            "* ['123', '132', '213']\n",
            "* ['123', '132', '213', '312']\n",
            "* ['23']\n",
            "* ['23', '32']\n",
            "* ['123', '132', '213', '312', '231']\n",
            "* ['123', '132', '213', '312', '231', '321']\n"
          ]
        },
        {
          "output_type": "execute_result",
          "data": {
            "text/plain": [
              "['123', '132', '213', '312', '231', '321']"
            ]
          },
          "metadata": {},
          "execution_count": 55
        }
      ]
    },
    {
      "cell_type": "code",
      "source": [
        ""
      ],
      "metadata": {
        "id": "PoInfowe19rS"
      },
      "execution_count": null,
      "outputs": []
    },
    {
      "cell_type": "code",
      "source": [
        "b=[1,2,3]\n",
        "\"\".join(b)"
      ],
      "metadata": {
        "colab": {
          "base_uri": "https://localhost:8080/",
          "height": 182
        },
        "id": "Nw3tDQVo1QKT",
        "outputId": "727b4aea-3bf9-400f-e577-269529392d70"
      },
      "execution_count": null,
      "outputs": [
        {
          "output_type": "error",
          "ename": "TypeError",
          "evalue": "ignored",
          "traceback": [
            "\u001b[0;31m---------------------------------------------------------------------------\u001b[0m",
            "\u001b[0;31mTypeError\u001b[0m                                 Traceback (most recent call last)",
            "\u001b[0;32m<ipython-input-45-ea5aa55c982a>\u001b[0m in \u001b[0;36m<module>\u001b[0;34m()\u001b[0m\n\u001b[1;32m      1\u001b[0m \u001b[0mb\u001b[0m\u001b[0;34m=\u001b[0m\u001b[0;34m[\u001b[0m\u001b[0;36m1\u001b[0m\u001b[0;34m,\u001b[0m\u001b[0;36m2\u001b[0m\u001b[0;34m,\u001b[0m\u001b[0;36m3\u001b[0m\u001b[0;34m]\u001b[0m\u001b[0;34m\u001b[0m\u001b[0;34m\u001b[0m\u001b[0m\n\u001b[0;32m----> 2\u001b[0;31m \u001b[0;34m\"\"\u001b[0m\u001b[0;34m.\u001b[0m\u001b[0mjoin\u001b[0m\u001b[0;34m(\u001b[0m\u001b[0mb\u001b[0m\u001b[0;34m)\u001b[0m\u001b[0;34m\u001b[0m\u001b[0;34m\u001b[0m\u001b[0m\n\u001b[0m",
            "\u001b[0;31mTypeError\u001b[0m: sequence item 0: expected str instance, int found"
          ]
        }
      ]
    },
    {
      "cell_type": "code",
      "source": [
        "def permutations1(string):\n",
        "  if len(string) == 1: return set(string)\n",
        "  first = string[0]\n",
        "  rest = permutations1(string[1:])\n",
        "  result = set()\n",
        "  for i in range(0, len(string)):\n",
        "    for p in rest:\n",
        "      result.add(first)\n",
        "      result.add(p[0:i])\n",
        "      \n",
        "      result.add(p[i:])\n",
        "  return result\n",
        "permutations1([1,2,3])"
      ],
      "metadata": {
        "colab": {
          "base_uri": "https://localhost:8080/",
          "height": 345
        },
        "id": "yXm6ZlAa5Bns",
        "outputId": "c2549a36-4b88-4f55-b1b6-2f70dcb86015"
      },
      "execution_count": null,
      "outputs": [
        {
          "output_type": "error",
          "ename": "TypeError",
          "evalue": "ignored",
          "traceback": [
            "\u001b[0;31m---------------------------------------------------------------------------\u001b[0m",
            "\u001b[0;31mTypeError\u001b[0m                                 Traceback (most recent call last)",
            "\u001b[0;32m<ipython-input-20-1b27aa682b56>\u001b[0m in \u001b[0;36m<module>\u001b[0;34m()\u001b[0m\n\u001b[1;32m     11\u001b[0m       \u001b[0mresult\u001b[0m\u001b[0;34m.\u001b[0m\u001b[0madd\u001b[0m\u001b[0;34m(\u001b[0m\u001b[0mp\u001b[0m\u001b[0;34m[\u001b[0m\u001b[0mi\u001b[0m\u001b[0;34m:\u001b[0m\u001b[0;34m]\u001b[0m\u001b[0;34m)\u001b[0m\u001b[0;34m\u001b[0m\u001b[0;34m\u001b[0m\u001b[0m\n\u001b[1;32m     12\u001b[0m   \u001b[0;32mreturn\u001b[0m \u001b[0mresult\u001b[0m\u001b[0;34m\u001b[0m\u001b[0;34m\u001b[0m\u001b[0m\n\u001b[0;32m---> 13\u001b[0;31m \u001b[0mpermutations1\u001b[0m\u001b[0;34m(\u001b[0m\u001b[0;34m[\u001b[0m\u001b[0;36m1\u001b[0m\u001b[0;34m,\u001b[0m\u001b[0;36m2\u001b[0m\u001b[0;34m,\u001b[0m\u001b[0;36m3\u001b[0m\u001b[0;34m]\u001b[0m\u001b[0;34m)\u001b[0m\u001b[0;34m\u001b[0m\u001b[0;34m\u001b[0m\u001b[0m\n\u001b[0m",
            "\u001b[0;32m<ipython-input-20-1b27aa682b56>\u001b[0m in \u001b[0;36mpermutations1\u001b[0;34m(string)\u001b[0m\n\u001b[1;32m      2\u001b[0m   \u001b[0;32mif\u001b[0m \u001b[0mlen\u001b[0m\u001b[0;34m(\u001b[0m\u001b[0mstring\u001b[0m\u001b[0;34m)\u001b[0m \u001b[0;34m==\u001b[0m \u001b[0;36m1\u001b[0m\u001b[0;34m:\u001b[0m \u001b[0;32mreturn\u001b[0m \u001b[0mset\u001b[0m\u001b[0;34m(\u001b[0m\u001b[0mstring\u001b[0m\u001b[0;34m)\u001b[0m\u001b[0;34m\u001b[0m\u001b[0;34m\u001b[0m\u001b[0m\n\u001b[1;32m      3\u001b[0m   \u001b[0mfirst\u001b[0m \u001b[0;34m=\u001b[0m \u001b[0mstring\u001b[0m\u001b[0;34m[\u001b[0m\u001b[0;36m0\u001b[0m\u001b[0;34m]\u001b[0m\u001b[0;34m\u001b[0m\u001b[0;34m\u001b[0m\u001b[0m\n\u001b[0;32m----> 4\u001b[0;31m   \u001b[0mrest\u001b[0m \u001b[0;34m=\u001b[0m \u001b[0mpermutations1\u001b[0m\u001b[0;34m(\u001b[0m\u001b[0mstring\u001b[0m\u001b[0;34m[\u001b[0m\u001b[0;36m1\u001b[0m\u001b[0;34m:\u001b[0m\u001b[0;34m]\u001b[0m\u001b[0;34m)\u001b[0m\u001b[0;34m\u001b[0m\u001b[0;34m\u001b[0m\u001b[0m\n\u001b[0m\u001b[1;32m      5\u001b[0m   \u001b[0mresult\u001b[0m \u001b[0;34m=\u001b[0m \u001b[0mset\u001b[0m\u001b[0;34m(\u001b[0m\u001b[0;34m)\u001b[0m\u001b[0;34m\u001b[0m\u001b[0;34m\u001b[0m\u001b[0m\n\u001b[1;32m      6\u001b[0m   \u001b[0;32mfor\u001b[0m \u001b[0mi\u001b[0m \u001b[0;32min\u001b[0m \u001b[0mrange\u001b[0m\u001b[0;34m(\u001b[0m\u001b[0;36m0\u001b[0m\u001b[0;34m,\u001b[0m \u001b[0mlen\u001b[0m\u001b[0;34m(\u001b[0m\u001b[0mstring\u001b[0m\u001b[0;34m)\u001b[0m\u001b[0;34m)\u001b[0m\u001b[0;34m:\u001b[0m\u001b[0;34m\u001b[0m\u001b[0;34m\u001b[0m\u001b[0m\n",
            "\u001b[0;32m<ipython-input-20-1b27aa682b56>\u001b[0m in \u001b[0;36mpermutations1\u001b[0;34m(string)\u001b[0m\n\u001b[1;32m      7\u001b[0m     \u001b[0;32mfor\u001b[0m \u001b[0mp\u001b[0m \u001b[0;32min\u001b[0m \u001b[0mrest\u001b[0m\u001b[0;34m:\u001b[0m\u001b[0;34m\u001b[0m\u001b[0;34m\u001b[0m\u001b[0m\n\u001b[1;32m      8\u001b[0m       \u001b[0mresult\u001b[0m\u001b[0;34m.\u001b[0m\u001b[0madd\u001b[0m\u001b[0;34m(\u001b[0m\u001b[0mfirst\u001b[0m\u001b[0;34m)\u001b[0m\u001b[0;34m\u001b[0m\u001b[0;34m\u001b[0m\u001b[0m\n\u001b[0;32m----> 9\u001b[0;31m       \u001b[0mresult\u001b[0m\u001b[0;34m.\u001b[0m\u001b[0madd\u001b[0m\u001b[0;34m(\u001b[0m\u001b[0mp\u001b[0m\u001b[0;34m[\u001b[0m\u001b[0;36m0\u001b[0m\u001b[0;34m:\u001b[0m\u001b[0mi\u001b[0m\u001b[0;34m]\u001b[0m\u001b[0;34m)\u001b[0m\u001b[0;34m\u001b[0m\u001b[0;34m\u001b[0m\u001b[0m\n\u001b[0m\u001b[1;32m     10\u001b[0m \u001b[0;34m\u001b[0m\u001b[0m\n\u001b[1;32m     11\u001b[0m       \u001b[0mresult\u001b[0m\u001b[0;34m.\u001b[0m\u001b[0madd\u001b[0m\u001b[0;34m(\u001b[0m\u001b[0mp\u001b[0m\u001b[0;34m[\u001b[0m\u001b[0mi\u001b[0m\u001b[0;34m:\u001b[0m\u001b[0;34m]\u001b[0m\u001b[0;34m)\u001b[0m\u001b[0;34m\u001b[0m\u001b[0;34m\u001b[0m\u001b[0m\n",
            "\u001b[0;31mTypeError\u001b[0m: 'int' object is not subscriptable"
          ]
        }
      ]
    },
    {
      "cell_type": "code",
      "source": [
        "s=[1,2,3]"
      ],
      "metadata": {
        "id": "FKVVZSd0yU2-"
      },
      "execution_count": null,
      "outputs": []
    },
    {
      "cell_type": "code",
      "source": [
        "s[0:0]"
      ],
      "metadata": {
        "colab": {
          "base_uri": "https://localhost:8080/"
        },
        "id": "Dwj6aERgyWSY",
        "outputId": "0fcf0129-2b99-437b-bd80-b8595fc0ee07"
      },
      "execution_count": null,
      "outputs": [
        {
          "output_type": "execute_result",
          "data": {
            "text/plain": [
              "[]"
            ]
          },
          "metadata": {},
          "execution_count": 21
        }
      ]
    },
    {
      "cell_type": "code",
      "source": [
        "num = [1, 2, 3]\n",
        "num_set = set(num)\n",
        "solution = [[]]\n",
        "\n",
        "for index in range(len(num)) :\n",
        "    solution = [i + [j] for i in solution for j in num_set.difference(set(i))]\n",
        "    print(solution)\n",
        "\n",
        "print(solution)"
      ],
      "metadata": {
        "id": "gx6DPexGyXx2",
        "colab": {
          "base_uri": "https://localhost:8080/"
        },
        "outputId": "9d640bb5-e103-4394-b467-91f3ccb5751d"
      },
      "execution_count": null,
      "outputs": [
        {
          "output_type": "stream",
          "name": "stdout",
          "text": [
            "[[1], [2], [3]]\n",
            "[[1, 2], [1, 3], [2, 1], [2, 3], [3, 1], [3, 2]]\n",
            "[[1, 2, 3], [1, 3, 2], [2, 1, 3], [2, 3, 1], [3, 1, 2], [3, 2, 1]]\n",
            "[[1, 2, 3], [1, 3, 2], [2, 1, 3], [2, 3, 1], [3, 1, 2], [3, 2, 1]]\n"
          ]
        }
      ]
    },
    {
      "cell_type": "code",
      "source": [
        ""
      ],
      "metadata": {
        "id": "lkuH8MaRu-DB"
      },
      "execution_count": null,
      "outputs": []
    }
  ]
}