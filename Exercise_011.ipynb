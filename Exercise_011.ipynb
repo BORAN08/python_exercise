{
  "nbformat": 4,
  "nbformat_minor": 0,
  "metadata": {
    "colab": {
      "name": "Exercise_11.ipynb",
      "provenance": [],
      "collapsed_sections": []
    },
    "kernelspec": {
      "name": "python3",
      "display_name": "Python 3"
    },
    "language_info": {
      "name": "python"
    }
  },
  "cells": [
    {
      "cell_type": "markdown",
      "source": [
        "Python Exercise 11:\n",
        "Given the participants' score sheet for your University Sports Day, you are required to find the runner-up score. You are given  scores. Store them in a list and find the score of the runner-up.\n",
        "Input Format\n",
        "The first line contains . The second line contains an array   of  integers each separated by a space.\n",
        "Sample Input\n",
        "5\n",
        "2 3 6 6 5\n",
        "Sample Output\n",
        "5"
      ],
      "metadata": {
        "id": "Z8sBtO5Ki9Q8"
      }
    },
    {
      "cell_type": "code",
      "execution_count": 2,
      "metadata": {
        "colab": {
          "base_uri": "https://localhost:8080/"
        },
        "id": "WdH46lg6i8uL",
        "outputId": "c0b65d72-e2e0-4bed-c65b-8e9ebe240afa"
      },
      "outputs": [
        {
          "output_type": "stream",
          "name": "stdout",
          "text": [
            "5\n",
            "5 2 3 6 6 5\n",
            "5\n"
          ]
        }
      ],
      "source": [
        "num = int(input(\"\"))\n",
        "scores = list(map(int, input(\"\").split()))\n",
        "runner_up =sorted(set(scores))[-2]\n",
        "print(runner_up)"
      ]
    }
  ]
}
