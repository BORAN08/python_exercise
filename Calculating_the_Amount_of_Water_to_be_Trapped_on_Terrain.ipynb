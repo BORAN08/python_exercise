{
  "nbformat": 4,
  "nbformat_minor": 0,
  "metadata": {
    "colab": {
      "name": "Calculating_the_Amount_of_Water_to_be_Trapped_on_Terrain.ipynb",
      "provenance": [],
      "authorship_tag": "ABX9TyMHyjomC2q+GkygPoJELofu",
      "include_colab_link": true
    },
    "kernelspec": {
      "name": "python3",
      "display_name": "Python 3"
    },
    "language_info": {
      "name": "python"
    }
  },
  "cells": [
    {
      "cell_type": "markdown",
      "metadata": {
        "id": "view-in-github",
        "colab_type": "text"
      },
      "source": [
        "<a href=\"https://colab.research.google.com/github/BORAN08/python_exercise/blob/main/Calculating_the_Amount_of_Water_to_be_Trapped_on_Terrain.ipynb\" target=\"_parent\"><img src=\"https://colab.research.google.com/assets/colab-badge.svg\" alt=\"Open In Colab\"/></a>"
      ]
    },
    {
      "cell_type": "markdown",
      "metadata": {
        "id": "p-J_-adR1Zb8"
      },
      "source": [
        "## Coding Challenge - 3: \n",
        "\n",
        "## *** This is an optional question - You don't have to solve this ***\n",
        "\n",
        "Calculating the Amount of Water to be Trapped on Terrain\n",
        "\n",
        "The purpose of this coding challenge is to write a program that calculates the amount of water that can be contained within the generated holes.\n",
        "\n",
        "### Learning Outcomes\n",
        "\n",
        "At the end of this coding challenge, students will be able to;\n",
        "\n",
        "- analyze a problem, identify, and apply programming knowledge for appropriate solution.\n",
        "\n",
        "- design, implement `while` loops effectively in Python to solve the given problem.\n",
        "\n",
        "- control loops effectively by using `if` and `control` statements.\n",
        "\n",
        "- demonstrate their knowledge of algorithmic design principles by using solving the problem effectively.\n",
        "\n",
        "### Problem Statement\n",
        "\n",
        "- Given an array of non-negative integers representing an elevation map as shown below where the width of each bar is 1, compute how much water will be trapped on terrain after raining. To clarify further, the black boxes represents terrain and its height, and the blue boxes represents the water that could be trapped on the terrain.\n",
        "\n",
        "<center><img src=\"https://raw.githubusercontent.com/andrewfade/myprojects/main/image.png\" /></center>\n",
        "\n",
        "- User can enter as many numbers as they want to represent elevation of the terrain.\n",
        "\n",
        "- You can assume all the inputs are valid, thus you don't have to do an input check.\n",
        "\n",
        "- At the end of the program write a comment that indicates which computational thinking heuristics you have used and how you used them.\n",
        "\n",
        "- Example of user inputs and respective outputs.\n",
        "\n",
        "```text\n",
        "Inputs\n",
        "------------------------------\n",
        "Type 'ok' when you are done: 5\n",
        "Type 'ok' when you are done: 4\n",
        "Type 'ok' when you are done: 5\n",
        "Type 'ok' when you are done: ok\n",
        "\n",
        "Output\n",
        "------\n",
        "1\n",
        "\n",
        "Inputs\n",
        "------------------------------\n",
        "Type 'ok' when you are done: 2\n",
        "Type 'ok' when you are done: 1\n",
        "Type 'ok' when you are done: 2\n",
        "Type 'ok' when you are done: 3\n",
        "Type 'ok' when you are done: 2\n",
        "Type 'ok' when you are done: 3\n",
        "Type 'ok' when you are done: ok\n",
        "\n",
        "Output\n",
        "------\n",
        "2\n",
        "\n",
        "Inputs\n",
        "------------------------------\n",
        "Type 'ok' when you are done: 6\n",
        "Type 'ok' when you are done: 5\n",
        "Type 'ok' when you are done: 8\n",
        "Type 'ok' when you are done: 9\n",
        "Type 'ok' when you are done: 2\n",
        "Type 'ok' when you are done: 4\n",
        "Type 'ok' when you are done: 3\n",
        "Type 'ok' when you are done: 6\n",
        "Type 'ok' when you are done: ok\n",
        "\n",
        "Output\n",
        "------\n",
        "10\n",
        "```"
      ]
    },
    {
      "cell_type": "code",
      "source": [
        "def  amount_of_water_terrain(n:list):\n",
        "  if len(n) < 3:\n",
        "    return \"No water has trapped in the terrain.\"\n",
        "  else:\n",
        "    height = max(n)\n",
        "    water = 0\n",
        "    count = 0\n",
        "    while count < height:\n",
        "      if len(n) < 3 : break\n",
        "      for i in range(len(n)):          # if startswith=\"0\" and endswith=\"0\" delete \n",
        "        if n[0] <= 0 : n.pop(0)\n",
        "        elif n[-1] <= 0 : n.pop(-1)\n",
        "\n",
        "      water+= n.count(0)\n",
        "      new_n = []\n",
        "      for j in n:                      # moves to the upper line\n",
        "        if j==0 : new_n.append(j)\n",
        "        else : new_n.append(j-1)\n",
        "      n=new_n\n",
        "      count+=1\n",
        "    return water\n",
        "print(amount_of_water_terrain([0,0,0,4,1,0,2,1,0,1,3,2,0,1,2,100,0,0,0,0,0]))\n",
        "print(amount_of_water_terrain([0,1]))\n",
        "print(amount_of_water_terrain([0,1,0,2,1,0,1,3,2,1,2,1]))"
      ],
      "metadata": {
        "colab": {
          "base_uri": "https://localhost:8080/"
        },
        "id": "rKjlzDOyGKyF",
        "outputId": "f6b8ec1b-9ec2-4de8-811e-e8d68ae53d2b"
      },
      "execution_count": 10,
      "outputs": [
        {
          "output_type": "stream",
          "name": "stdout",
          "text": [
            "31\n",
            "No water has trapped in the terrain.\n",
            "6\n"
          ]
        }
      ]
    }
  ]
}