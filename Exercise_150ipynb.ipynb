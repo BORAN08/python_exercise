{
  "nbformat": 4,
  "nbformat_minor": 0,
  "metadata": {
    "colab": {
      "name": "Exercise_150ipynb",
      "provenance": [],
      "authorship_tag": "ABX9TyNhSzajg02aC3dJR99CRKMW",
      "include_colab_link": true
    },
    "kernelspec": {
      "name": "python3",
      "display_name": "Python 3"
    },
    "language_info": {
      "name": "python"
    }
  },
  "cells": [
    {
      "cell_type": "markdown",
      "metadata": {
        "id": "view-in-github",
        "colab_type": "text"
      },
      "source": [
        "<a href=\"https://colab.research.google.com/github/BORAN08/python_exercise/blob/main/Exercise_150ipynb.ipynb\" target=\"_parent\"><img src=\"https://colab.research.google.com/assets/colab-badge.svg\" alt=\"Open In Colab\"/></a>"
      ]
    },
    {
      "cell_type": "markdown",
      "source": [
        "Exercise 150)\n",
        "\n",
        "Create a function to check if a candidate is qualified in an imaginary coding interview of an imaginary tech startup.\n",
        "The criteria for a candidate to be qualified in the coding interview is:\n",
        "The candidate should have complete all the questions.\n",
        "The maximum time given to complete the interview is 120 minutes.\n",
        "The maximum time given for very easy questions is 5 minutes each.\n",
        "The maximum time given for easy questions is 10 minutes each.\n",
        "The maximum time given for medium questions is 15 minutes each.\n",
        "The maximum time given for hard questions is 20 minutes each.\n",
        "If all the above conditions are satisfied, return \"qualified\", else return \"disqualified\".\n",
        "You will be given a list of time taken by a candidate to solve a particular question and the total time taken by the candidate to complete the interview.\n",
        "Given a list , in a true condition will always be in the format [very easy, very easy, easy, easy, medium, medium, hard, hard].\n",
        "The maximum time to complete the interview includes a buffer time of 20 minutes.\n",
        "Examples\n",
        "interview([5, 5, 10, 10, 15, 15, 20, 20], 120) ➞ \"qualified\"\n",
        "\n",
        "interview([2, 3, 8, 6, 5, 12, 10, 18], 64) ➞  \"qualified\"\n",
        "\n",
        "interview([5, 5, 10, 10, 25, 15, 20, 20], 120) ➞ \"disqualified\"\n",
        "# Exceeded the time limit for a medium question.\n",
        "\n",
        "interview([5, 5, 10, 10, 15, 15, 20], 120) ➞ \"disqualified\"\n",
        "# Did not complete all the questions.\n",
        "\n",
        "interview([5, 5, 10, 10, 15, 15, 20, 20], 130) ➞ \"disqualified\"\n",
        "# Solved all the questions in their respected time limits but exceeded the total"
      ],
      "metadata": {
        "id": "_HzsSNYlQAGT"
      }
    },
    {
      "cell_type": "code",
      "execution_count": 1,
      "metadata": {
        "colab": {
          "base_uri": "https://localhost:8080/",
          "height": 35
        },
        "id": "oC8BYrkEP_td",
        "outputId": "03ea01cc-508d-46e0-8928-3de3a5c5aefa"
      },
      "outputs": [
        {
          "output_type": "execute_result",
          "data": {
            "application/vnd.google.colaboratory.intrinsic+json": {
              "type": "string"
            },
            "text/plain": [
              "'disqualified'"
            ]
          },
          "metadata": {},
          "execution_count": 1
        }
      ],
      "source": [
        "def interview(question_time,max_time):\n",
        "  for i in question_time:\n",
        "    if max_time<=120 and len(question_time)==8:\n",
        "      if question_time[0]<=5 and question_time[1]<=5:return \"qualified\"\n",
        "      elif question_time[2]<=10 and question_time[3]<=10:return \"qualified\"\n",
        "      elif question_time[4]<=15 and question_time[5]<=15:return \"qualified\"\n",
        "      elif question_time[6]<=20 and question_time[7]<=20:return \"qualified\"\n",
        "    else:\n",
        "      return \"disqualified\"\n",
        "interview([5, 5, 10, 10, 15, 15, 20], 120)"
      ]
    }
  ]
}