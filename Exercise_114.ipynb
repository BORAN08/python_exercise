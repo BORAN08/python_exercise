{
  "nbformat": 4,
  "nbformat_minor": 0,
  "metadata": {
    "colab": {
      "name": "Exercise_114.ipynb",
      "provenance": [],
      "authorship_tag": "ABX9TyOaTdwpDynumd4HijqwcTCe",
      "include_colab_link": true
    },
    "kernelspec": {
      "name": "python3",
      "display_name": "Python 3"
    },
    "language_info": {
      "name": "python"
    }
  },
  "cells": [
    {
      "cell_type": "markdown",
      "metadata": {
        "id": "view-in-github",
        "colab_type": "text"
      },
      "source": [
        "<a href=\"https://colab.research.google.com/github/BORAN08/python_exercise/blob/main/Exercise_114.ipynb\" target=\"_parent\"><img src=\"https://colab.research.google.com/assets/colab-badge.svg\" alt=\"Open In Colab\"/></a>"
      ]
    },
    {
      "cell_type": "markdown",
      "source": [
        "Exercise 114: Write a Python program to find the minimum window in a given string which will contain all the characters of another given string"
      ],
      "metadata": {
        "id": "fSNXWZ3wLjDX"
      }
    },
    {
      "cell_type": "code",
      "execution_count": 1,
      "metadata": {
        "colab": {
          "base_uri": "https://localhost:8080/"
        },
        "id": "lhOohiRQLhvw",
        "outputId": "46db9d26-e270-4fad-ef5f-3b551fb7e12c"
      },
      "outputs": [
        {
          "output_type": "stream",
          "name": "stdout",
          "text": [
            "arcuswa\n"
          ]
        }
      ],
      "source": [
        "str1 = \"clarcusway\"\n",
        "str2 = \"sccaa\"\n",
        "index1=[0]\n",
        "for i in str2:\n",
        "  if str1.count(i)>1:\n",
        "    index1.append(str1.find(i,index1[-1]+1))\n",
        "if i in str1:\n",
        "  index1.append(str1.find(i))\n",
        "for i in index1:\n",
        "  if i==0 or i==-1:\n",
        "    index1.remove(i)\n",
        "print(str1[min(index1):max(index1)+1])"
      ]
    }
  ]
}