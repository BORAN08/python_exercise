{
  "nbformat": 4,
  "nbformat_minor": 0,
  "metadata": {
    "colab": {
      "name": "Exercise_022.ipynb",
      "provenance": [],
      "authorship_tag": "ABX9TyNdlURT+3YRMRVpp3DTjBfz",
      "include_colab_link": true
    },
    "kernelspec": {
      "name": "python3",
      "display_name": "Python 3"
    },
    "language_info": {
      "name": "python"
    }
  },
  "cells": [
    {
      "cell_type": "markdown",
      "metadata": {
        "id": "view-in-github",
        "colab_type": "text"
      },
      "source": [
        "<a href=\"https://colab.research.google.com/github/BORAN08/python_exercise/blob/main/Exercise_022.ipynb\" target=\"_parent\"><img src=\"https://colab.research.google.com/assets/colab-badge.svg\" alt=\"Open In Colab\"/></a>"
      ]
    },
    {
      "cell_type": "markdown",
      "source": [
        "Exercise - 22\n",
        "\n",
        "Write a Python dictionary function that takes a string from the user and matches each character in the string with the index number.\n",
        "\n",
        "For Example:\n",
        "\n",
        "İnput:'clarusway'\n",
        "\n",
        "output: {0: 'c', 1: 'l', 2: 'a', 3: 'r', 4: 'u', 5: 's', 6: 'w', 7: 'a', 8: 'y'}"
      ],
      "metadata": {
        "id": "OUIPl7xkqwLk"
      }
    },
    {
      "cell_type": "code",
      "execution_count": 2,
      "metadata": {
        "colab": {
          "base_uri": "https://localhost:8080/"
        },
        "id": "riBUxUC_qtkV",
        "outputId": "e4221145-2b0c-4185-a494-55595b7658f1"
      },
      "outputs": [
        {
          "output_type": "stream",
          "name": "stdout",
          "text": [
            "Please enter a word: clarusway\n",
            "{0: 'c', 1: 'l', 2: 'a', 3: 'r', 4: 'u', 5: 's', 6: 'w', 7: 'a', 8: 'y'}\n"
          ]
        }
      ],
      "source": [
        "s = input(\"Please enter a word: \")\n",
        "print(dict(enumerate(s,0)))"
      ]
    }
  ]
}