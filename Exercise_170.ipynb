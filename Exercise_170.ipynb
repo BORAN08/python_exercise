{
  "nbformat": 4,
  "nbformat_minor": 0,
  "metadata": {
    "colab": {
      "name": "Exercise_170.ipynb",
      "provenance": [],
      "authorship_tag": "ABX9TyO3dHItzkglZr3OvBanZVTf",
      "include_colab_link": true
    },
    "kernelspec": {
      "name": "python3",
      "display_name": "Python 3"
    },
    "language_info": {
      "name": "python"
    }
  },
  "cells": [
    {
      "cell_type": "markdown",
      "metadata": {
        "id": "view-in-github",
        "colab_type": "text"
      },
      "source": [
        "<a href=\"https://colab.research.google.com/github/BORAN08/python_exercise/blob/main/Exercise_170.ipynb\" target=\"_parent\"><img src=\"https://colab.research.google.com/assets/colab-badge.svg\" alt=\"Open In Colab\"/></a>"
      ]
    },
    {
      "cell_type": "markdown",
      "source": [
        "Exercise 170)Given an integer, return a new integer according to the rules below:\n",
        "Split the number into groups of two digit numbers. If the number has an odd number of digits, return \"invalid\".\n",
        "For each group of two digit numbers, concatenate the last digit to a new string the same number of times as the value of the first digit.\n",
        "Return the result as an integer.\n",
        "look_and_say(3132) ➞ 111222\n",
        "\n",
        "# By reading the number digit by digit, you get three \"1\" and three \"2\".\n",
        "# Therefore, you put three ones and three two's together.\n",
        "# Remember to return an integer.\n",
        "Examples\n",
        "look_and_say(95) ➞ 555555555\n",
        "\n",
        "look_and_say(1213141516171819) ➞ 23456789\n",
        "\n",
        "look_and_say(120520) ➞ 200\n",
        "\n",
        "look_and_say(231) ➞ \"invalid\""
      ],
      "metadata": {
        "id": "QTVLr7bgKGjz"
      }
    },
    {
      "cell_type": "code",
      "execution_count": 27,
      "metadata": {
        "colab": {
          "base_uri": "https://localhost:8080/"
        },
        "id": "EsUaMLQdKF6Z",
        "outputId": "25a43c4f-8c71-4b8e-9a29-f5d5509dd259"
      },
      "outputs": [
        {
          "output_type": "stream",
          "name": "stdout",
          "text": [
            "23456789\n",
            "555555555\n"
          ]
        }
      ],
      "source": [
        "def look_and_say(number):\n",
        "  number=str(number)\n",
        "  if len(number)%2==1: return \"invalid\"\n",
        "  else:\n",
        "    number_=\"\"\n",
        "    for i in range(0,len(number),2):\n",
        "      number_+=int(number[i:i+2][0])*number[i:i+2][1]\n",
        "    return number_\n",
        "print(look_and_say(1213141516171819))\n",
        "print(look_and_say(\"95\"))"
      ]
    }
  ]
}