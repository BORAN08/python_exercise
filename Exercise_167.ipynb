{
  "nbformat": 4,
  "nbformat_minor": 0,
  "metadata": {
    "colab": {
      "name": "Exercise_167.ipynb",
      "provenance": [],
      "authorship_tag": "ABX9TyNZov6OzK55u0bhnp5iKOvh",
      "include_colab_link": true
    },
    "kernelspec": {
      "name": "python3",
      "display_name": "Python 3"
    },
    "language_info": {
      "name": "python"
    }
  },
  "cells": [
    {
      "cell_type": "markdown",
      "metadata": {
        "id": "view-in-github",
        "colab_type": "text"
      },
      "source": [
        "<a href=\"https://colab.research.google.com/github/BORAN08/python_exercise/blob/main/Exercise_167.ipynb\" target=\"_parent\"><img src=\"https://colab.research.google.com/assets/colab-badge.svg\" alt=\"Open In Colab\"/></a>"
      ]
    },
    {
      "cell_type": "markdown",
      "source": [
        "Exercise-167\n",
        "Take the following IPv4 address: 128.32.10.1\n",
        "This address has 4 octets where each octet is a single byte (or 8 bits).\n",
        "1st octet 128 has the binary representation: 10000000\n",
        "2nd octet 32 has the binary representation: 00100000\n",
        "3rd octet 10 has the binary representation: 00001010\n",
        "4th octet 1 has the binary representation: 00000001\n",
        "So 128.32.10.1 == 10000000.00100000.00001010.00000001\n",
        "Because the above IP address has 32 bits, we can represent it as the unsigned 32 bit number: 2149583361\n",
        "Complete the function that takes an unsigned 32 bit number and returns a string representation of its IPv4 address.\n",
        "Examples\n",
        "2149583361 ==> \"128.32.10.1\"\n",
        "32         ==> \"0.0.0.32\"\n",
        "0          ==> \"0.0.0.0\""
      ],
      "metadata": {
        "id": "2Eb-MhEm3gZB"
      }
    },
    {
      "cell_type": "code",
      "execution_count": 2,
      "metadata": {
        "colab": {
          "base_uri": "https://localhost:8080/",
          "height": 35
        },
        "id": "9SpUKkvp3f1t",
        "outputId": "d3ecd691-5d2f-458a-a0fa-051316efad94"
      },
      "outputs": [
        {
          "output_type": "execute_result",
          "data": {
            "application/vnd.google.colaboratory.intrinsic+json": {
              "type": "string"
            },
            "text/plain": [
              "'128.32.10.1'"
            ]
          },
          "metadata": {},
          "execution_count": 2
        }
      ],
      "source": [
        "def IP_address(n):\n",
        "  f=\"{0:b}\".format(n).rjust(32,\"0\")\n",
        "  return \".\".join([str(int(f[x:x+8],2)) for x in range(0,len(f),8)])\n",
        "IP_address(2149583361)"
      ]
    }
  ]
}