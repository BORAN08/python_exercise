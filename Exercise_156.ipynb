{
  "nbformat": 4,
  "nbformat_minor": 0,
  "metadata": {
    "colab": {
      "name": "Exercise_156.ipynb",
      "provenance": [],
      "authorship_tag": "ABX9TyMf9Ym46CyKToP4I2swDyFe",
      "include_colab_link": true
    },
    "kernelspec": {
      "name": "python3",
      "display_name": "Python 3"
    },
    "language_info": {
      "name": "python"
    }
  },
  "cells": [
    {
      "cell_type": "markdown",
      "metadata": {
        "id": "view-in-github",
        "colab_type": "text"
      },
      "source": [
        "<a href=\"https://colab.research.google.com/github/BORAN08/python_exercise/blob/main/Exercise_156.ipynb\" target=\"_parent\"><img src=\"https://colab.research.google.com/assets/colab-badge.svg\" alt=\"Open In Colab\"/></a>"
      ]
    },
    {
      "cell_type": "markdown",
      "source": [
        "156-Write a function that reverses the bits in an integer.\n",
        "\n",
        "For example, the number 417 is 110100001 in binary. \n",
        "Reversing the binary is 100001011 which is 267.\n",
        "\n",
        "You can assume that the number is not negative."
      ],
      "metadata": {
        "id": "BMnoDOnsm61_"
      }
    },
    {
      "cell_type": "code",
      "execution_count": 3,
      "metadata": {
        "colab": {
          "base_uri": "https://localhost:8080/"
        },
        "id": "Llm4_nBRm3Q3",
        "outputId": "5b936961-6961-4768-b169-f69e7138c446"
      },
      "outputs": [
        {
          "output_type": "execute_result",
          "data": {
            "text/plain": [
              "267"
            ]
          },
          "metadata": {},
          "execution_count": 3
        }
      ],
      "source": [
        "def binary(num) :\n",
        "  bin = \"\"\n",
        "  while num != 0 :\n",
        "    bin += str(num % 2)\n",
        "    num = num // 2\n",
        "  return int(bin,2)\n",
        "binary(417)"
      ]
    },
    {
      "cell_type": "code",
      "source": [
        ""
      ],
      "metadata": {
        "id": "YwxiSzU2nRRX"
      },
      "execution_count": null,
      "outputs": []
    }
  ]
}