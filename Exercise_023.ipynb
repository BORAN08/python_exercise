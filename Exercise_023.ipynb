{
  "nbformat": 4,
  "nbformat_minor": 0,
  "metadata": {
    "colab": {
      "name": "Exercise_023.ipynb",
      "provenance": [],
      "authorship_tag": "ABX9TyP408MOf+338xfJf1VhPjVm",
      "include_colab_link": true
    },
    "kernelspec": {
      "name": "python3",
      "display_name": "Python 3"
    },
    "language_info": {
      "name": "python"
    }
  },
  "cells": [
    {
      "cell_type": "markdown",
      "metadata": {
        "id": "view-in-github",
        "colab_type": "text"
      },
      "source": [
        "<a href=\"https://colab.research.google.com/github/BORAN08/python_exercise/blob/main/Exercise_023.ipynb\" target=\"_parent\"><img src=\"https://colab.research.google.com/assets/colab-badge.svg\" alt=\"Open In Colab\"/></a>"
      ]
    },
    {
      "cell_type": "markdown",
      "source": [
        "Exercise - 23\n",
        "\n",
        "Write a Python function that takes a positive integer and returns the sum of the cube of all the positive integers smaller than the specified number."
      ],
      "metadata": {
        "id": "8olYtXzQpNVu"
      }
    },
    {
      "cell_type": "code",
      "execution_count": 1,
      "metadata": {
        "colab": {
          "base_uri": "https://localhost:8080/"
        },
        "id": "AKfiwQk7pKWi",
        "outputId": "1a9604f9-1c90-4fa5-d520-e2b9ca14a3e1"
      },
      "outputs": [
        {
          "output_type": "stream",
          "name": "stdout",
          "text": [
            "Please enter a number: 20\n",
            "36100\n"
          ]
        }
      ],
      "source": [
        "num = int(input(\"Please enter a number: \"))\n",
        "my_sum = sum([i**3  for i in range(1,num)])\n",
        "print(my_sum)"
      ]
    }
  ]
}