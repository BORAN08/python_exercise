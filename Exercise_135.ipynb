{
  "nbformat": 4,
  "nbformat_minor": 0,
  "metadata": {
    "colab": {
      "name": "Exercise_135.ipynb",
      "provenance": [],
      "authorship_tag": "ABX9TyPrn55OfowNbShv+EiPZJtp",
      "include_colab_link": true
    },
    "kernelspec": {
      "name": "python3",
      "display_name": "Python 3"
    },
    "language_info": {
      "name": "python"
    }
  },
  "cells": [
    {
      "cell_type": "markdown",
      "metadata": {
        "id": "view-in-github",
        "colab_type": "text"
      },
      "source": [
        "<a href=\"https://colab.research.google.com/github/BORAN08/python_exercise/blob/main/Exercise_135.ipynb\" target=\"_parent\"><img src=\"https://colab.research.google.com/assets/colab-badge.svg\" alt=\"Open In Colab\"/></a>"
      ]
    },
    {
      "cell_type": "markdown",
      "source": [
        "Exercise-135\n",
        "Write a function that, given a string of text (possibly with punctuation and line-breaks), returns an array of the top-3 most occurring words, in descending order of the number of occurrences.\n",
        "\n",
        "Assumptions:\n",
        "A word is a string of letters (A to Z) optionally containing one or more apostrophes (') in ASCII.\n",
        "Apostrophes can appear at the start, middle or end of a word ('abc, abc', 'abc', ab'c are all valid)\n",
        "Any other characters (e.g. #, \\, / , . ...) are not part of a word and should be treated as whitespace.\n",
        "Matches should be case-insensitive, and the words in the result should be lowercased.\n",
        "Ties may be broken arbitrarily.\n",
        "If a text contains fewer than three unique words, then either the top-2 or top-1 words should be returned, or an empty array if a text contains no words.\n",
        "Examples:\n",
        "top_3_words(\"In a village of La Mancha, the name of which I have no desire to call to\n",
        "mind, there lived not long since one of those gentlemen that keep a lance\n",
        "in the lance-rack, an old buckler, a lean hack, and a greyhound for\n",
        "coursing. An olla of rather more beef than mutton, a salad on most\n",
        "nights, scraps on Saturdays, lentils on Fridays, and a pigeon or so extra\n",
        "on Sundays, made away with three-quarters of his income.\")\n",
        "# => [\"a\", \"of\", \"on\"]\n",
        "\n",
        "top_3_words(\"e e e e DDD ddd DdD: ddd ddd aa aA Aa, bb cc cC e e e\")\n",
        "# => [\"e\", \"ddd\", \"aa\"]\n",
        "\n",
        "top_3_words(\"  //wont won't won't\")\n",
        "# => [\"won't\", \"wont\"]"
      ],
      "metadata": {
        "id": "q62I5Y-rDnmP"
      }
    },
    {
      "cell_type": "code",
      "metadata": {
        "colab": {
          "base_uri": "https://localhost:8080/"
        },
        "id": "wG56wUfbHD1k",
        "outputId": "fc932496-f27f-45a7-825e-1772d7b9eeb1"
      },
      "source": [
        "def top_3_words(text):\n",
        "    sil=\"\".join(i for i in text if not i.isalpha() and not i==\"'\")\n",
        "    new_text=[]\n",
        "    for i in text.lower().split():\n",
        "        for j in sil:\n",
        "            if j in i:\n",
        "                i=i.replace(j,\"\")\n",
        "        if len(i)>0 and set(i)!={\"'\"}:\n",
        "            new_text.append(i)\n",
        "    text_dict={}\n",
        "    for i in new_text:\n",
        "        if i not in text_dict:\n",
        "            text_dict.setdefault(new_text.count(i),i) \n",
        "    return [i[1] for i in sorted(text_dict.items(),reverse=True)[:3]]\n",
        "top_3_words(\"''''\")"
      ],
      "execution_count": 3,
      "outputs": [
        {
          "output_type": "execute_result",
          "data": {
            "text/plain": [
              "[]"
            ]
          },
          "metadata": {},
          "execution_count": 3
        }
      ]
    },
    {
      "cell_type": "code",
      "metadata": {
        "colab": {
          "base_uri": "https://localhost:8080/"
        },
        "id": "9bEI8TbTTKrK",
        "outputId": "2fa9b41f-c30e-4470-b7c3-c8d15e0e22dd"
      },
      "source": [
        "def top_3_words(text):\n",
        "    sil=\"\".join(i for i in text if not i.isalpha() and not i==\" \" and not i==\"'\")\n",
        "    ceviri=str.maketrans(\"\",\"\",sil)\n",
        "    new_text=text.translate(ceviri).lower().split()\n",
        "    text_dict={}\n",
        "    for i in new_text:\n",
        "        if i not in text_dict:\n",
        "            text_dict.setdefault(new_text.count(i),i)\n",
        "    top3=[]\n",
        "    for i in sorted(text_dict.items(),reverse=True)[:3]:\n",
        "      if set(i[1])=={\"'\"}:\n",
        "        return []\n",
        "      else:\n",
        "        top3.append(i[1])\n",
        "    return top3\n",
        "top_3_words(\" //wont won't won't\")"
      ],
      "execution_count": 2,
      "outputs": [
        {
          "output_type": "execute_result",
          "data": {
            "text/plain": [
              "[\"won't\", 'wont']"
            ]
          },
          "metadata": {},
          "execution_count": 2
        }
      ]
    },
    {
      "cell_type": "code",
      "source": [
        "#D1155 Melek's salute\n",
        "def top_3_words(string) :\n",
        "  string = string.lower()\n",
        "  new_str = \"\".join([i if i.isalpha() or i == \"'\" else \" \" for word in string for i in word]).split()\n",
        "  return sorted(set(new_str), key = new_str.count , reverse=True)[:3]\n",
        "top_3_words(\" //wont won't won't\")"
      ],
      "metadata": {
        "colab": {
          "base_uri": "https://localhost:8080/"
        },
        "id": "VZczjQnTELmN",
        "outputId": "f7cce7d9-f85b-4638-b1ca-2d5f09b946f9"
      },
      "execution_count": 6,
      "outputs": [
        {
          "output_type": "execute_result",
          "data": {
            "text/plain": [
              "[\"won't\", 'wont']"
            ]
          },
          "metadata": {},
          "execution_count": 6
        }
      ]
    }
  ]
}