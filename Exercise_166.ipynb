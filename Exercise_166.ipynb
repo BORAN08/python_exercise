{
  "nbformat": 4,
  "nbformat_minor": 0,
  "metadata": {
    "colab": {
      "name": "Exercise_166.ipynb",
      "provenance": [],
      "authorship_tag": "ABX9TyOAwAl3zriCT7P5Fgu81bqb",
      "include_colab_link": true
    },
    "kernelspec": {
      "name": "python3",
      "display_name": "Python 3"
    },
    "language_info": {
      "name": "python"
    }
  },
  "cells": [
    {
      "cell_type": "markdown",
      "metadata": {
        "id": "view-in-github",
        "colab_type": "text"
      },
      "source": [
        "<a href=\"https://colab.research.google.com/github/BORAN08/python_exercise/blob/main/Exercise_166.ipynb\" target=\"_parent\"><img src=\"https://colab.research.google.com/assets/colab-badge.svg\" alt=\"Open In Colab\"/></a>"
      ]
    },
    {
      "cell_type": "markdown",
      "source": [
        "Exercise-166\n",
        "Given the triangle of consecutive odd numbers:\n",
        "\n",
        "             1\n",
        "          3     5\n",
        "       7     9    11\n",
        "   13    15    17    19\n",
        "   \n",
        "21    23    25    27    29\n",
        "\n",
        "...\n",
        "Calculate the sum of the numbers in the nth row of this triangle (starting at index 1) e.g.: (Input --> Output)\n",
        "\n",
        "1 -->  1\n",
        "\n",
        "2 --> 3 + 5 = 8"
      ],
      "metadata": {
        "id": "Q4SWO6J1K6u2"
      }
    },
    {
      "cell_type": "code",
      "execution_count": 5,
      "metadata": {
        "colab": {
          "base_uri": "https://localhost:8080/"
        },
        "id": "W7c3hYO2K6Sm",
        "outputId": "03a7e005-d331-4658-e325-0f26038153e2"
      },
      "outputs": [
        {
          "output_type": "execute_result",
          "data": {
            "text/plain": [
              "27"
            ]
          },
          "metadata": {},
          "execution_count": 5
        }
      ],
      "source": [
        "# D1271 Oğuzhan's salute\n",
        "def func(x):\n",
        "  return x*x*x\n",
        "func(3)"
      ]
    },
    {
      "cell_type": "code",
      "source": [
        "def row_of_sum(n):\n",
        "  return sum(i for i in range((n*(n-1))+1,(n*n)+n,2))\n",
        "row_of_sum(4)"
      ],
      "metadata": {
        "colab": {
          "base_uri": "https://localhost:8080/"
        },
        "id": "z2nG1SdNLWy9",
        "outputId": "9d419afa-558f-4449-98ba-de928a4f4354"
      },
      "execution_count": 9,
      "outputs": [
        {
          "output_type": "execute_result",
          "data": {
            "text/plain": [
              "64"
            ]
          },
          "metadata": {},
          "execution_count": 9
        }
      ]
    }
  ]
}