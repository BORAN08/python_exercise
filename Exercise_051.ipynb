{
  "nbformat": 4,
  "nbformat_minor": 0,
  "metadata": {
    "colab": {
      "name": "Exercise_051.ipynb",
      "provenance": [],
      "authorship_tag": "ABX9TyOUqx5ATbYa/ozhb7a8SJxq",
      "include_colab_link": true
    },
    "kernelspec": {
      "name": "python3",
      "display_name": "Python 3"
    },
    "language_info": {
      "name": "python"
    }
  },
  "cells": [
    {
      "cell_type": "markdown",
      "metadata": {
        "id": "view-in-github",
        "colab_type": "text"
      },
      "source": [
        "<a href=\"https://colab.research.google.com/github/BORAN08/python_exercise/blob/main/Exercise_051.ipynb\" target=\"_parent\"><img src=\"https://colab.research.google.com/assets/colab-badge.svg\" alt=\"Open In Colab\"/></a>"
      ]
    },
    {
      "cell_type": "markdown",
      "metadata": {
        "id": "7LAn03jSav36"
      },
      "source": [
        "Exercise - 051\n",
        "how many of the first 10,000 prime numbers start with 3 and end with 7?"
      ]
    },
    {
      "cell_type": "code",
      "metadata": {
        "colab": {
          "base_uri": "https://localhost:8080/"
        },
        "id": "a0QB7epFHkD3",
        "outputId": "55e3a48f-bbaa-4a66-86bb-1fb23b46a098"
      },
      "source": [
        "def prime_numbers(num_asal):\n",
        "  asal=set()\n",
        "  for i in range(2,num_asal+1):\n",
        "    for j in range(2,i):\n",
        "      if i%j==0:\n",
        "        break\n",
        "    else:\n",
        "      asal.add(i)\n",
        "  primeNumber_=[]\n",
        "  for k in asal:\n",
        "    k=str(k)\n",
        "    if k[0]==\"3\" and k[-1]==\"7\":\n",
        "      primeNumber_.append(k)\n",
        "  return len(primeNumber_)\n",
        "prime_numbers(10000)"
      ],
      "execution_count": 7,
      "outputs": [
        {
          "output_type": "execute_result",
          "data": {
            "text/plain": [
              "37"
            ]
          },
          "metadata": {},
          "execution_count": 7
        }
      ]
    }
  ]
}