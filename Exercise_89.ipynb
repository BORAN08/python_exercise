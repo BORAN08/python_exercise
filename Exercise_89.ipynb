{
  "nbformat": 4,
  "nbformat_minor": 0,
  "metadata": {
    "colab": {
      "name": "Exercise_89.ipynb",
      "provenance": [],
      "authorship_tag": "ABX9TyMSBj9WJkm3G2Oay/XS5wRv",
      "include_colab_link": true
    },
    "kernelspec": {
      "name": "python3",
      "display_name": "Python 3"
    },
    "language_info": {
      "name": "python"
    }
  },
  "cells": [
    {
      "cell_type": "markdown",
      "metadata": {
        "id": "view-in-github",
        "colab_type": "text"
      },
      "source": [
        "<a href=\"https://colab.research.google.com/github/BORAN08/python_exercise/blob/main/Exercise_89.ipynb\" target=\"_parent\"><img src=\"https://colab.research.google.com/assets/colab-badge.svg\" alt=\"Open In Colab\"/></a>"
      ]
    },
    {
      "cell_type": "markdown",
      "source": [
        "Exercise-89\n",
        "Greed is a dice game played with five six-sided dice. Your mission, should you choose to accept it, is to score a throw according to these rules. You will always be given an array with five six-sided dice values.\n",
        "\n",
        "\n",
        " \n",
        " Three 1's => 1000 points\n",
        " \n",
        " Three 6's =>  600 points\n",
        " \n",
        " Three 5's =>  500 points\n",
        " \n",
        " Three 4's =>  400 points\n",
        " \n",
        " Three 3's =>  300 points\n",
        " \n",
        " Three 2's =>  200 points\n",
        "\n",
        " One   1   =>  100 points\n",
        " \n",
        " One   5   =>   50 point\n",
        "\n",
        "A single die can only be counted once in each roll. For example, a given \"5\" can only count as part of a triplet (contributing to the 500 points) or as a single 50 points, but not both in the same roll.\n",
        "\n",
        "\n",
        "Example scoring\n",
        "\n",
        " Throw       Score\n",
        " ---------   ------------------\n",
        " 5 1 3 4 1   250:  50 (for the 5) + 2 * 100 (for the 1s)\n",
        " 1 1 1 3 1   1100: 1000 (for three 1s) + 100 (for the other 1)\n",
        " 2 4 4 5 4   450:  400 (for three 4s) + 50 (for the 5)"
      ],
      "metadata": {
        "id": "H6q3KRDtY8zy"
      }
    },
    {
      "cell_type": "code",
      "source": [
        "n=[1,1,1,1,1]\n",
        "puan=(n.count(1)//3*1000+n.count(1)%3*100+n.count(2)//3*200+n.count(3)//3*300+\n",
        "     n.count(4)//3*400+n.count(5)//3*500+n.count(5)%3*50+n.count(6)//3*600)\n",
        "puan"
      ],
      "metadata": {
        "colab": {
          "base_uri": "https://localhost:8080/"
        },
        "id": "m7OiTs4VY8nb",
        "outputId": "5833766e-04cf-4e73-9626-d723dcfd76e7"
      },
      "execution_count": 1,
      "outputs": [
        {
          "output_type": "execute_result",
          "data": {
            "text/plain": [
              "1200"
            ]
          },
          "metadata": {},
          "execution_count": 1
        }
      ]
    }
  ]
}