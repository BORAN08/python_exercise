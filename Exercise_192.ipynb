{
  "nbformat": 4,
  "nbformat_minor": 0,
  "metadata": {
    "colab": {
      "name": "Exercise_192.ipynb",
      "provenance": [],
      "authorship_tag": "ABX9TyOJoPOt6ZpNj++WZmzH55nw",
      "include_colab_link": true
    },
    "kernelspec": {
      "name": "python3",
      "display_name": "Python 3"
    },
    "language_info": {
      "name": "python"
    }
  },
  "cells": [
    {
      "cell_type": "markdown",
      "metadata": {
        "id": "view-in-github",
        "colab_type": "text"
      },
      "source": [
        "<a href=\"https://colab.research.google.com/github/mahmutboran/python_exercise/blob/main/Exercise_192.ipynb\" target=\"_parent\"><img src=\"https://colab.research.google.com/assets/colab-badge.svg\" alt=\"Open In Colab\"/></a>"
      ]
    },
    {
      "cell_type": "markdown",
      "source": [
        "This is an interview question asked by Google.\n",
        "\n",
        "Given an array of integers and a number k, where 1 <= k <= length of the array,\n",
        " compute the maximum values of each subarray of length k.\n",
        "\n",
        "For example, given array = [10, 5, 2, 7, 8, 7] and k = 3, we should get: [10, 7, 8, 8], since:\n",
        "\n",
        "10 = max(10, 5, 2) \n",
        "\n",
        "7 = max(5, 2, 7) \n",
        "\n",
        "8 = max(2, 7, 8)\n",
        "\n",
        "8 = max(7, 8, 7)\n"
      ],
      "metadata": {
        "id": "jnSVWNNTxiBe"
      }
    },
    {
      "cell_type": "code",
      "source": [
        "def maxSubarray(arr,k):\n",
        "  count=0\n",
        "  while count<len(arr)-k+1:\n",
        "    print(max(arr[count:count+k]))\n",
        "    count+=1\n",
        "maxSubarray([10, 5, 2, 7, 8, 7],3)"
      ],
      "metadata": {
        "colab": {
          "base_uri": "https://localhost:8080/"
        },
        "id": "P6GEtYClx3XW",
        "outputId": "994a5772-058e-482c-e599-2307c1701b56"
      },
      "execution_count": 15,
      "outputs": [
        {
          "output_type": "stream",
          "name": "stdout",
          "text": [
            "10\n",
            "7\n",
            "8\n",
            "8\n"
          ]
        }
      ]
    }
  ]
}