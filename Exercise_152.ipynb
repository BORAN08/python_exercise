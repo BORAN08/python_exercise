{
  "nbformat": 4,
  "nbformat_minor": 0,
  "metadata": {
    "colab": {
      "name": "Exercise_152.ipynb",
      "provenance": [],
      "authorship_tag": "ABX9TyNzBuRRJgTbMjVWRMc5hX6q",
      "include_colab_link": true
    },
    "kernelspec": {
      "name": "python3",
      "display_name": "Python 3"
    },
    "language_info": {
      "name": "python"
    }
  },
  "cells": [
    {
      "cell_type": "markdown",
      "metadata": {
        "id": "view-in-github",
        "colab_type": "text"
      },
      "source": [
        "<a href=\"https://colab.research.google.com/github/BORAN08/python_exercise/blob/main/Exercise_152.ipynb\" target=\"_parent\"><img src=\"https://colab.research.google.com/assets/colab-badge.svg\" alt=\"Open In Colab\"/></a>"
      ]
    },
    {
      "cell_type": "markdown",
      "source": [
        "Ex -152\n",
        "\n",
        "A palindromic number reads the same both ways. The largest palindrome made from the product of two 2-digit numbers is 9009 = 91 × 99.\n",
        "\n",
        "Find the largest palindrome made from the product of two 3-digit numbers"
      ],
      "metadata": {
        "id": "RkK_l0k8tAS-"
      }
    },
    {
      "cell_type": "code",
      "execution_count": 9,
      "metadata": {
        "colab": {
          "base_uri": "https://localhost:8080/"
        },
        "id": "d0uza4N6s-1u",
        "outputId": "0c91db4c-a4e0-4b55-f995-8bfb6d0ecad1"
      },
      "outputs": [
        {
          "output_type": "stream",
          "name": "stdout",
          "text": [
            "90909\n"
          ]
        }
      ],
      "source": [
        "for i in range(999,99,-1):\n",
        "  for j in range(i,0,-1):\n",
        "    if str(i*j)==str(i*j)[::-1]:\n",
        "      print(i*j)\n",
        "      break\n",
        "  else:\n",
        "    continue\n",
        "  break\n"
      ]
    }
  ]
}