{
  "nbformat": 4,
  "nbformat_minor": 0,
  "metadata": {
    "colab": {
      "name": "Exercise_182.ipynb",
      "provenance": [],
      "authorship_tag": "ABX9TyP3TzlT5qJHnU/rLFaSaAnn",
      "include_colab_link": true
    },
    "kernelspec": {
      "name": "python3",
      "display_name": "Python 3"
    },
    "language_info": {
      "name": "python"
    }
  },
  "cells": [
    {
      "cell_type": "markdown",
      "metadata": {
        "id": "view-in-github",
        "colab_type": "text"
      },
      "source": [
        "<a href=\"https://colab.research.google.com/github/mahmutboran/python_exercise/blob/main/Exercise_182.ipynb\" target=\"_parent\"><img src=\"https://colab.research.google.com/assets/colab-badge.svg\" alt=\"Open In Colab\"/></a>"
      ]
    },
    {
      "cell_type": "markdown",
      "source": [
        "\n",
        "Ask user to enter a word, a separator and number of repetitions. Write a Python/JS code displaying the word with repetition times and having each word separated with separator character.\n",
        "For example, if user entered word as Tina, separator as ! and repetitions as 3 expected output is \"Tina!Tina!Tina\"  \n",
        "Be careful there is no separator character at the end.\n"
      ],
      "metadata": {
        "id": "56XLrP3PJt36"
      }
    },
    {
      "cell_type": "code",
      "execution_count": 52,
      "metadata": {
        "colab": {
          "base_uri": "https://localhost:8080/",
          "height": 52
        },
        "id": "7JW3TWpRJGrZ",
        "outputId": "b1c9a48f-7873-4c7d-afef-6cd1056cc797"
      },
      "outputs": [
        {
          "name": "stdout",
          "output_type": "stream",
          "text": [
            "Enter a word , separator and number of repetitions :Tina ! 3\n"
          ]
        },
        {
          "output_type": "execute_result",
          "data": {
            "application/vnd.google.colaboratory.intrinsic+json": {
              "type": "string"
            },
            "text/plain": [
              "'Tina!Tina!Tina'"
            ]
          },
          "metadata": {},
          "execution_count": 52
        }
      ],
      "source": [
        "def wordRepetition ():\n",
        "  str=input(\"Enter a word , separator and number of repetitions :\").split(\" \")\n",
        "  return f'{str[1]}'.join([str[0]]*int(str[2]))\n",
        "wordRepetition ()"
      ]
    }
  ]
}