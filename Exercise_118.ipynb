{
  "nbformat": 4,
  "nbformat_minor": 0,
  "metadata": {
    "colab": {
      "name": "Exercise_118.ipynb",
      "provenance": [],
      "authorship_tag": "ABX9TyNmsJpS52Thhyy8lJZ5egXr",
      "include_colab_link": true
    },
    "kernelspec": {
      "name": "python3",
      "display_name": "Python 3"
    },
    "language_info": {
      "name": "python"
    }
  },
  "cells": [
    {
      "cell_type": "markdown",
      "metadata": {
        "id": "view-in-github",
        "colab_type": "text"
      },
      "source": [
        "<a href=\"https://colab.research.google.com/github/BORAN08/python_exercise/blob/main/Exercise_118.ipynb\" target=\"_parent\"><img src=\"https://colab.research.google.com/assets/colab-badge.svg\" alt=\"Open In Colab\"/></a>"
      ]
    },
    {
      "cell_type": "markdown",
      "source": [
        "Exercise -118 :\n",
        "There is an undirected star graph consisting of n nodes labeled from 1 to n. A star graph is a graph where there is one center node and exactly n - 1 edges that connect the center node with every other node. You are given a 2D integer array edges where each edges[i] = [ui, vi] indicates that there is an edge between the nodes ui and vi. \n",
        "Return the center of the given star graph. \n",
        "\n",
        "Input: edges = [[1,2],[2,3],[4,2]] \n",
        "\n",
        "Output: 2 Explanation: As shown in the figure above, node 2 is connected to every other node, so 2 is the center. \n",
        "\n",
        "Example 2: Input: edges = [[1,2],[5,1],[1,3],[1,4]] Output: 1"
      ],
      "metadata": {
        "id": "DkYo_md7MaFQ"
      }
    },
    {
      "cell_type": "code",
      "execution_count": 1,
      "metadata": {
        "colab": {
          "base_uri": "https://localhost:8080/"
        },
        "id": "OzOo4_N8MWQz",
        "outputId": "759430da-1e09-4460-f1a2-8ebe2d3f1bbb"
      },
      "outputs": [
        {
          "output_type": "execute_result",
          "data": {
            "text/plain": [
              "1"
            ]
          },
          "metadata": {},
          "execution_count": 1
        }
      ],
      "source": [
        "mylist = [[1,2],[5,1],[1,3],[1,4]]\n",
        "newlist=[]\n",
        "for i in mylist:\n",
        "  newlist.extend(i)\n",
        "center = max(newlist, key=newlist.count)\n",
        "center"
      ]
    }
  ]
}