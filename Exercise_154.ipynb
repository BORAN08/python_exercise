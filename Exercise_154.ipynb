{
  "nbformat": 4,
  "nbformat_minor": 0,
  "metadata": {
    "colab": {
      "name": "Exercise_154.ipynb",
      "provenance": [],
      "authorship_tag": "ABX9TyPGIPP0hxcFbCwoXCtArKdJ",
      "include_colab_link": true
    },
    "kernelspec": {
      "name": "python3",
      "display_name": "Python 3"
    },
    "language_info": {
      "name": "python"
    }
  },
  "cells": [
    {
      "cell_type": "markdown",
      "metadata": {
        "id": "view-in-github",
        "colab_type": "text"
      },
      "source": [
        "<a href=\"https://colab.research.google.com/github/BORAN08/python_exercise/blob/main/Exercise_154.ipynb\" target=\"_parent\"><img src=\"https://colab.research.google.com/assets/colab-badge.svg\" alt=\"Open In Colab\"/></a>"
      ]
    },
    {
      "cell_type": "markdown",
      "source": [
        "Exercise -154)\n",
        "\n",
        "Your computer might have been infected by a virus! Create a function that finds the viruses in files and removes them from your computer.\n",
        "\n",
        "Examples\n",
        "\n",
        "remove_virus(\"PC Files: spotifysetup.exe, virus.exe, dog.jpg\") ➞ \"PC Files: spotifysetup.exe, dog.jpg\"\n",
        "\n",
        "\n",
        "remove_virus(\"PC Files: antivirus.exe, cat.pdf, lethalmalware.exe, dangerousvirus.exe \") ➞ \"PC Files: antivirus.exe, cat.pdf\"\n",
        "\n",
        "\n",
        "remove_virus(\"PC Files: notvirus.exe, funnycat.gif\") ➞ \"PC Files: notvirus.exe, funnycat.gif\")Notes\n",
        "\n",
        "Bad files will contain \"virus\" or \"malware\", but \"antivirus\" and \"notvirus\" will not be viruses.\n",
        "\n",
        "Return \"PC Files: Empty\" if there are no files left on the computer.\n"
      ],
      "metadata": {
        "id": "vv0GHZj0otXX"
      }
    },
    {
      "cell_type": "code",
      "execution_count": 2,
      "metadata": {
        "colab": {
          "base_uri": "https://localhost:8080/",
          "height": 35
        },
        "id": "baAr0spPoseC",
        "outputId": "e6664924-3e0d-4c6d-cef6-8d5cb499082c"
      },
      "outputs": [
        {
          "output_type": "execute_result",
          "data": {
            "application/vnd.google.colaboratory.intrinsic+json": {
              "type": "string"
            },
            "text/plain": [
              "'PC Files: antivirus.exe, cat.pdf,  '"
            ]
          },
          "metadata": {},
          "execution_count": 2
        }
      ],
      "source": [
        "def remove_virus(text):\n",
        "  for i in text.split():\n",
        "    if (\"virus.exe\" in i or \"malware.exe\" in i) and (\"anti\" not in i and \"not\" not in i ):\n",
        "      text=text.replace(i,\"\")\n",
        "  return text\n",
        "remove_virus(\"PC Files: antivirus.exe, cat.pdf, lethalmalware.exe, dangerousvirus.exe\")"
      ]
    }
  ]
}