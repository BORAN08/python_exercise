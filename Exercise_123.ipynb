{
  "nbformat": 4,
  "nbformat_minor": 0,
  "metadata": {
    "colab": {
      "name": "Exercise_123.ipynb",
      "provenance": [],
      "authorship_tag": "ABX9TyPCPt2EUOAFn1Pj0an9lfTp",
      "include_colab_link": true
    },
    "kernelspec": {
      "name": "python3",
      "display_name": "Python 3"
    },
    "language_info": {
      "name": "python"
    }
  },
  "cells": [
    {
      "cell_type": "markdown",
      "metadata": {
        "id": "view-in-github",
        "colab_type": "text"
      },
      "source": [
        "<a href=\"https://colab.research.google.com/github/BORAN08/python_exercise/blob/main/Exercise_123.ipynb\" target=\"_parent\"><img src=\"https://colab.research.google.com/assets/colab-badge.svg\" alt=\"Open In Colab\"/></a>"
      ]
    },
    {
      "cell_type": "markdown",
      "source": [
        "Exercise -123 : Last Digit Ultimate Your job is to create a function, that takes 3 numbers: a, b, c and returns True if the last digit of a * b = the last digit of c. Check the examples below for an explanation. \n",
        "Examples last_dig(25, 21, 125) ➞ True\n",
        "\n",
        "The last digit of 25 is 5, the last digit of 21 is 1, and the last\n",
        "digit of 125 is 5, and the last digit of 5*1 = 5, which is equal\n",
        "to the last digit of 125(5).\n",
        "\n",
        "last_dig(55, 226, 5190) ➞ True\n",
        "\n",
        "The last digit of 55 is 5, the last digit of 226 is 6, and the last\n",
        "digit of 5190 is 0, and the last digit of 5*6 = 30 is 0, which is\n",
        "equal to the last digit of 5190(0).\n",
        "\n",
        "last_dig(12, 215, 2142) ➞ False\n",
        "\n",
        "The last digit of 12 is 2, the last digit of 215 is 5, and the last\n",
        "digit of 2142 is 2, and the last digit of 2*5 = 10 is 0, which is\n",
        "not equal to the last digit of 2142(2)."
      ],
      "metadata": {
        "id": "3eDk-34NxVRb"
      }
    },
    {
      "cell_type": "code",
      "execution_count": 1,
      "metadata": {
        "colab": {
          "base_uri": "https://localhost:8080/"
        },
        "id": "8fA-Vs1zxSlo",
        "outputId": "cdd05103-49bd-491b-a000-b0e50ee69f59"
      },
      "outputs": [
        {
          "output_type": "stream",
          "name": "stdout",
          "text": [
            "True\n"
          ]
        }
      ],
      "source": [
        "a,b,c=55, 226, 5190\n",
        "if (int(str(a)[-1])*int(str(b)[-1]))%2==int(str(c)[-1]):\n",
        "  print(True)\n",
        "else:\n",
        "  print(False)"
      ]
    },
    {
      "cell_type": "markdown",
      "source": [
        "D-1155 Melek's salute"
      ],
      "metadata": {
        "id": "OP97TsJPxxdB"
      }
    },
    {
      "cell_type": "code",
      "source": [
        "def last_dig(a,b,c) :\n",
        "  return str(int(str(a)[-1] ) * int(str(b)[-1]) )[-1] == str(c)[-1]\n",
        "\n",
        "last_dig(55,226,5190)"
      ],
      "metadata": {
        "colab": {
          "base_uri": "https://localhost:8080/"
        },
        "id": "DyTGWZr4xuAx",
        "outputId": "18a37eeb-bfa4-4e20-9d4d-64ea13239292"
      },
      "execution_count": 2,
      "outputs": [
        {
          "output_type": "execute_result",
          "data": {
            "text/plain": [
              "True"
            ]
          },
          "metadata": {},
          "execution_count": 2
        }
      ]
    }
  ]
}