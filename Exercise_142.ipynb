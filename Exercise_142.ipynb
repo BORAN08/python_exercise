{
  "nbformat": 4,
  "nbformat_minor": 0,
  "metadata": {
    "colab": {
      "name": "Exercise_142.ipynb",
      "provenance": [],
      "authorship_tag": "ABX9TyNg4fN6BsG78OadDRMs8jn7",
      "include_colab_link": true
    },
    "kernelspec": {
      "name": "python3",
      "display_name": "Python 3"
    },
    "language_info": {
      "name": "python"
    }
  },
  "cells": [
    {
      "cell_type": "markdown",
      "metadata": {
        "id": "view-in-github",
        "colab_type": "text"
      },
      "source": [
        "<a href=\"https://colab.research.google.com/github/BORAN08/python_exercise/blob/main/Exercise_142.ipynb\" target=\"_parent\"><img src=\"https://colab.research.google.com/assets/colab-badge.svg\" alt=\"Open In Colab\"/></a>"
      ]
    },
    {
      "cell_type": "markdown",
      "source": [
        "Exercise_142\n",
        "You are painting a wall. \n",
        "The instructions on the paint can says that 1 can of paint can cover 5 square meters of wall. Given a random height and width of wall, calculate how many cans of paint you'll need to buy.\n",
        "\n",
        "number of cans = (wall height :heavy_multiplication_x: wall width) ÷ coverage per can.\n",
        "\n",
        "e.g. Height = 2, Width = 4, Coverage = 5\n",
        "\n",
        "number of cans = (2 :heavy_multiplication_x: 4) ÷ 5       = 1.6\n",
        "\n",
        "But because you can't buy 0.6 of a can of paint, the result should be rounded up to 2 cans.\n",
        "\n",
        "IMPORTANT: Notice the name of the function and parameters must match those on line 13 for the code to work."
      ],
      "metadata": {
        "id": "RxFjyFdWr4zO"
      }
    },
    {
      "cell_type": "code",
      "execution_count": 1,
      "metadata": {
        "colab": {
          "base_uri": "https://localhost:8080/"
        },
        "id": "ph1qUUFzr0oc",
        "outputId": "a8b280a1-235b-4722-bae4-8c29cf905db7"
      },
      "outputs": [
        {
          "output_type": "execute_result",
          "data": {
            "text/plain": [
              "5"
            ]
          },
          "metadata": {},
          "execution_count": 1
        }
      ],
      "source": [
        "from math import *\n",
        "def number_of_cans(x,y):\n",
        "  return ceil(x*y/5)\n",
        "number_of_cans(3,7)"
      ]
    }
  ]
}