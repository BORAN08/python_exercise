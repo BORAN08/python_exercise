{
  "nbformat": 4,
  "nbformat_minor": 0,
  "metadata": {
    "colab": {
      "name": "Exercise_174.ipynb",
      "provenance": [],
      "collapsed_sections": [],
      "authorship_tag": "ABX9TyNMLGEbGkaXvHUDH7+g0UZw",
      "include_colab_link": true
    },
    "kernelspec": {
      "name": "python3",
      "display_name": "Python 3"
    },
    "language_info": {
      "name": "python"
    }
  },
  "cells": [
    {
      "cell_type": "markdown",
      "metadata": {
        "id": "view-in-github",
        "colab_type": "text"
      },
      "source": [
        "<a href=\"https://colab.research.google.com/github/BORAN08/python_exercise/blob/main/Exercise_174.ipynb\" target=\"_parent\"><img src=\"https://colab.research.google.com/assets/colab-badge.svg\" alt=\"Open In Colab\"/></a>"
      ]
    },
    {
      "cell_type": "markdown",
      "source": [
        "Exercise -174\n",
        "Suppose you have 4 numbers: '0', '9', '6', '4' and 3 strings composed with them:\n",
        "\n",
        "s1 = \"6900690040\"\n",
        "s2 = \"4690606946\"\n",
        "s3 = \"9990494604\"\n",
        "\n",
        "Compare s1 and s2 to see how many positions they have in common: 0 at index 3, 6 at index 4, 4 at index 8 ie 3 common positions out of ten.\n",
        "\n",
        "Compare s1 and s3 to see how many positions they have in common: 9 at index 1, 0 at index 3, 9 at index 5 ie 3 common positions out of ten.\n",
        "\n",
        "Compare s2 and s3. We find 2 common positions out of ten.\n",
        "\n",
        "So for the 3 strings we have 8 common positions out of 30 ie 0.2666... or 26.666...%\n",
        "\n",
        "Given n substrings (n >= 2) in a string s our function pos_average will calculate the average percentage of positions that are the same between the (n * (n-1)) / 2 sets of substrings taken amongst the given n substrings. It can happen that some substrings are duplicate but since their ranks are not the same in s they are considered as different substrings.\n",
        "The function returns the percentage formatted as a float with 10 decimals but the result is tested at 1e.-9 (see function assertFuzzy in the tests).\n",
        "\n",
        "Example:\n",
        "Given string s = \"444996, 699990, 666690, 096904, 600644, 640646, 606469, 409694, 666094, 606490\" composing a set of n = 10 substrings (hence 45 combinations), pos_average returns 29.2592592593.\n",
        "\n",
        "In a set the n substrings will have the same length ( > 0 )."
      ],
      "metadata": {
        "id": "qpAxKuFYmYpc"
      }
    },
    {
      "cell_type": "code",
      "execution_count": 33,
      "metadata": {
        "id": "S_qh_KnomYPn",
        "colab": {
          "base_uri": "https://localhost:8080/"
        },
        "outputId": "96b196ce-dc99-4557-fad6-71e8dc842775"
      },
      "outputs": [
        {
          "output_type": "execute_result",
          "data": {
            "text/plain": [
              "29.2592592593"
            ]
          },
          "metadata": {},
          "execution_count": 33
        }
      ],
      "source": [
        "def pos_average(s):\n",
        "  s=s.replace(\" \",\"\").split(\",\")\n",
        "  compare=[]\n",
        "  combinations = len(s)*(len(s)-1)/2*len(s[0])\n",
        "\n",
        "  for i in s:\n",
        "    for j in s[s.index(i)+1:]:\n",
        "      compare.append((i,j))\n",
        "\n",
        "  common_position=0\n",
        "  for i in range(len(compare)):\n",
        "    for j in range(len(compare[0][0])):\n",
        "      if compare[i][0][j]==compare[i][1][j]:\n",
        "        common_position+=1\n",
        "  return round(common_position/combinations*100,10)\n",
        "s_ = \"444996, 699990, 666690, 096904, 600644,640646,606469,409694,  666094,  606490\"\n",
        "pos_average(s_)"
      ]
    }
  ]
}