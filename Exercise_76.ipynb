{
  "nbformat": 4,
  "nbformat_minor": 0,
  "metadata": {
    "colab": {
      "name": "Exercise_76.ipynb",
      "provenance": [],
      "authorship_tag": "ABX9TyMTJ/uVmdc2X+Wy/NN5RNpF",
      "include_colab_link": true
    },
    "kernelspec": {
      "name": "python3",
      "display_name": "Python 3"
    },
    "language_info": {
      "name": "python"
    }
  },
  "cells": [
    {
      "cell_type": "markdown",
      "metadata": {
        "id": "view-in-github",
        "colab_type": "text"
      },
      "source": [
        "<a href=\"https://colab.research.google.com/github/BORAN08/python_exercise/blob/main/Exercise_76.ipynb\" target=\"_parent\"><img src=\"https://colab.research.google.com/assets/colab-badge.svg\" alt=\"Open In Colab\"/></a>"
      ]
    },
    {
      "cell_type": "markdown",
      "source": [
        "Exercise-76\n",
        "\n",
        "There is an array with some numbers. All numbers are equal except for one. Try to find it!\n",
        "\n",
        "find_uniq([ 1, 1, 1, 2, 1, 1 ]) == 2\n",
        "\n",
        "find_uniq([ 0, 0, 0.55, 0, 0 ]) == 0.55\n",
        "It’s guaranteed that array contains at least 3 numbers.\n",
        "\n",
        "The tests contain some very huge arrays, so think about performance.\n",
        "\n",
        "This is the first kata in series:\n",
        "\n",
        "Find the unique number (this kata)\n",
        "Find the unique string\n",
        "Find The Unique"
      ],
      "metadata": {
        "id": "XcZLmVWjd87-"
      }
    },
    {
      "cell_type": "code",
      "execution_count": null,
      "metadata": {
        "id": "IwrjPs_jd41v"
      },
      "outputs": [],
      "source": [
        "def find_uniq(arr):\n",
        "    s = set(arr)\n",
        "    for i in s:\n",
        "        if arr.count(i) == 1:\n",
        "            return i\n",
        "find_uniq([ 0, 0, 0.55, 0, 0 ])"
      ]
    }
  ]
}