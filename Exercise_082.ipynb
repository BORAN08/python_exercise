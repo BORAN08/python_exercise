{
  "nbformat": 4,
  "nbformat_minor": 0,
  "metadata": {
    "colab": {
      "name": "Exercise_082.ipynb",
      "provenance": [],
      "authorship_tag": "ABX9TyNNCm7Bv9MLvXrJ+lANmZSj",
      "include_colab_link": true
    },
    "kernelspec": {
      "name": "python3",
      "display_name": "Python 3"
    },
    "language_info": {
      "name": "python"
    }
  },
  "cells": [
    {
      "cell_type": "markdown",
      "metadata": {
        "id": "view-in-github",
        "colab_type": "text"
      },
      "source": [
        "<a href=\"https://colab.research.google.com/github/BORAN08/python_exercise/blob/main/Exercise_082.ipynb\" target=\"_parent\"><img src=\"https://colab.research.google.com/assets/colab-badge.svg\" alt=\"Open In Colab\"/></a>"
      ]
    },
    {
      "cell_type": "markdown",
      "source": [
        "Exercise - 82\n",
        "\n",
        "\n",
        "The Collatz sequence is as follows:\n",
        "\n",
        "Start with some given integer n.\n",
        "\n",
        "If it is even, the next number will be n divided by 2.\n",
        "\n",
        "If it is odd, multiply it by 3 and add 1 to make the next number.\n",
        "\n",
        "The sequence stops when it reaches 1.\n",
        "\n",
        "According to the Collatz conjecture, it will always reach 1. If that's true, you can construct a finite sequence following the aforementioned method for any given integer.\n",
        "\n",
        "Write a function that takes in an integer n and returns the highest integer in the corresponding Collatz sequence."
      ],
      "metadata": {
        "id": "6ojfi0W6_jjU"
      }
    },
    {
      "cell_type": "code",
      "execution_count": 1,
      "metadata": {
        "colab": {
          "base_uri": "https://localhost:8080/"
        },
        "id": "Lnfxrk_5_hfU",
        "outputId": "dee6c01e-c0ff-41bf-9e85-e77687863046"
      },
      "outputs": [
        {
          "output_type": "stream",
          "name": "stdout",
          "text": [
            "[12, 6.0, 3.0, 10.0, 5.0, 16.0, 8.0, 4.0, 2.0, 1.0]\n"
          ]
        },
        {
          "output_type": "execute_result",
          "data": {
            "text/plain": [
              "16.0"
            ]
          },
          "metadata": {},
          "execution_count": 1
        }
      ],
      "source": [
        "n=12\n",
        "nlist=[n]\n",
        "for i in nlist:\n",
        "  if i==1:\n",
        "    break\n",
        "  elif i%2==0:\n",
        "    nlist.append(i/2)\n",
        "  elif i%2==1:\n",
        "    nlist.append(i*3+1)\n",
        "print(nlist)\n",
        "max(nlist)"
      ]
    }
  ]
}