{
  "nbformat": 4,
  "nbformat_minor": 0,
  "metadata": {
    "colab": {
      "name": "Exercise_159.ipynb",
      "provenance": [],
      "collapsed_sections": [],
      "authorship_tag": "ABX9TyPdp14FNlH7ZCEfnyD3Is6r",
      "include_colab_link": true
    },
    "kernelspec": {
      "name": "python3",
      "display_name": "Python 3"
    },
    "language_info": {
      "name": "python"
    }
  },
  "cells": [
    {
      "cell_type": "markdown",
      "metadata": {
        "id": "view-in-github",
        "colab_type": "text"
      },
      "source": [
        "<a href=\"https://colab.research.google.com/github/BORAN08/python_exercise/blob/main/Exercise_159.ipynb\" target=\"_parent\"><img src=\"https://colab.research.google.com/assets/colab-badge.svg\" alt=\"Open In Colab\"/></a>"
      ]
    },
    {
      "cell_type": "markdown",
      "source": [
        "Exercise-159\n",
        "Complete the function/method so that it takes a PascalCase string and returns the string in snake_case notation. Lowercase characters can be numbers. If the method gets a number as input, it should return a string.\n",
        "Examples\n",
        "\"TestController\"  -->  \"test_controller\"\n",
        "\"MoviesAndBooks\"  -->  \"movies_and_books\"\n",
        "\"App7Test\"        -->  \"app7_test\"\n",
        "1                 -->  \"1\""
      ],
      "metadata": {
        "id": "AzS0huI6rQOi"
      }
    },
    {
      "cell_type": "code",
      "execution_count": 2,
      "metadata": {
        "colab": {
          "base_uri": "https://localhost:8080/",
          "height": 35
        },
        "id": "PvT9fStGrMhh",
        "outputId": "d9386d7d-8f3b-43f0-9b14-3f06cedd4e93"
      },
      "outputs": [
        {
          "output_type": "execute_result",
          "data": {
            "application/vnd.google.colaboratory.intrinsic+json": {
              "type": "string"
            },
            "text/plain": [
              "'movies_and_books'"
            ]
          },
          "metadata": {},
          "execution_count": 2
        }
      ],
      "source": [
        "def to_underscore(string):\n",
        "  new=\"\"\n",
        "  if type(string)==int:\n",
        "      return str(string)\n",
        "  else:\n",
        "    for i in string:\n",
        "      if i.isupper():\n",
        "        new+=\"_\"+i\n",
        "      elif i.lower():\n",
        "        new+=i\n",
        "    return new.lstrip(\"_\").lower() \n",
        "to_underscore(\"MoviesAndBooks\")"
      ]
    }
  ]
}