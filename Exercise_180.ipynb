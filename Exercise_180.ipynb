{
  "nbformat": 4,
  "nbformat_minor": 0,
  "metadata": {
    "colab": {
      "name": "Exercise_180.ipynb",
      "provenance": [],
      "authorship_tag": "ABX9TyOFWyUD1UlHPNyDi3IOmECg",
      "include_colab_link": true
    },
    "kernelspec": {
      "name": "python3",
      "display_name": "Python 3"
    },
    "language_info": {
      "name": "python"
    }
  },
  "cells": [
    {
      "cell_type": "markdown",
      "metadata": {
        "id": "view-in-github",
        "colab_type": "text"
      },
      "source": [
        "<a href=\"https://colab.research.google.com/github/mahmutboran/python_exercise/blob/main/Exercise_180.ipynb\" target=\"_parent\"><img src=\"https://colab.research.google.com/assets/colab-badge.svg\" alt=\"Open In Colab\"/></a>"
      ]
    },
    {
      "cell_type": "markdown",
      "source": [
        "Boxing yarismasi oyunu:\n",
        "\n",
        "2 Player sirayla birbirlerine sirayla vurmaya basliyor. İlk baslayani kura ile belirliyorlar. Biri yikilana kadar oyun devam ediyor. Her yumrugun diger oyuncuyu yikma ihtimali 10%.\n",
        "\n",
        "\n",
        "Output:\n",
        "\n",
        "\n",
        "Fight!!!\n",
        "\n",
        "Player #2 hits\n",
        "\n",
        "Player #1 hits\n",
        "\n",
        "Player #2 hits\n",
        "\n",
        "...\n",
        "\n",
        "Player #1 hits and knocks out!\n",
        "\n",
        "Game over!!!"
      ],
      "metadata": {
        "id": "4X6MbtxmctXF"
      }
    },
    {
      "cell_type": "code",
      "source": [
        "import random\n",
        "hitter=[\"Player #1\",\"Player #2\"]\n",
        "hitpower = [1, 2, 3, 4, 5, 6, 7, 8, 9, 10]\n",
        "index = hitter.index(random.choice(hitter))\n",
        "print(\"Fight!!!\")\n",
        "while True:\n",
        "      hit = random.choice(hitpower)\n",
        "      if  hit == 10:\n",
        "          break\n",
        "      else:\n",
        "          print( hitter[index], \"hits\", \"power of\", hit)\n",
        "          hitter = hitter[1:] + hitter[:1]\n",
        "print (f\"{hitter[index]} hits power of {hit} and knocks out!Game over!!!\")"
      ],
      "metadata": {
        "colab": {
          "base_uri": "https://localhost:8080/"
        },
        "id": "9DJIv6HhdAxI",
        "outputId": "7feaad48-3810-4c5c-c696-fe9ac1125217"
      },
      "execution_count": 2,
      "outputs": [
        {
          "output_type": "stream",
          "name": "stdout",
          "text": [
            "Fight!!!\n",
            "Player #2 hits power of 8\n",
            "Player #1 hits power of 5\n",
            "Player #2 hits power of 9\n",
            "Player #1 hits power of 5\n",
            "Player #2 hits power of 6\n",
            "Player #1 hits power of 2\n",
            "Player #2 hits power of 3\n",
            "Player #1 hits power of 4\n",
            "Player #2 hits power of 3\n",
            "Player #1 hits power of 1\n",
            "Player #2 hits power of 1\n",
            "Player #1 hits power of 10 and knocks out!Game over!!!\n"
          ]
        }
      ]
    },
    {
      "cell_type": "code",
      "execution_count": 1,
      "metadata": {
        "colab": {
          "base_uri": "https://localhost:8080/"
        },
        "id": "fUeLmIvNcic1",
        "outputId": "cc7ad42e-1f35-46ab-b61b-d3285d1dd435"
      },
      "outputs": [
        {
          "output_type": "stream",
          "name": "stdout",
          "text": [
            "fighter1 punch\n",
            "fighter2 punch\n",
            "fighter1 punch\n",
            "fighter1 wins\n"
          ]
        }
      ],
      "source": [
        "\n",
        "from random import choice\n",
        "\n",
        "numbers = []\n",
        "for i in range(101):\n",
        "    numbers.append(i)\n",
        "\n",
        "fighter1 = 0\n",
        "fighter2 = 0\n",
        "punch = 10\n",
        "\n",
        "list1 = [\"fighter1\", \"fighter2\"]\n",
        "c = choice(list1)\n",
        "\n",
        "\n",
        "fightend = False\n",
        "if c == \"fighter1\":\n",
        "    while fightend != True:\n",
        "        fighter1 += punch\n",
        "        print(\"fighter1 punch\")\n",
        "        a = choice(numbers)\n",
        "        \n",
        "        if a <= fighter1:\n",
        "            fightend = True\n",
        "            print(\"fighter1 wins\")\n",
        "        else:\n",
        "            fighter2 += punch\n",
        "            print(\"fighter2 punch\")\n",
        "            b = choice(numbers)\n",
        "            \n",
        "            if  b <= fighter2:\n",
        "                fightend = True\n",
        "                print(\"fighter2 wins\")   \n",
        "\n",
        "else:\n",
        "    while fightend != True:\n",
        "        fighter2 += punch\n",
        "        print(\"fighter2 punch\")\n",
        "        b = choice(numbers)\n",
        "        \n",
        "        if b <= fighter2:\n",
        "            fightend = True\n",
        "            print(\"fighter2 wins\")\n",
        "        else:\n",
        "            fighter1 += punch\n",
        "            print(\"fighter1 punch\")\n",
        "            a = choice(numbers)\n",
        "            \n",
        "            if  a <= fighter1:\n",
        "                fightend = True\n",
        "                print(\"fighter1 wins\") "
      ]
    }
  ]
}