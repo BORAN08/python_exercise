{
  "nbformat": 4,
  "nbformat_minor": 0,
  "metadata": {
    "colab": {
      "name": "Exercise_059.ipynb",
      "provenance": [],
      "authorship_tag": "ABX9TyM9s5YMjfx3gD/f0S35y8ce",
      "include_colab_link": true
    },
    "kernelspec": {
      "name": "python3",
      "display_name": "Python 3"
    },
    "language_info": {
      "name": "python"
    }
  },
  "cells": [
    {
      "cell_type": "markdown",
      "metadata": {
        "id": "view-in-github",
        "colab_type": "text"
      },
      "source": [
        "<a href=\"https://colab.research.google.com/github/BORAN08/python_exercise/blob/main/Exercise_059.ipynb\" target=\"_parent\"><img src=\"https://colab.research.google.com/assets/colab-badge.svg\" alt=\"Open In Colab\"/></a>"
      ]
    },
    {
      "cell_type": "markdown",
      "source": [
        "Exercise-59\n",
        "\n",
        "Write a program that square every digit of a number and concatenate them.\n",
        "For example, if we run 9119 through the function, 811181 will come out, because 92 is 81 and 12 is 1."
      ],
      "metadata": {
        "id": "FibEloz15siC"
      }
    },
    {
      "cell_type": "code",
      "execution_count": 1,
      "metadata": {
        "id": "cP-3ZNA05ppk"
      },
      "outputs": [],
      "source": [
        "def square_digits(num):\n",
        "    output=\"\"\n",
        "    for i in str(num):\n",
        "        i=int(i)\n",
        "        s=i**2\n",
        "        output+=str(s)\n",
        "    return int(output)"
      ]
    },
    {
      "cell_type": "code",
      "source": [
        "square_digits(9119)"
      ],
      "metadata": {
        "colab": {
          "base_uri": "https://localhost:8080/"
        },
        "id": "JTOuXzrB51GY",
        "outputId": "79e32681-2866-4ab5-a425-11300cb6af4a"
      },
      "execution_count": 3,
      "outputs": [
        {
          "output_type": "execute_result",
          "data": {
            "text/plain": [
              "811181"
            ]
          },
          "metadata": {},
          "execution_count": 3
        }
      ]
    }
  ]
}