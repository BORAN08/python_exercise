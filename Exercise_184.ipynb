{
  "nbformat": 4,
  "nbformat_minor": 0,
  "metadata": {
    "colab": {
      "name": "Exercise_184.ipynb",
      "provenance": [],
      "authorship_tag": "ABX9TyNunY5q7K8LgJ54oktUUFZA",
      "include_colab_link": true
    },
    "kernelspec": {
      "name": "python3",
      "display_name": "Python 3"
    },
    "language_info": {
      "name": "python"
    }
  },
  "cells": [
    {
      "cell_type": "markdown",
      "metadata": {
        "id": "view-in-github",
        "colab_type": "text"
      },
      "source": [
        "<a href=\"https://colab.research.google.com/github/mahmutboran/python_exercise/blob/main/Exercise_184.ipynb\" target=\"_parent\"><img src=\"https://colab.research.google.com/assets/colab-badge.svg\" alt=\"Open In Colab\"/></a>"
      ]
    },
    {
      "cell_type": "markdown",
      "source": [
        "\n",
        "Write a Python/JS code to find the numbers that are grater than 150 at below text, and sort these numbers.\n",
        "text = \"Maradona spent 5 years at Argentinos Juniors, from 1976 to 1981 , scoring 115 goals in 167 appearances.\"\n",
        "\n"
      ],
      "metadata": {
        "id": "SdpBanHEBy0s"
      }
    },
    {
      "cell_type": "code",
      "execution_count": 7,
      "metadata": {
        "colab": {
          "base_uri": "https://localhost:8080/"
        },
        "id": "UyeXhEE-BwKK",
        "outputId": "c199b516-fb79-4175-cf36-a49768e457fa"
      },
      "outputs": [
        {
          "output_type": "execute_result",
          "data": {
            "text/plain": [
              "['167', '1976', '1981']"
            ]
          },
          "metadata": {},
          "execution_count": 7
        }
      ],
      "source": [
        "def grater150(text):\n",
        "  return sorted([i for i in text.split(\" \") if i.isdigit() and int(i)>150])\n",
        "grater150(\"Maradona spent 5 years at Argentinos Juniors, from 1976 to 1981 , scoring 115 goals in 167 appearances.\")"
      ]
    }
  ]
}