{
  "nbformat": 4,
  "nbformat_minor": 0,
  "metadata": {
    "colab": {
      "name": "Exercise_145.ipynb",
      "provenance": [],
      "authorship_tag": "ABX9TyPeetW1sw4xDT9l9uE3PrB+",
      "include_colab_link": true
    },
    "kernelspec": {
      "name": "python3",
      "display_name": "Python 3"
    },
    "language_info": {
      "name": "python"
    }
  },
  "cells": [
    {
      "cell_type": "markdown",
      "metadata": {
        "id": "view-in-github",
        "colab_type": "text"
      },
      "source": [
        "<a href=\"https://colab.research.google.com/github/BORAN08/python_exercise/blob/main/Exercise_145.ipynb\" target=\"_parent\"><img src=\"https://colab.research.google.com/assets/colab-badge.svg\" alt=\"Open In Colab\"/></a>"
      ]
    },
    {
      "cell_type": "markdown",
      "metadata": {
        "id": "Qt8Pq5oa4Tf4"
      },
      "source": [
        "Exercise - 145 :\n",
        "Nearest Vowel\n",
        "Given a letter, created a function which returns the nearest vowel to the letter. If two vowels are equidistant to the given letter, return the earlier vowel.\n",
        "Examples\n",
        "nearestVowel(\"b\") ➞ \"a\"\n",
        "\n",
        "nearestVowel(\"s\") ➞ \"u\"\n",
        "\n",
        "nearestVowel(\"c\") ➞ \"a\"\n",
        "\n",
        "nearestVowel(\"i\") ➞ \"i\"\n",
        "Notes\n",
        "All letters will be given in lowercase.\n",
        "There will be no alphabet wrapping involved, meaning the closest vowel to \"z\" should return \"u\", not \"a\"."
      ]
    },
    {
      "cell_type": "code",
      "metadata": {
        "colab": {
          "base_uri": "https://localhost:8080/",
          "height": 35
        },
        "id": "ZX3GVEqn4gVt",
        "outputId": "055abfe4-e1f7-48d8-d26b-b68ff2e1b472"
      },
      "source": [
        "def nearestVowel(char_):\n",
        "  alpha=\"abcdefghijklmnopqrstuvwxyz\"\n",
        "  x=alpha.index(char_)\n",
        "  for i in range(5):\n",
        "    if char_ in \"zy\":\n",
        "      return \"u\"\n",
        "    elif alpha[x-i] in \"aeiou\":\n",
        "      return alpha[x-i]\n",
        "      break\n",
        "    elif alpha[x+i] in \"aeiou\":\n",
        "      return alpha[x+i]\n",
        "      break\n",
        "nearestVowel(\"x\")"
      ],
      "execution_count": 5,
      "outputs": [
        {
          "output_type": "execute_result",
          "data": {
            "application/vnd.google.colaboratory.intrinsic+json": {
              "type": "string"
            },
            "text/plain": [
              "'u'"
            ]
          },
          "metadata": {},
          "execution_count": 5
        }
      ]
    }
  ]
}