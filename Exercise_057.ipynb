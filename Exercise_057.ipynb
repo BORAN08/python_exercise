{
  "nbformat": 4,
  "nbformat_minor": 0,
  "metadata": {
    "colab": {
      "name": "Exercise_057.ipynb",
      "provenance": [],
      "authorship_tag": "ABX9TyOjw8IM6BBjNLEH6gJXq1pd",
      "include_colab_link": true
    },
    "kernelspec": {
      "name": "python3",
      "display_name": "Python 3"
    },
    "language_info": {
      "name": "python"
    }
  },
  "cells": [
    {
      "cell_type": "markdown",
      "metadata": {
        "id": "view-in-github",
        "colab_type": "text"
      },
      "source": [
        "<a href=\"https://colab.research.google.com/github/BORAN08/python_exercise/blob/main/Exercise_057.ipynb\" target=\"_parent\"><img src=\"https://colab.research.google.com/assets/colab-badge.svg\" alt=\"Open In Colab\"/></a>"
      ]
    },
    {
      "cell_type": "markdown",
      "source": [
        "Exercise -57\n",
        "\n",
        "Given a string s consisting of some words separated by some number of spaces, return the length of the last word in the string.\n",
        "\n",
        "A word is a maximal substring consisting of non-space characters only."
      ],
      "metadata": {
        "id": "pfeDfovjkhaV"
      }
    },
    {
      "cell_type": "code",
      "execution_count": 1,
      "metadata": {
        "colab": {
          "base_uri": "https://localhost:8080/"
        },
        "id": "gTwCAmpSkfCY",
        "outputId": "3a7aa028-b8cf-4cfc-87b9-2cb09f6623e0"
      },
      "outputs": [
        {
          "output_type": "stream",
          "name": "stdout",
          "text": [
            "I love  clarusway\n",
            "['I', 'love', 'clarusway']\n",
            "The last word is 'clarusway' with length 9.\n"
          ]
        }
      ],
      "source": [
        "my_str=list(map (str, input(\"\").split()))\n",
        "print(my_str)\n",
        "print(f\"The last word is '{my_str[-1]}' with length {len(my_str[-1])}.\")"
      ]
    }
  ]
}