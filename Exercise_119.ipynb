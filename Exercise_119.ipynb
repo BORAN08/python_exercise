{
  "nbformat": 4,
  "nbformat_minor": 0,
  "metadata": {
    "colab": {
      "name": "Exercise_119.ipynb",
      "provenance": [],
      "authorship_tag": "ABX9TyOj6AcaW/q3Kg9WRWnejPhk",
      "include_colab_link": true
    },
    "kernelspec": {
      "name": "python3",
      "display_name": "Python 3"
    },
    "language_info": {
      "name": "python"
    }
  },
  "cells": [
    {
      "cell_type": "markdown",
      "metadata": {
        "id": "view-in-github",
        "colab_type": "text"
      },
      "source": [
        "<a href=\"https://colab.research.google.com/github/BORAN08/python_exercise/blob/main/Exercise_119.ipynb\" target=\"_parent\"><img src=\"https://colab.research.google.com/assets/colab-badge.svg\" alt=\"Open In Colab\"/></a>"
      ]
    },
    {
      "cell_type": "markdown",
      "source": [
        "Exercise -119\n",
        "Write a function that selects all words that have all the same vowels (in any order and/or number) as the first word, including the first word.\n",
        "\n",
        "Examples same_vowel_group([\"toe\", \"ocelot\", \"maniac\"]) ➞ [\"toe\", \"ocelot\"]\n",
        "\n",
        "same_vowel_group([\"many\", \"carriage\", \"emit\", \"apricot\", \"animal\"]) ➞ [\"many\"]\n",
        "\n",
        "same_vowel_group([\"hoops\", \"chuff\", \"bot\", \"bottom\"]) ➞ [\"hoops\", \"bot\", \"bottom\"]\n",
        "\n",
        "Notes Words will contain only lowercase letters, and may contain whitespaces.\n",
        "\n",
        "Frequency does not matter (e.g. if the first word is \"loopy\", then you can include words with any number of o's, so long as they only contain o's, and not any other vowels"
      ],
      "metadata": {
        "id": "n44ctkHQO5Kd"
      }
    },
    {
      "cell_type": "code",
      "execution_count": 58,
      "metadata": {
        "colab": {
          "base_uri": "https://localhost:8080/"
        },
        "id": "aVqx_j2MO4A5",
        "outputId": "b884f2fe-ea71-421e-adab-8292cd181361"
      },
      "outputs": [
        {
          "output_type": "execute_result",
          "data": {
            "text/plain": [
              "['hoops', 'bot', 'bottom']"
            ]
          },
          "metadata": {},
          "execution_count": 58
        }
      ],
      "source": [
        "def same_vowel_group(n):\n",
        "  vowel_group=[]\n",
        "  result=[]\n",
        "  for i in n:\n",
        "    vowel=set()\n",
        "    for j in i:\n",
        "      if j  in \"aeoui\":vowel.add(j)\n",
        "    vowel_group.append(vowel)\n",
        "    if vowel_group[0]==vowel:result.append(i)\n",
        "  return result\n",
        "same_vowel_group([\"hoops\", \"chuff\", \"bot\", \"bottom\"])"
      ]
    },
    {
      "cell_type": "code",
      "source": [
        "same_vowel_group([\"toe\", \"ocelot\", \"maniac\"])"
      ],
      "metadata": {
        "colab": {
          "base_uri": "https://localhost:8080/"
        },
        "id": "SUJrP7v4QPO_",
        "outputId": "3b5c9640-41a5-4fe0-bc71-7641030a5b61"
      },
      "execution_count": 55,
      "outputs": [
        {
          "output_type": "execute_result",
          "data": {
            "text/plain": [
              "['toe', 'ocelot']"
            ]
          },
          "metadata": {},
          "execution_count": 55
        }
      ]
    },
    {
      "cell_type": "code",
      "source": [
        "same_vowel_group([\"many\", \"carriage\", \"emit\", \"apricot\", \"animal\"])"
      ],
      "metadata": {
        "colab": {
          "base_uri": "https://localhost:8080/"
        },
        "id": "m3u-NWtEQTOR",
        "outputId": "7f47b164-1f88-440e-91eb-74344bf3c842"
      },
      "execution_count": 59,
      "outputs": [
        {
          "output_type": "execute_result",
          "data": {
            "text/plain": [
              "['many']"
            ]
          },
          "metadata": {},
          "execution_count": 59
        }
      ]
    }
  ]
}