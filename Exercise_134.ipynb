{
  "nbformat": 4,
  "nbformat_minor": 0,
  "metadata": {
    "colab": {
      "name": "Exercise_134.ipynb",
      "provenance": [],
      "authorship_tag": "ABX9TyND+NdZLOcDaxi+f2zfsPdz",
      "include_colab_link": true
    },
    "kernelspec": {
      "name": "python3",
      "display_name": "Python 3"
    },
    "language_info": {
      "name": "python"
    }
  },
  "cells": [
    {
      "cell_type": "markdown",
      "metadata": {
        "id": "view-in-github",
        "colab_type": "text"
      },
      "source": [
        "<a href=\"https://colab.research.google.com/github/BORAN08/python_exercise/blob/main/Exercise_134.ipynb\" target=\"_parent\"><img src=\"https://colab.research.google.com/assets/colab-badge.svg\" alt=\"Open In Colab\"/></a>"
      ]
    },
    {
      "cell_type": "markdown",
      "source": [
        "Exercise - 134\n",
        "\n",
        "Implement a program that translates from English to Pig Latin.\n",
        "\n",
        "Pig Latin is a made-up children's language that's intended to be confusing. It obeys a few simple rules (below), but when it's spoken quickly it's really difficult for non-children (and non-native speakers) to understand.\n",
        "\n",
        "  Rule 1: If a word begins with a vowel sound, add an \"ay\" sound to the end of the word. Please note that \"xr\" and \"yt\" at the beginning of a word make vowel sounds (e.g. \"xray\" -> \"xrayay\", \"yttria\" -> \"yttriaay\").\n",
        "\n",
        "  Rule 2: If a word** begins with a consonant sound, move it to the end of the word and then add an **\"ay\" sound to the end of the word. Consonant sounds can be made up of multiple consonants, a.k.a. a consonant cluster (e.g. \"chair\" -> \"airchay\").\n",
        "\n",
        "  Rule 3: If a word starts with a consonant sound followed by \"qu\", move it to the end of the word, and then add an \"ay\" sound to the end of the word (e.g. \"square\" -> \"aresquay\").\n",
        "\n",
        "  Rule 4: If a word contains a \"y\" after a consonant cluster or as the second letter in a two letter word it makes a vowel sound (e.g. \"rhythm\" -> \"ythmrhay\", \"my\" -> \"ymay\").\n",
        "  "
      ],
      "metadata": {
        "id": "yekeXY7GBqjC"
      }
    },
    {
      "cell_type": "code",
      "source": [
        "word=input(\"\").lower()\n",
        "if (word[0] in \"aeoui\") or word[:2]==\"yt\" or word[:2]==\"xr\":  #Rule1\n",
        "  word+=\"ay\"\n",
        "elif word[0] not in \"aeoui\" and word[1:3]==\"qu\":              #Rule3\n",
        "  word+=word[:3]+\"ay\"\n",
        "  word=word.lstrip(word[:3])\n",
        "elif word not in \"aeoiu\" and any(i for i in word if i==\"y\"):  #Rule4\n",
        "  word+=word[:word.index(\"y\")]+\"ay\"\n",
        "  word=word.lstrip(word[:word.index(\"y\")])\n",
        "else:                                                         #Rule2\n",
        "  for i in word:\n",
        "    if i not in \"aeiou\":\n",
        "      word+=i\n",
        "      word=word.lstrip(i)\n",
        "    else:\n",
        "      word+=\"ay\"\n",
        "      break\n",
        "word "
      ],
      "metadata": {
        "colab": {
          "base_uri": "https://localhost:8080/",
          "height": 52
        },
        "id": "Iz-hDS8eBqVh",
        "outputId": "a54ec4a5-bd90-4386-9ed4-3c8ad783cff6"
      },
      "execution_count": 1,
      "outputs": [
        {
          "name": "stdout",
          "output_type": "stream",
          "text": [
            "rhythm\n"
          ]
        },
        {
          "output_type": "execute_result",
          "data": {
            "application/vnd.google.colaboratory.intrinsic+json": {
              "type": "string"
            },
            "text/plain": [
              "'ythmrhay'"
            ]
          },
          "metadata": {},
          "execution_count": 1
        }
      ]
    },
    {
      "cell_type": "code",
      "execution_count": null,
      "metadata": {
        "id": "yowt7EmmBk6w"
      },
      "outputs": [],
      "source": [
        ""
      ]
    }
  ]
}