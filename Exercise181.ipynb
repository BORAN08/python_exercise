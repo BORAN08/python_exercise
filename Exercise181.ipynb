{
  "nbformat": 4,
  "nbformat_minor": 0,
  "metadata": {
    "colab": {
      "name": "Exercise181.ipynb",
      "provenance": [],
      "authorship_tag": "ABX9TyPi7Mj98pYv2cI72NFd1ceH",
      "include_colab_link": true
    },
    "kernelspec": {
      "name": "python3",
      "display_name": "Python 3"
    },
    "language_info": {
      "name": "python"
    }
  },
  "cells": [
    {
      "cell_type": "markdown",
      "metadata": {
        "id": "view-in-github",
        "colab_type": "text"
      },
      "source": [
        "<a href=\"https://colab.research.google.com/github/mahmutboran/python_exercise/blob/main/Exercise181.ipynb\" target=\"_parent\"><img src=\"https://colab.research.google.com/assets/colab-badge.svg\" alt=\"Open In Colab\"/></a>"
      ]
    },
    {
      "cell_type": "markdown",
      "source": [
        "Write a Python/JS code to sort the list/array below without using .sort() method of list/array.\n",
        "\n",
        "elements of list/array = [999, 333, 2, 8982, 12, 45, 77, 99, 11]\n",
        "\n",
        "Expected output:\n",
        "\n",
        "[2, 11, 12, 45, 77, 99, 333, 999, 8982]"
      ],
      "metadata": {
        "id": "XHFNXKVzzHb8"
      }
    },
    {
      "cell_type": "code",
      "execution_count": 23,
      "metadata": {
        "colab": {
          "base_uri": "https://localhost:8080/"
        },
        "id": "yxbTSHMrzEhi",
        "outputId": "60084b7d-453f-4747-c4bf-e321189292f2"
      },
      "outputs": [
        {
          "output_type": "execute_result",
          "data": {
            "text/plain": [
              "[2, 11, 12, 45, 77, 99, 333, 999, 8982]"
            ]
          },
          "metadata": {},
          "execution_count": 23
        }
      ],
      "source": [
        "def mySort(myArray):\n",
        "  count=0\n",
        "  while (count<len(myArray)-1):\n",
        "    count=0\n",
        "    for i in range(len(myArray)-1):\n",
        "      if myArray[i]>myArray[i+1]:\n",
        "        myArray.insert(i+1,myArray.pop(i))\n",
        "      else:\n",
        "        count+=1\n",
        "  return myArray\n",
        "mySort([999, 333, 2, 8982, 12, 45, 77, 99, 11])"
      ]
    }
  ]
}