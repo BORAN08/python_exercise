{
  "nbformat": 4,
  "nbformat_minor": 0,
  "metadata": {
    "colab": {
      "name": "Exercise181.ipynb",
      "provenance": [],
      "authorship_tag": "ABX9TyP2WtirRlVm2+EDtl9YGYK2",
      "include_colab_link": true
    },
    "kernelspec": {
      "name": "python3",
      "display_name": "Python 3"
    },
    "language_info": {
      "name": "python"
    }
  },
  "cells": [
    {
      "cell_type": "markdown",
      "metadata": {
        "id": "view-in-github",
        "colab_type": "text"
      },
      "source": [
        "<a href=\"https://colab.research.google.com/github/mahmutboran/python_exercise/blob/main/Exercise181.ipynb\" target=\"_parent\"><img src=\"https://colab.research.google.com/assets/colab-badge.svg\" alt=\"Open In Colab\"/></a>"
      ]
    },
    {
      "cell_type": "markdown",
      "source": [
        "Write a Python/JavaScript code that counts how many vowels and constants a string has that a user entered."
      ],
      "metadata": {
        "id": "Gt3Bef0EAnQy"
      }
    },
    {
      "cell_type": "code",
      "execution_count": 34,
      "metadata": {
        "colab": {
          "base_uri": "https://localhost:8080/",
          "height": 54
        },
        "id": "e46naB7jAJxR",
        "outputId": "d84734c2-ae70-4204-8ff6-ef9c716620f8"
      },
      "outputs": [
        {
          "name": "stdout",
          "output_type": "stream",
          "text": [
            "asdfghjkçömnbvcxz\n"
          ]
        },
        {
          "output_type": "execute_result",
          "data": {
            "application/vnd.google.colaboratory.intrinsic+json": {
              "type": "string"
            },
            "text/plain": [
              "'vowel:1,consonant:14'"
            ]
          },
          "metadata": {},
          "execution_count": 34
        }
      ],
      "source": [
        "def vowelConsonant(myStr=input().lower()):\n",
        "  vowel=0\n",
        "  consonant=0\n",
        "  for i in myStr:\n",
        "    if i in \"aeiou\":vowel+=1\n",
        "    elif i in \"bcdfghjklmnpqrstvwxyz\":consonant+=1\n",
        "  return f\"vowel:{vowel},consonant:{consonant}\"\n",
        "vowelConsonant()"
      ]
    }
  ]
}