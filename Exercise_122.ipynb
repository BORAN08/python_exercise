{
  "nbformat": 4,
  "nbformat_minor": 0,
  "metadata": {
    "colab": {
      "name": "Exercise_122.ipynb",
      "provenance": [],
      "authorship_tag": "ABX9TyMGkl7DFJIDz4/Kpp8bhQu+",
      "include_colab_link": true
    },
    "kernelspec": {
      "name": "python3",
      "display_name": "Python 3"
    },
    "language_info": {
      "name": "python"
    }
  },
  "cells": [
    {
      "cell_type": "markdown",
      "metadata": {
        "id": "view-in-github",
        "colab_type": "text"
      },
      "source": [
        "<a href=\"https://colab.research.google.com/github/BORAN08/python_exercise/blob/main/Exercise_122.ipynb\" target=\"_parent\"><img src=\"https://colab.research.google.com/assets/colab-badge.svg\" alt=\"Open In Colab\"/></a>"
      ]
    },
    {
      "cell_type": "markdown",
      "source": [
        "Exercise -122 :\n",
        "\n",
        "Create a function that returns the sum of missing numbers from the given list.\n",
        "\n",
        "Examples\n",
        "\n",
        "sum_missing_numbers([4, 3, 8, 1, 2]) ➞ 18\n",
        "\n",
        "# 5 + 6 + 7 = 18\n",
        "\n",
        "\n",
        "sum_missing_numbers([17, 16, 15, 10, 11, 12]) ➞ 27\n",
        "\n",
        "# 13 + 14 = 27\n",
        "\n",
        "\n",
        "sum_missing_numbers([1, 2, 3, 4, 5]) ➞ 0\n",
        "\n",
        "# No Missing Numbers (i.e. all numbers in [1, 5] are present in the list)\n",
        "\n",
        "Notes\n",
        "\n",
        "The numerical range to consider when searching for the missing numbers in the list is the sequence of consecutive numbers between the minimum and maximum of the numbers (inclusive)."
      ],
      "metadata": {
        "id": "Uy36OQsTwoDu"
      }
    },
    {
      "cell_type": "code",
      "execution_count": 1,
      "metadata": {
        "colab": {
          "base_uri": "https://localhost:8080/"
        },
        "id": "Amr8fYAhwlca",
        "outputId": "cc3f6a10-e47d-446d-dd4e-463ca8a2e26e"
      },
      "outputs": [
        {
          "output_type": "execute_result",
          "data": {
            "text/plain": [
              "27"
            ]
          },
          "metadata": {},
          "execution_count": 1
        }
      ],
      "source": [
        "mylist = [17, 16, 15, 10, 11, 12]\n",
        "sum(i for i in range(min(mylist),max(mylist)) if i not in mylist)"
      ]
    }
  ]
}