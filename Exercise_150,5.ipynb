{
  "nbformat": 4,
  "nbformat_minor": 0,
  "metadata": {
    "colab": {
      "name": "Exercise_150,5.ipynb",
      "provenance": [],
      "authorship_tag": "ABX9TyN3km2DUL4e2/1R9wEyCUhH",
      "include_colab_link": true
    },
    "kernelspec": {
      "name": "python3",
      "display_name": "Python 3"
    },
    "language_info": {
      "name": "python"
    }
  },
  "cells": [
    {
      "cell_type": "markdown",
      "metadata": {
        "id": "view-in-github",
        "colab_type": "text"
      },
      "source": [
        "<a href=\"https://colab.research.google.com/github/BORAN08/python_exercise/blob/main/Exercise_150%2C5.ipynb\" target=\"_parent\"><img src=\"https://colab.research.google.com/assets/colab-badge.svg\" alt=\"Open In Colab\"/></a>"
      ]
    },
    {
      "cell_type": "markdown",
      "source": [
        "2520 is the smallest number that can be divided by each of the numbers from 1 to 10 without any remainder.\n",
        "What is the smallest positive number that is evenly divisible by all of the numbers from 1 to 20?"
      ],
      "metadata": {
        "id": "26Ukm35nQ5Wz"
      }
    },
    {
      "cell_type": "code",
      "execution_count": 1,
      "metadata": {
        "colab": {
          "base_uri": "https://localhost:8080/"
        },
        "id": "bcXk1RnAQ1WJ",
        "outputId": "b08dcb11-229c-4bfb-a799-80e6f221cf3a"
      },
      "outputs": [
        {
          "output_type": "stream",
          "name": "stdout",
          "text": [
            "232792560\n"
          ]
        }
      ],
      "source": [
        "#D1155 Melek's salute\n",
        "nums = [i for i in range(1,21)]\n",
        "nums_prime = []\n",
        "\n",
        "for i in nums :\n",
        "  prime = []\n",
        "  for j in range(2,i) :\n",
        "    prime.append(i % j != 0)\n",
        "  if all(prime) and i != 1 :\n",
        "    nums_prime += [i]\n",
        "new_number = []\n",
        "while True :\n",
        "  for i in nums_prime :\n",
        "    temp = []\n",
        "    for j in range(len(nums)) :\n",
        "      temp.append(nums[j] % i == 0)\n",
        "      if nums[j] % i == 0 :\n",
        "        nums[j] = nums[j] // i\n",
        "    if any(temp) :\n",
        "      new_number += [i]\n",
        "  if sum(nums) == 20 :\n",
        "    break\n",
        "count = 1    \n",
        "for i in new_number :\n",
        "  count *= i\n",
        "print(count)"
      ]
    }
  ]
}