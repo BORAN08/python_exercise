{
  "nbformat": 4,
  "nbformat_minor": 0,
  "metadata": {
    "colab": {
      "name": "Exercise_165.ipynb",
      "provenance": [],
      "authorship_tag": "ABX9TyM6hSauMAKXgeUGdej0LN7z",
      "include_colab_link": true
    },
    "kernelspec": {
      "name": "python3",
      "display_name": "Python 3"
    },
    "language_info": {
      "name": "python"
    }
  },
  "cells": [
    {
      "cell_type": "markdown",
      "metadata": {
        "id": "view-in-github",
        "colab_type": "text"
      },
      "source": [
        "<a href=\"https://colab.research.google.com/github/BORAN08/python_exercise/blob/main/Exercise_165.ipynb\" target=\"_parent\"><img src=\"https://colab.research.google.com/assets/colab-badge.svg\" alt=\"Open In Colab\"/></a>"
      ]
    },
    {
      "cell_type": "markdown",
      "source": [
        "Exercise-165 Have the function MathChallenge(num) take the num parameter being passed and return the string true if the parameter is a prime number, otherwise return the string false. The range will be between 1 and 2^16.\n",
        "\n",
        "Examples\n",
        "\n",
        "Input: 19\n",
        "\n",
        "Output: true\n",
        "\n",
        "Input: 110\n",
        "\n",
        "Output: false"
      ],
      "metadata": {
        "id": "0cqnT2U0RtUv"
      }
    },
    {
      "cell_type": "code",
      "execution_count": 3,
      "metadata": {
        "colab": {
          "base_uri": "https://localhost:8080/"
        },
        "id": "p2E_MMIJRqwl",
        "outputId": "e8ef70c0-fbf1-4016-fdb5-13a7d089e280"
      },
      "outputs": [
        {
          "output_type": "execute_result",
          "data": {
            "text/plain": [
              "True"
            ]
          },
          "metadata": {},
          "execution_count": 3
        }
      ],
      "source": [
        "def MathChallenge(num):\n",
        "  if num <= 1:return False\n",
        "  else:\n",
        "    for i in range(2,num):\n",
        "      if num%i==0:\n",
        "        return False\n",
        "        break\n",
        "      else: return True\n",
        "\n",
        "MathChallenge(17)"
      ]
    },
    {
      "cell_type": "code",
      "source": [
        ""
      ],
      "metadata": {
        "id": "bjWvt9SIS6Iq"
      },
      "execution_count": null,
      "outputs": []
    }
  ]
}