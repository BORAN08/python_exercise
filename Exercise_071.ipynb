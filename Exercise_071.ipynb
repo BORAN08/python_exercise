{
  "nbformat": 4,
  "nbformat_minor": 0,
  "metadata": {
    "colab": {
      "name": "Exercise_071.ipynb",
      "provenance": [],
      "authorship_tag": "ABX9TyOT5HY4jo3+9OlKalyH8vAR",
      "include_colab_link": true
    },
    "kernelspec": {
      "name": "python3",
      "display_name": "Python 3"
    },
    "language_info": {
      "name": "python"
    }
  },
  "cells": [
    {
      "cell_type": "markdown",
      "metadata": {
        "id": "view-in-github",
        "colab_type": "text"
      },
      "source": [
        "<a href=\"https://colab.research.google.com/github/BORAN08/python_exercise/blob/main/Exercise_071.ipynb\" target=\"_parent\"><img src=\"https://colab.research.google.com/assets/colab-badge.svg\" alt=\"Open In Colab\"/></a>"
      ]
    },
    {
      "cell_type": "markdown",
      "source": [
        "Exercise - 71\n",
        "\n",
        "Alice has n candies, where the ith candy is of type candyType[i]. Alice noticed that she started to gain weight, so she visited a doctor.\n",
        "The doctor advised Alice to only eat n / 2 of the candies she has (n is always even). Alice likes her candies very much, and she wants to eat the maximum number of different types of candies while still following the doctor's advice.\n",
        "\n",
        "\n",
        "Given the integer array candyType of length n, return the maximum number of different types of candies she can eat if she only eats n / 2 of them.\n",
        "\n",
        "\n",
        "Example 1:\n",
        "\n",
        "Input: candyType = [1,1,2,2,3,3]\n",
        "\n",
        "Output: 3\n",
        "\n",
        "Explanation: Alice can only eat 6 / 2 = 3 candies. Since there are only 3 types, she can eat one of each type.\n",
        "\n",
        "\n",
        "Example 2:\n",
        "\n",
        "Input: candyType = [1,1,2,3]\n",
        "\n",
        "Output: 2\n",
        "\n",
        "Explanation: Alice can only eat 4 / 2 = 2 candies. Whether she eats types [1,2], [1,3], or [2,3], she still can only eat 2 different types.\n",
        "\n",
        "\n",
        "Example 3:\n",
        "\n",
        "Input: candyType = [6,6,6,6]\n",
        "\n",
        "Output: 1\n",
        "\n",
        "Explanation: Alice can only eat 4 / 2 = 2 candies. Even though she can eat 2 candies, she only has 1 type."
      ],
      "metadata": {
        "id": "cnq8GgB7gMTX"
      }
    },
    {
      "cell_type": "code",
      "execution_count": 1,
      "metadata": {
        "colab": {
          "base_uri": "https://localhost:8080/"
        },
        "id": "vKnD5jRxgHtr",
        "outputId": "121831da-05c1-4061-c68a-3b2da0458ba4"
      },
      "outputs": [
        {
          "output_type": "stream",
          "name": "stdout",
          "text": [
            "1\n"
          ]
        }
      ],
      "source": [
        "candyType = [6,6,6,6,6] \n",
        "mydict={}\n",
        "for i in candyType:\n",
        "  mydict.setdefault(i,candyType.count(i))\n",
        "a=set(mydict.keys())\n",
        "if len(a)<=len(candyType)/2:\n",
        "  print(len(a))\n",
        "else:\n",
        "  print(len(candyType)/2)"
      ]
    }
  ]
}