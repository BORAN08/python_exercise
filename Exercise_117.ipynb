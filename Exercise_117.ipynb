{
  "nbformat": 4,
  "nbformat_minor": 0,
  "metadata": {
    "colab": {
      "name": "Exercise_117.ipynb",
      "provenance": [],
      "authorship_tag": "ABX9TyNdfF8/1VRKGYSL11hOVeV7",
      "include_colab_link": true
    },
    "kernelspec": {
      "name": "python3",
      "display_name": "Python 3"
    },
    "language_info": {
      "name": "python"
    }
  },
  "cells": [
    {
      "cell_type": "markdown",
      "metadata": {
        "id": "view-in-github",
        "colab_type": "text"
      },
      "source": [
        "<a href=\"https://colab.research.google.com/github/BORAN08/python_exercise/blob/main/Exercise_117.ipynb\" target=\"_parent\"><img src=\"https://colab.research.google.com/assets/colab-badge.svg\" alt=\"Open In Colab\"/></a>"
      ]
    },
    {
      "cell_type": "markdown",
      "source": [
        "Exercise -117: There is a parking lot with only one empty spot. Given the initial state of the parking lot and the final state. Each step we are only allowed to move a car out of its place and move it into the empty spot. The goal is to find out the least movement needed to rearrange the parking lot from the initial state to the final state.\n",
        "\n",
        "Say the initial state is an array: [1, 2, 3, 0, 4],\n",
        "\n",
        "where 1, 2, 3, 4 are different cars, and 0 is the empty spot.\n",
        "\n",
        "And the final state is [0, 3, 2, 1, 4].\n",
        "\n",
        "We can swap 1 with 0 in the initial array to get [0, 2, 3, 1, 4] and so on. Each step swap with 0 only.\n",
        "\n",
        "Edit: Now also prints the sequence of changes in states. Output of this example :- initial: [1, 2, 3, 0, 4] final: [0, 3, 2, 1, 4] Steps = 4 Sequence : 0 2 3 1 4 2 0 3 1 4 2 3 0 1 4 0 3 2 1 4"
      ],
      "metadata": {
        "id": "7r_PMzpCOPOe"
      }
    },
    {
      "cell_type": "code",
      "execution_count": 1,
      "metadata": {
        "colab": {
          "base_uri": "https://localhost:8080/"
        },
        "id": "amj1MmCBOOst",
        "outputId": "0a49a69a-af57-40dd-cc21-e7731453bafa"
      },
      "outputs": [
        {
          "output_type": "execute_result",
          "data": {
            "text/plain": [
              "(4, [[0, 2, 3, 1, 4], [2, 0, 3, 1, 4], [2, 3, 0, 1, 4], [0, 3, 2, 1, 4]])"
            ]
          },
          "metadata": {},
          "execution_count": 1
        }
      ],
      "source": [
        "def garage(initial, final):\n",
        "\n",
        "    initial = initial[::]     # create a copy to prevent changes in original 'initial'.\n",
        "    steps = 0\n",
        "    seq = []                  # list of each step in sequence\n",
        "    while initial != final:\n",
        "        zero = initial.index(0)\n",
        "        if zero != final.index(0):\n",
        "            car_to_move = final[zero]\n",
        "            pos = initial.index(car_to_move)\n",
        "            initial[zero], initial[pos] = initial[pos], initial[zero]\n",
        "        else:\n",
        "            for i in range(len(initial)):\n",
        "                if initial[i] != final[i]:\n",
        "                    initial[zero], initial[i] = initial[i], initial[zero]\n",
        "                    break\n",
        "        seq.append(initial[::])\n",
        "        steps += 1\n",
        "\n",
        "    return steps, seq\n",
        "garage([1, 2, 3, 0, 4],[0, 3, 2, 1, 4] )"
      ]
    }
  ]
}