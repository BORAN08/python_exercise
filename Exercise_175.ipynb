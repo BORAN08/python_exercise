{
  "nbformat": 4,
  "nbformat_minor": 0,
  "metadata": {
    "colab": {
      "name": "Exercise_175.ipynb",
      "provenance": [],
      "collapsed_sections": [],
      "authorship_tag": "ABX9TyO+l3O58uYYyYVZPo/daOEv",
      "include_colab_link": true
    },
    "kernelspec": {
      "name": "python3",
      "display_name": "Python 3"
    },
    "language_info": {
      "name": "python"
    }
  },
  "cells": [
    {
      "cell_type": "markdown",
      "metadata": {
        "id": "view-in-github",
        "colab_type": "text"
      },
      "source": [
        "<a href=\"https://colab.research.google.com/github/BORAN08/python_exercise/blob/main/Exercise_175.ipynb\" target=\"_parent\"><img src=\"https://colab.research.google.com/assets/colab-badge.svg\" alt=\"Open In Colab\"/></a>"
      ]
    },
    {
      "cell_type": "markdown",
      "source": [
        "Not : Listelerdeki \"pop\" metodunu daha iyi kavramak için güzel bir soru olduğunu düşünüyorum.\n",
        "\n",
        "Exercise- 175\n",
        "This problem takes its name by arguably the most important event in the life of the ancient historian Josephus: according to his tale, he and his 40 soldiers were trapped in a cave by the Romans during a siege.\n",
        "\n",
        "Refusing to surrender to the enemy, they instead opted for mass suicide, with a twist: they formed a circle and proceeded to kill one man every three, until one last man was left (and that it was supposed to kill himself to end the act).\n",
        "Well, Josephus and another man were the last two and, as we now know every detail of the story, you may have correctly guessed that they didn't exactly follow through the original idea.\n",
        "\n",
        "You are now to create a function that returns a Josephus permutation, taking as parameters the initial array/list of items to be permuted as if they were in a circle and counted out every k places until none remained.\n",
        "\n",
        "Tips and notes: it helps to start counting from 1 up to n, instead of the usual range 0..n-1; k will always be >=1.\n",
        "\n",
        "For example, with n=7 and k=3 josephus(7,3) should act this way.\n",
        "\n",
        "[1,2,3,4,5,6,7] - initial sequence\n",
        "\n",
        "[1,2,4,5,6,7] => 3 is counted out and goes into the result [3]\n",
        "\n",
        "[1,2,4,5,7] => 6 is counted out and goes into the result [3,6]\n",
        "\n",
        "[1,4,5,7] => 2 is counted out and goes into the result [3,6,2]\n",
        "\n",
        "[1,4,5] => 7 is counted out and goes into the result [3,6,2,7]\n",
        "\n",
        "[1,4] => 5 is counted out and goes into the result [3,6,2,7,5]\n",
        "\n",
        "[4] => 1 is counted out and goes into the result [3,6,2,7,5,1]\n",
        "\n",
        "[] => 4 is counted out and goes into the result [3,6,2,7,5,1,4]\n",
        "\n",
        "So our final result is:\n",
        "\n",
        "josephus([1,2,3,4,5,6,7],3)==[3,6,2,7,5,1,4]"
      ],
      "metadata": {
        "id": "R7Ifv08Ohog2"
      }
    },
    {
      "cell_type": "code",
      "execution_count": 15,
      "metadata": {
        "colab": {
          "base_uri": "https://localhost:8080/"
        },
        "id": "TadYWNfQhoI9",
        "outputId": "9e132873-112e-4726-a6be-0a566bf29c65"
      },
      "outputs": [
        {
          "output_type": "execute_result",
          "data": {
            "text/plain": [
              "[3, 6, 2, 7, 5, 1]"
            ]
          },
          "metadata": {},
          "execution_count": 15
        }
      ],
      "source": [
        "def josephus(n,k):\n",
        "  n_list=[i for i in range(1,n+1)]\n",
        "  i=0\n",
        "  result=[]\n",
        "  while len(n_list)>1:\n",
        "    i=(k+i-1)%len(n_list)\n",
        "    result.append(n_list.pop(i))\n",
        "  return result\n",
        "josephus(7,3)"
      ]
    },
    {
      "cell_type": "code",
      "source": [
        ""
      ],
      "metadata": {
        "id": "oYd0UepDi7e6"
      },
      "execution_count": null,
      "outputs": []
    }
  ]
}