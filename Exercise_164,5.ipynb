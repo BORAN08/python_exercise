{
  "nbformat": 4,
  "nbformat_minor": 0,
  "metadata": {
    "colab": {
      "name": "Exercise_164,5.ipynb",
      "provenance": [],
      "authorship_tag": "ABX9TyObKr/32j79gJiQslDuNCZt",
      "include_colab_link": true
    },
    "kernelspec": {
      "name": "python3",
      "display_name": "Python 3"
    },
    "language_info": {
      "name": "python"
    }
  },
  "cells": [
    {
      "cell_type": "markdown",
      "metadata": {
        "id": "view-in-github",
        "colab_type": "text"
      },
      "source": [
        "<a href=\"https://colab.research.google.com/github/BORAN08/python_exercise/blob/main/Exercise_164%2C5.ipynb\" target=\"_parent\"><img src=\"https://colab.research.google.com/assets/colab-badge.svg\" alt=\"Open In Colab\"/></a>"
      ]
    },
    {
      "cell_type": "markdown",
      "source": [
        "Have the function StringChallenge(str) take the str parameter being passed and modify it using the following algorithm. Replace every letter in the string with the letter following it in the alphabet (ie. c becomes d, z becomes a). Then capitalize every vowel in this new string (a, e, i, o, u) and finally return this modified string.\n",
        "\n",
        "Examples\n",
        "\n",
        "Input: \"hello*3\"\n",
        "\n",
        "Output: Ifmmp*3\n",
        "\n",
        "Input: \"fun times!\"\n",
        "\n",
        "Output: gvO Ujnft!"
      ],
      "metadata": {
        "id": "bGNrzB51Uhvl"
      }
    },
    {
      "cell_type": "code",
      "execution_count": 25,
      "metadata": {
        "colab": {
          "base_uri": "https://localhost:8080/",
          "height": 35
        },
        "id": "qkGgzbP_Ubuk",
        "outputId": "a9a146bd-8b8d-44c6-fcc2-f1148140e821"
      },
      "outputs": [
        {
          "output_type": "execute_result",
          "data": {
            "application/vnd.google.colaboratory.intrinsic+json": {
              "type": "string"
            },
            "text/plain": [
              "'Ifmmp*3'"
            ]
          },
          "metadata": {},
          "execution_count": 25
        }
      ],
      "source": [
        "def StringChallenge(s):\n",
        "  dict_={chr(i):chr(i+1) for i in range(97,123)}\n",
        "  dict_[\"z\"]=\"a\"\n",
        "  change=str.maketrans(dict_)\n",
        "  new_s=s.translate(change)\n",
        "  return \"\".join(i.upper() if i in \"aeoui\" else i for i in new_s)\n",
        "StringChallenge(\"hello*3\")"
      ]
    },
    {
      "cell_type": "code",
      "source": [
        "StringChallenge(\"fun times!\")"
      ],
      "metadata": {
        "colab": {
          "base_uri": "https://localhost:8080/",
          "height": 35
        },
        "id": "7EtJAD0PVmf5",
        "outputId": "b0a1ca83-2a0f-4469-fac9-6287e4c20251"
      },
      "execution_count": 26,
      "outputs": [
        {
          "output_type": "execute_result",
          "data": {
            "application/vnd.google.colaboratory.intrinsic+json": {
              "type": "string"
            },
            "text/plain": [
              "'gvO Ujnft!'"
            ]
          },
          "metadata": {},
          "execution_count": 26
        }
      ]
    },
    {
      "cell_type": "code",
      "source": [
        "StringChallenge(\"python\")"
      ],
      "metadata": {
        "colab": {
          "base_uri": "https://localhost:8080/",
          "height": 35
        },
        "id": "MU8mtlzUYyh-",
        "outputId": "b92ceb39-ed01-4e33-d091-b732be78d3ac"
      },
      "execution_count": 27,
      "outputs": [
        {
          "output_type": "execute_result",
          "data": {
            "application/vnd.google.colaboratory.intrinsic+json": {
              "type": "string"
            },
            "text/plain": [
              "'qzUIpO'"
            ]
          },
          "metadata": {},
          "execution_count": 27
        }
      ]
    }
  ]
}