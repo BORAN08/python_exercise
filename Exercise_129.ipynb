{
  "nbformat": 4,
  "nbformat_minor": 0,
  "metadata": {
    "colab": {
      "name": "Exercise_129.ipynb",
      "provenance": [],
      "authorship_tag": "ABX9TyMmhlURFUCDMZWR5u9u+I70",
      "include_colab_link": true
    },
    "kernelspec": {
      "name": "python3",
      "display_name": "Python 3"
    },
    "language_info": {
      "name": "python"
    }
  },
  "cells": [
    {
      "cell_type": "markdown",
      "metadata": {
        "id": "view-in-github",
        "colab_type": "text"
      },
      "source": [
        "<a href=\"https://colab.research.google.com/github/BORAN08/python_exercise/blob/main/Exercise_129.ipynb\" target=\"_parent\"><img src=\"https://colab.research.google.com/assets/colab-badge.svg\" alt=\"Open In Colab\"/></a>"
      ]
    },
    {
      "cell_type": "markdown",
      "source": [
        "Exercise - 129\n",
        "\n",
        "Create a function that returns a list containing the prime factors of whatever integer is passed to it.\n",
        "\n",
        "Examples\n",
        "\n",
        "prime_factors(20) ➞ [2, 2, 5]\n",
        "\n",
        "prime_factors(100) ➞ [2, 2, 5, 5]\n",
        "\n",
        "prime_factors(8912234) ➞ [2, 47, 94811]"
      ],
      "metadata": {
        "id": "Mg4N6TdQRmQU"
      }
    },
    {
      "cell_type": "code",
      "execution_count": 1,
      "metadata": {
        "colab": {
          "base_uri": "https://localhost:8080/"
        },
        "id": "ILr1gAgdRW1-",
        "outputId": "f2f67e78-c191-45f9-e27a-f3eba8d327b4"
      },
      "outputs": [
        {
          "name": "stdout",
          "output_type": "stream",
          "text": [
            "Please enter a number: 25\n"
          ]
        },
        {
          "output_type": "execute_result",
          "data": {
            "text/plain": [
              "[5, 5]"
            ]
          },
          "metadata": {},
          "execution_count": 1
        }
      ],
      "source": [
        "def prime_factors(number):\n",
        "  liste=[]\n",
        "  i=2\n",
        "  while number > 1:\n",
        "    if number %i == 0:\n",
        "      liste.append(i)\n",
        "      number = number / i\n",
        "    else :\n",
        "      i += 1 \n",
        "  return liste\n",
        "\n",
        "number = int(input(\"Please enter a number: \"))\n",
        "prime_factors(number)"
      ]
    }
  ]
}