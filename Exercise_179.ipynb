{
  "nbformat": 4,
  "nbformat_minor": 0,
  "metadata": {
    "colab": {
      "name": "Exercise_179.ipynb",
      "provenance": [],
      "authorship_tag": "ABX9TyPEiUdqMoAqcXtsknGlRvRP",
      "include_colab_link": true
    },
    "kernelspec": {
      "name": "python3",
      "display_name": "Python 3"
    },
    "language_info": {
      "name": "python"
    }
  },
  "cells": [
    {
      "cell_type": "markdown",
      "metadata": {
        "id": "view-in-github",
        "colab_type": "text"
      },
      "source": [
        "<a href=\"https://colab.research.google.com/github/BORAN08/python_exercise/blob/main/Exercise_179.ipynb\" target=\"_parent\"><img src=\"https://colab.research.google.com/assets/colab-badge.svg\" alt=\"Open In Colab\"/></a>"
      ]
    },
    {
      "cell_type": "markdown",
      "source": [
        "Exercise 179\n",
        "\n",
        "Greed is a dice game played with five six-sided dice. Your mission, should you choose to accept it, is to score a throw according to these rules. You will always be given an array with five six-sided dice values.\n",
        "\n",
        " Three 1's => 1000 points\n",
        "\n",
        " Three 6's =>  600 points\n",
        "\n",
        " Three 5's =>  500 points\n",
        "\n",
        " Three 4's =>  400 points\n",
        "\n",
        " Three 3's =>  300 points\n",
        "\n",
        " Three 2's =>  200 points\n",
        "\n",
        " One   1   =>  100 points\n",
        "\n",
        " One   5   =>   50 point\n",
        "\n",
        "A single die can only be counted once in each roll. For example, a given \"5\" can only count as part of a triplet (contributing to the 500 points) or as a single 50 points, but not both in the same roll.\n",
        "Example scoring\n",
        "\n",
        " Throw       Score\n",
        " ---------   ------------------\n",
        "\n",
        " 5 1 3 4 1   250:  50 (for the 5) + 2 * 100 (for the 1s)\n",
        "\n",
        " 1 1 1 3 1   1100: 1000 (for three 1s) + 100 (for the other 1)\n",
        "\n",
        " 2 4 4 5 4   450:  400 (for three 4s) + 50 (for the 5)\n",
        " \n",
        "In some languages, it is possible to mutate the input to the function. This is something that you should never do. If you mutate the input, you will not be able to pass all the tests."
      ],
      "metadata": {
        "id": "mVJNU2K84Kbl"
      }
    },
    {
      "cell_type": "code",
      "execution_count": 128,
      "metadata": {
        "colab": {
          "base_uri": "https://localhost:8080/"
        },
        "id": "OAFSoaRp4KCX",
        "outputId": "751bc71d-3601-4a50-c6cd-a46a2d37987e"
      },
      "outputs": [
        {
          "output_type": "stream",
          "name": "stdout",
          "text": [
            "250\n",
            "1100\n",
            "450\n",
            "1200\n",
            "600\n",
            "650\n"
          ]
        }
      ],
      "source": [
        "def dice_game(n):\n",
        "  n_dict,score={},0\n",
        "  for i in range(1,7):\n",
        "    if i in n:n_dict.setdefault(i,n.count(i))\n",
        "    else:n_dict.setdefault(i,0)\n",
        "  for i in range(1,7):\n",
        "    if n_dict[i]>=3 and i!=1:\n",
        "      score+=i*100+n_dict[1]%3*100+n_dict[5]%3*50\n",
        "    elif n_dict[1]>=3:\n",
        "      score+=1000+n_dict[1]%3*100+n_dict[5]%3*50\n",
        "      break\n",
        "    elif max(n_dict.values())<3:\n",
        "      score+=n_dict[1]%3*100+n_dict[5]%3*50\n",
        "      break\n",
        "  return score\n",
        "print(dice_game([5,1,3,4,1]))\n",
        "print(dice_game([1,1,1,3,1]))\n",
        "print(dice_game([2,4,4,5,4]))\n",
        "print(dice_game([1,1,1,1,1]))\n",
        "print(dice_game([5,5,5,5,5]))\n",
        "print(dice_game([5,5,5,1,5]))"
      ]
    },
    {
      "cell_type": "code",
      "source": [
        "#Exercise_89 solute\n",
        "n=[1,1,1,1,1]\n",
        "puan=(n.count(1)//3*1000+n.count(1)%3*100+n.count(2)//3*200+n.count(3)//3*300+\n",
        "     n.count(4)//3*400+n.count(5)//3*500+n.count(5)%3*50+n.count(6)//3*600)\n",
        "puan"
      ],
      "metadata": {
        "colab": {
          "base_uri": "https://localhost:8080/"
        },
        "id": "aKRYymy1XI1F",
        "outputId": "9143cc1b-01ae-4a0d-afae-dce9c0fc1549"
      },
      "execution_count": 129,
      "outputs": [
        {
          "output_type": "execute_result",
          "data": {
            "text/plain": [
              "1200"
            ]
          },
          "metadata": {},
          "execution_count": 129
        }
      ]
    }
  ]
}