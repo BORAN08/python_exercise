{
  "nbformat": 4,
  "nbformat_minor": 0,
  "metadata": {
    "colab": {
      "name": "Exercise_085.ipynb",
      "provenance": [],
      "authorship_tag": "ABX9TyO4+ops9BD+eKVl3vysRxwu",
      "include_colab_link": true
    },
    "kernelspec": {
      "name": "python3",
      "display_name": "Python 3"
    },
    "language_info": {
      "name": "python"
    }
  },
  "cells": [
    {
      "cell_type": "markdown",
      "metadata": {
        "id": "view-in-github",
        "colab_type": "text"
      },
      "source": [
        "<a href=\"https://colab.research.google.com/github/BORAN08/python_exercise/blob/main/Exercise_085.ipynb\" target=\"_parent\"><img src=\"https://colab.research.google.com/assets/colab-badge.svg\" alt=\"Open In Colab\"/></a>"
      ]
    },
    {
      "cell_type": "markdown",
      "source": [
        "A string is considered to be in title case if each word in the string is either (a) capitalised (that is, only the first letter of the word is in upper case) or (b) considered to be an exception and put entirely into lower case unless it is the first word, which is always capitalised.\n",
        "\n",
        "\n",
        "Write a function that will convert a string into title case, given an optional list of exceptions (minor words). The list of minor words will be given as a string with each word separated by a space. Your function should ignore the case of the minor words string -- it should behave in the same way even if the case of the minor word string is changed.\n",
        "\n",
        "\n",
        "First argument (required): the original string to be converted. Second argument (optional): space-delimited list of minor words that must always be lowercase except for the first word in the string.\n",
        "\n",
        "\n",
        "Example\n",
        "\n",
        "title_case('a clash of KINGS'), minor_words('a an the of') Output: 'A Clash of Kings'\n",
        "\n",
        "\n",
        "title_case('THE WIND IN THE WILLOWS'), minor_words('The In') Output: 'The Wind in the Willows'\n",
        "\n",
        "\n",
        "title_case('the quick brown fox') Output: 'The Quick Brown Fox'"
      ],
      "metadata": {
        "id": "2ZFxser89yAY"
      }
    },
    {
      "cell_type": "code",
      "execution_count": 1,
      "metadata": {
        "colab": {
          "base_uri": "https://localhost:8080/",
          "height": 35
        },
        "id": "QOxI_3RO9ve0",
        "outputId": "7139c18b-9b8c-4a93-f46f-80a6c420a511"
      },
      "outputs": [
        {
          "output_type": "execute_result",
          "data": {
            "application/vnd.google.colaboratory.intrinsic+json": {
              "type": "string"
            },
            "text/plain": [
              "'A Clash of Kings'"
            ]
          },
          "metadata": {},
          "execution_count": 1
        }
      ],
      "source": [
        "title='a clash of KINGS'\n",
        "minor_words=\"a an the of\"\n",
        "new_title=[]\n",
        "new_title.append(title.split()[0].title())\n",
        "for i in title.upper().split()[1:]:\n",
        "    if i not in minor_words.upper().split():\n",
        "      new_title.append(i.title())\n",
        "    else:\n",
        "      new_title.append(i.lower())\n",
        "\" \".join(new_title)"
      ]
    }
  ]
}