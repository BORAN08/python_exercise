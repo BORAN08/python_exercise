{
  "nbformat": 4,
  "nbformat_minor": 0,
  "metadata": {
    "colab": {
      "name": "Exercise_146.ipynb",
      "provenance": [],
      "authorship_tag": "ABX9TyMbwDjfuR0++/x8+eELM5Tn",
      "include_colab_link": true
    },
    "kernelspec": {
      "name": "python3",
      "display_name": "Python 3"
    },
    "language_info": {
      "name": "python"
    }
  },
  "cells": [
    {
      "cell_type": "markdown",
      "metadata": {
        "id": "view-in-github",
        "colab_type": "text"
      },
      "source": [
        "<a href=\"https://colab.research.google.com/github/BORAN08/python_exercise/blob/main/Exercise_146.ipynb\" target=\"_parent\"><img src=\"https://colab.research.google.com/assets/colab-badge.svg\" alt=\"Open In Colab\"/></a>"
      ]
    },
    {
      "cell_type": "markdown",
      "metadata": {
        "id": "TinyuE-o66m_"
      },
      "source": [
        "Exercise - 146\n",
        "Cup Swapping\n",
        "There are three cups on a table, at positions A, B, and C. At the start, there is a ball hidden under the cup at position B.\n",
        "However, I perform several swaps on the cups, which is notated as two letters. For example, if I swap the cups at positions A and B, I could notate this as AB or BA.\n",
        "Create a function that returns the letter position that the ball is at, once I finish swapping the cups. The swaps will be given to you as a list.\n",
        "Worked Example\n",
        "cup_swapping([\"AB\", \"CA\", \"AB\"]) ➞ \"C\"\n",
        "\n",
        "# Ball begins at position B.\n",
        "# Cups A and B swap, so the ball is at position A.\n",
        "# Cups C and A swap, so the ball is at position C.\n",
        "# Cups A and B swap, but the ball is at position C, so it doesn't move.\n",
        "Examples\n",
        "cup_swapping([\"AB\", \"CA\"]) ➞ \"C\"\n",
        "\n",
        "cup_swapping([\"AC\", \"CA\", \"CA\", \"AC\"]) ➞ \"B\"\n",
        "\n",
        "cup_swapping([\"BA\", \"AC\", \"CA\", \"BC\"]) ➞ \"A\"\n",
        "Notes\n",
        "A swap could be notated in two different ways, since both ways end up with the same outcome.\n",
        "All swaps will be notated as capital letters and will be valid.\n",
        "You cannot swap a cup with itself."
      ]
    },
    {
      "cell_type": "code",
      "metadata": {
        "colab": {
          "base_uri": "https://localhost:8080/",
          "height": 35
        },
        "id": "6ywmpZzj6546",
        "outputId": "95bb692b-8c70-4863-9f6f-debd08ebab32"
      },
      "source": [
        "def cup_swapping(cup):\n",
        "  position=\"B\"\n",
        "  for i in range(len(cup)):\n",
        "    if position in cup[i]:\n",
        "      position=cup[i].replace(position,\"\")\n",
        "  return position\n",
        "cup_swapping([\"BA\", \"AC\", \"CA\", \"BC\"])"
      ],
      "execution_count": 2,
      "outputs": [
        {
          "output_type": "execute_result",
          "data": {
            "application/vnd.google.colaboratory.intrinsic+json": {
              "type": "string"
            },
            "text/plain": [
              "'A'"
            ]
          },
          "metadata": {},
          "execution_count": 2
        }
      ]
    },
    {
      "cell_type": "code",
      "metadata": {
        "colab": {
          "base_uri": "https://localhost:8080/",
          "height": 35
        },
        "id": "81a4mIbv8pdH",
        "outputId": "775e460a-db4b-48e4-bec7-96367a111d9b"
      },
      "source": [
        "cup_swapping([\"AC\", \"CA\", \"CA\", \"AC\"])"
      ],
      "execution_count": 4,
      "outputs": [
        {
          "output_type": "execute_result",
          "data": {
            "application/vnd.google.colaboratory.intrinsic+json": {
              "type": "string"
            },
            "text/plain": [
              "'B'"
            ]
          },
          "metadata": {},
          "execution_count": 4
        }
      ]
    },
    {
      "cell_type": "code",
      "metadata": {
        "id": "YqNG9I2EB6Ab"
      },
      "source": [
        ""
      ],
      "execution_count": null,
      "outputs": []
    }
  ]
}