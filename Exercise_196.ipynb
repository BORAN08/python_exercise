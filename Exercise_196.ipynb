{
  "nbformat": 4,
  "nbformat_minor": 0,
  "metadata": {
    "colab": {
      "name": "Exercise_196.ipynb",
      "provenance": [],
      "authorship_tag": "ABX9TyNML1O80dDgKDNAV4gAQZ4v",
      "include_colab_link": true
    },
    "kernelspec": {
      "name": "python3",
      "display_name": "Python 3"
    },
    "language_info": {
      "name": "python"
    }
  },
  "cells": [
    {
      "cell_type": "markdown",
      "metadata": {
        "id": "view-in-github",
        "colab_type": "text"
      },
      "source": [
        "<a href=\"https://colab.research.google.com/github/mahmutboran/python_exercise/blob/main/Exercise_196.ipynb\" target=\"_parent\"><img src=\"https://colab.research.google.com/assets/colab-badge.svg\" alt=\"Open In Colab\"/></a>"
      ]
    },
    {
      "cell_type": "markdown",
      "source": [
        "BASEBALL GAME\n",
        "\n",
        "You are keeping score for a baseball game with strange rules. The game consist of several rounds, where the\n",
        "\n",
        "scores of past rounds may affect future rounds' scores.\n",
        "\n",
        "At the beginning of the game, you start with an empty record. You are given a list of strings ops, where\n",
        "\n",
        "ops[i] is the ith operation you must apply to the record and is one of the following:\n",
        "\n",
        "An integer x - Record a new score of x,\n",
        "\n",
        "\"+\" - Record a new score that is the sum of the previous scores. It is guaranteed there will always be\n",
        "two previous scores.\n",
        "\n",
        "\"D\" - Record a new score that is double the previous score. It is guaranteed there will always be a\n",
        "previous score.\n",
        "\n",
        "\"C\" - Invalidate the previous score, removing it from the record. It is guaranteed there will always be a\n",
        "previous score.\n",
        "\n",
        "Return the sum of all the scores on the record.\n",
        "\n",
        "Example 1:\n",
        "\n",
        "Input: ops = [\"5\", \"2\", \"C\", \"D\", \"+\"]\n",
        "\n",
        "Output: 30\n",
        "\n",
        "Explanation:\n",
        "\n",
        "\"5\" - Add 5 to the record, record is now [5],\n",
        "\n",
        "\"2\" - Add 2 to the record, record is now [5, 2],\n",
        "\n",
        "\"C\" - Invalidate and remove the previous score, record is now [5],\n",
        "\n",
        "\"D\" - Add 2 * 5 = 10 to the record, record is now [5, 10],\n",
        "\n",
        "\"+\" - Add 5 + 10 = 15 to the record, record is now [5, 10, 15],\n",
        "\n",
        "The total sum is 5 + 10 + 15 = 30.\n",
        "\n",
        "Example 2:\n",
        "\n",
        "Input: ops = [\"5\", \"-2\", \"4\", \"C\", \"D\", \"9\", \"+\", \"+\"]\n",
        "\n",
        "Output: 27\n",
        "\n",
        "Explanation:\n",
        "\n",
        "\"5\" - Add 5 to the record, record is now [5],\n",
        "\n",
        "\"-2\" - Add -2 to the record, record is now [5, -2],\n",
        "\n",
        "\"4\" - Add 4 to the record, record is now [5, -2, 4],\n",
        "\n",
        "\"C\" - Invalidate and remove the previous score, record is now [5, -2],\n",
        "\n",
        "\"D\" - Add 2 * -2 = -4 to the record, record is now [5, -2, -4],\n",
        "\n",
        "\"9\" - Add 9 to the record, record is now [5, -2, -4, 9],\n",
        "\n",
        "\"+\" - Add -4 + 9 = 5 to the record, record is now [5, -2, -4, 9, 5],\n",
        "\n",
        "\"+\" - Add 9 + 5 = 14 to the record, record is now [5, -2, -4, 9, 5, 14],\n",
        "\n",
        "The total sum is 5 + -2 + -4 + 9 + 5 + 14 = 27.\n",
        "\n",
        "Please don't hesitate to ask any questions with a thread under this message!\n",
        "Please share your solutions using direct mesage on slack to @Rafe Stefano\n",
        "Happy coding! 😃\n",
        "\n",
        "\n"
      ],
      "metadata": {
        "id": "dCGwYSnkeanx"
      }
    },
    {
      "cell_type": "code",
      "execution_count": 28,
      "metadata": {
        "colab": {
          "base_uri": "https://localhost:8080/"
        },
        "id": "jzuNTDA_eYhJ",
        "outputId": "e3e0face-3379-4728-a3d2-123486bfee54"
      },
      "outputs": [
        {
          "output_type": "stream",
          "name": "stdout",
          "text": [
            "30\n",
            "27\n"
          ]
        }
      ],
      "source": [
        "def baseballGame(list):\n",
        "    _list = []\n",
        "    for i in list:\n",
        "        if i == \"C\":\n",
        "            _list.pop()\n",
        "        elif i == \"D\":\n",
        "            _list.append(int(_list[-1])*2)\n",
        "        elif i == \"+\":\n",
        "            _list.append(int(_list[-1])+int(_list[-2]))\n",
        "        elif type(int(i)) == int:\n",
        "            _list.append(int(i))\n",
        "    return sum(_list)\n",
        "\n",
        "\n",
        "print(baseballGame([\"5\", \"2\", \"C\", \"D\", \"+\"]))\n",
        "print(baseballGame([\"5\", \"-2\", \"4\", \"C\", \"D\", \"9\", \"+\", \"+\"]))"
      ]
    }
  ]
}