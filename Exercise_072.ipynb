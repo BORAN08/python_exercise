{
  "nbformat": 4,
  "nbformat_minor": 0,
  "metadata": {
    "colab": {
      "name": "Exercise_072.ipynb",
      "provenance": [],
      "authorship_tag": "ABX9TyPdHgjD/Cmn85WsHkwyMGDd",
      "include_colab_link": true
    },
    "kernelspec": {
      "name": "python3",
      "display_name": "Python 3"
    },
    "language_info": {
      "name": "python"
    }
  },
  "cells": [
    {
      "cell_type": "markdown",
      "metadata": {
        "id": "view-in-github",
        "colab_type": "text"
      },
      "source": [
        "<a href=\"https://colab.research.google.com/github/BORAN08/python_exercise/blob/main/Exercise_072.ipynb\" target=\"_parent\"><img src=\"https://colab.research.google.com/assets/colab-badge.svg\" alt=\"Open In Colab\"/></a>"
      ]
    },
    {
      "cell_type": "markdown",
      "source": [
        "Exercise-72\n",
        "\n",
        "Complete the solution so that the function will break up camel casing, using a space between words.\n",
        "\n",
        "Example\n",
        "\n",
        "\"camelCasing\"     =>  \"camel Casing\"\n",
        "\n",
        "\"identifier\"      =>  \"identifier\"\n",
        "\n",
        "\"\"                =>  \"\"\n",
        "\n",
        "\"breakCamelCase\"  => \"break Camel Case\"\n"
      ],
      "metadata": {
        "id": "_-cFqqtjjAgQ"
      }
    },
    {
      "cell_type": "code",
      "execution_count": 1,
      "metadata": {
        "colab": {
          "base_uri": "https://localhost:8080/"
        },
        "id": "zdI8GaR6i-kp",
        "outputId": "47de35b4-cee4-4712-e054-3c6f40880408"
      },
      "outputs": [
        {
          "output_type": "stream",
          "name": "stdout",
          "text": [
            "break Camel Case\n"
          ]
        }
      ],
      "source": [
        "s=\"breakCamelCase\"\n",
        "s_end=\"\"\n",
        "for i in s:\n",
        "  if i.isupper():\n",
        "    s_end+=\" \"+i\n",
        "  else:\n",
        "    s_end+=i\n",
        "print(s_end)"
      ]
    }
  ]
}