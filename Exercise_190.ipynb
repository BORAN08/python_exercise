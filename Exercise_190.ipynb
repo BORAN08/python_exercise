{
  "nbformat": 4,
  "nbformat_minor": 0,
  "metadata": {
    "colab": {
      "name": "Exercise_190.ipynb",
      "provenance": [],
      "authorship_tag": "ABX9TyOV0b3GmOlM2/8c4R1aTcwy",
      "include_colab_link": true
    },
    "kernelspec": {
      "name": "python3",
      "display_name": "Python 3"
    },
    "language_info": {
      "name": "python"
    }
  },
  "cells": [
    {
      "cell_type": "markdown",
      "metadata": {
        "id": "view-in-github",
        "colab_type": "text"
      },
      "source": [
        "<a href=\"https://colab.research.google.com/github/mahmutboran/python_exercise/blob/main/Exercise_190.ipynb\" target=\"_parent\"><img src=\"https://colab.research.google.com/assets/colab-badge.svg\" alt=\"Open In Colab\"/></a>"
      ]
    },
    {
      "cell_type": "markdown",
      "source": [
        "This is an interview question\n",
        "Longest Substring Without Repeating Characters\n",
        "\n",
        "Level: Medium\n",
        "Given a string s, find the length of the longest substring without repeating characters.\n",
        "\n",
        "Example 1:\n",
        "Input: s = \"abcabcbb\"\n",
        "\n",
        "Output: 3\n",
        "\n",
        "Explanation: The answer is \"abc\", with the length of 3.\n",
        "Example 2:\n",
        "\n",
        "Input: s = \"bbbbb\"\n",
        "Output: 1\n",
        "\n",
        "Explanation: The answer is \"b\", with the length of 1.\n",
        "\n",
        "Example 3:\n",
        "\n",
        "Input: s = \"pwwkew\"\n",
        "Output: 3\n",
        "Explanation: The answer is \"wke\", with the length of 3.\n",
        "Notice that the answer must be a substring, \"pwke\" is a subsequence and not a substring.\n"
      ],
      "metadata": {
        "id": "dM6BtbVKperQ"
      }
    },
    {
      "cell_type": "code",
      "execution_count": 27,
      "metadata": {
        "colab": {
          "base_uri": "https://localhost:8080/"
        },
        "id": "4Fhc_bBvpbAW",
        "outputId": "02734279-51e1-4d84-acc4-1f5afd141983"
      },
      "outputs": [
        {
          "output_type": "execute_result",
          "data": {
            "text/plain": [
              "3"
            ]
          },
          "metadata": {},
          "execution_count": 27
        }
      ],
      "source": [
        "def longestSubstring(s):\n",
        "  _s=[(len(s[i:j]),s[i:j]) for i in range(len(s)) for j in range(len(s),0,-1) if len(s[i:j])==len(set(s[i:j]))]\n",
        "  return max(_s)[0]\n",
        "longestSubstring(\"abcabcbb\")"
      ]
    }
  ]
}