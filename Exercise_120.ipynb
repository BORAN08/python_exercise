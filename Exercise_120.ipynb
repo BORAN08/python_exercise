{
  "nbformat": 4,
  "nbformat_minor": 0,
  "metadata": {
    "colab": {
      "name": "Exercise_120.ipynb",
      "provenance": [],
      "authorship_tag": "ABX9TyOSbd3kmGqbiZGAAU7001NP",
      "include_colab_link": true
    },
    "kernelspec": {
      "name": "python3",
      "display_name": "Python 3"
    },
    "language_info": {
      "name": "python"
    }
  },
  "cells": [
    {
      "cell_type": "markdown",
      "metadata": {
        "id": "view-in-github",
        "colab_type": "text"
      },
      "source": [
        "<a href=\"https://colab.research.google.com/github/BORAN08/python_exercise/blob/main/Exercise_120.ipynb\" target=\"_parent\"><img src=\"https://colab.research.google.com/assets/colab-badge.svg\" alt=\"Open In Colab\"/></a>"
      ]
    },
    {
      "cell_type": "markdown",
      "source": [
        "Exercise -120\n",
        "\n",
        "Given a common phrase, return False if any individual word in the phrase contains duplicate letters. Return True otherwise.\n",
        "\n",
        "Examples\n",
        "\n",
        "no_duplicate_letters(\"Fortune favours the bold.\") ➞ True\n",
        "\n",
        "no_duplicate_letters(\"You can lead a horse to water, but you can't make him drink.\") ➞ True\n",
        "\n",
        "no_duplicate_letters(\"Look before you leap.\") ➞ False\n",
        "\n",
        "Duplicate letters in \"Look\" and \"before\".\n",
        "\n",
        "no_duplicate_letters(\"An apple a day keeps the doctor away.\") ➞ False\n",
        "\n",
        "Duplicate letters in \"apple\", \"keeps\", \"doctor\", and \"away\""
      ],
      "metadata": {
        "id": "fW21Zjv5uQrE"
      }
    },
    {
      "cell_type": "code",
      "execution_count": 1,
      "metadata": {
        "colab": {
          "base_uri": "https://localhost:8080/"
        },
        "id": "6gnDvcayuOxy",
        "outputId": "2358a97e-e7e1-4931-f4b1-4f0b473acb29"
      },
      "outputs": [
        {
          "output_type": "stream",
          "name": "stdout",
          "text": [
            "False\n"
          ]
        }
      ],
      "source": [
        "str1 = \"Look before you leap.\".split()\n",
        "false,true=0,0\n",
        "for i in str1:\n",
        "  d={}\n",
        "  for j in i:\n",
        "    d.setdefault(j,i.count(j))\n",
        "  if max(d.values())>1:\n",
        "    false+=1\n",
        "  else:\n",
        "    true+=1\n",
        "print(False if false>0 else True)"
      ]
    },
    {
      "cell_type": "markdown",
      "source": [
        "D1155 MELEK's salute"
      ],
      "metadata": {
        "id": "0N2qblOiuavj"
      }
    },
    {
      "cell_type": "code",
      "source": [
        "text = \"Look before you leap.\".split()\n",
        "\n",
        "all([len(i) == len(set(i)) for i in text])"
      ],
      "metadata": {
        "colab": {
          "base_uri": "https://localhost:8080/"
        },
        "id": "ffl_gGw5uaRK",
        "outputId": "d9af2920-1120-40e4-f435-0c6ca12a4fa5"
      },
      "execution_count": 2,
      "outputs": [
        {
          "output_type": "execute_result",
          "data": {
            "text/plain": [
              "False"
            ]
          },
          "metadata": {},
          "execution_count": 2
        }
      ]
    }
  ]
}