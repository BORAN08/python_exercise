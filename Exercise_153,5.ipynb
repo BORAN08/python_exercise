{
  "nbformat": 4,
  "nbformat_minor": 0,
  "metadata": {
    "colab": {
      "name": "Exercise_153,5.ipynb",
      "provenance": [],
      "authorship_tag": "ABX9TyPLYwJCUxkFz+ViouJbsYHV",
      "include_colab_link": true
    },
    "kernelspec": {
      "name": "python3",
      "display_name": "Python 3"
    },
    "language_info": {
      "name": "python"
    }
  },
  "cells": [
    {
      "cell_type": "markdown",
      "metadata": {
        "id": "view-in-github",
        "colab_type": "text"
      },
      "source": [
        "<a href=\"https://colab.research.google.com/github/BORAN08/python_exercise/blob/main/Exercise_153%2C5.ipynb\" target=\"_parent\"><img src=\"https://colab.research.google.com/assets/colab-badge.svg\" alt=\"Open In Colab\"/></a>"
      ]
    },
    {
      "cell_type": "markdown",
      "source": [
        "Given a string containing just the characters '(', ')', '{', '}', '[' and ']',\n",
        "\n",
        "determine if the input string is valid.\n",
        "\n",
        "An input string is valid if:\n",
        "\n",
        "Open brackets must be closed by the same type of brackets.\n",
        "\n",
        "Open brackets must be closed in the correct order.\n",
        "\n",
        "Note that an empty string is also considered valid.\n",
        "\n",
        "Example 1:\n",
        "\n",
        "Input: \"()\"\n",
        "\n",
        "Output: True\n",
        "\n",
        "Example 2:\n",
        "\n",
        "Input: \"()[]{}\"\n",
        "\n",
        "Output: True\n",
        "\n",
        "Example 3:\n",
        "\n",
        "Input: \"(]\"\n",
        "\n",
        "Output: False\n",
        "\n",
        "Example 4:\n",
        "\n",
        "Input: \"([)]\"\n",
        "\n",
        "Output: False\n",
        "\n",
        "Example 5:\n",
        "\n",
        "Input: \"{[]}\"\n",
        "\n",
        "Output: True"
      ],
      "metadata": {
        "id": "gwjQOYRzq1ze"
      }
    },
    {
      "cell_type": "code",
      "execution_count": 1,
      "metadata": {
        "colab": {
          "base_uri": "https://localhost:8080/"
        },
        "id": "vXMgUs5YquYu",
        "outputId": "a5139f5c-a40d-4602-e909-df898b7b3501"
      },
      "outputs": [
        {
          "output_type": "execute_result",
          "data": {
            "text/plain": [
              "False"
            ]
          },
          "metadata": {},
          "execution_count": 1
        }
      ],
      "source": [
        "def input_string(s):\n",
        "  while len(s)>-1:\n",
        "    if len(s)%2!=0: return False\n",
        "    elif s==\"\":\n",
        "      return True\n",
        "      break\n",
        "    elif \"()\" in s: s=s.replace(\"()\",\"\")\n",
        "    elif \"[]\" in s: s=s.replace(\"[]\",\"\")\n",
        "    elif \"{}\" in s: s=s.replace(\"{}\",\"\")\n",
        "input_string(\"{()[{}]{}([)]\")"
      ]
    }
  ]
}