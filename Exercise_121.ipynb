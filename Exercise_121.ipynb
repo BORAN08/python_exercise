{
  "nbformat": 4,
  "nbformat_minor": 0,
  "metadata": {
    "colab": {
      "name": "Exercise_121.ipynb",
      "provenance": [],
      "authorship_tag": "ABX9TyNaKoo22wvOpfVv2khSLDTT",
      "include_colab_link": true
    },
    "kernelspec": {
      "name": "python3",
      "display_name": "Python 3"
    },
    "language_info": {
      "name": "python"
    }
  },
  "cells": [
    {
      "cell_type": "markdown",
      "metadata": {
        "id": "view-in-github",
        "colab_type": "text"
      },
      "source": [
        "<a href=\"https://colab.research.google.com/github/BORAN08/python_exercise/blob/main/Exercise_121.ipynb\" target=\"_parent\"><img src=\"https://colab.research.google.com/assets/colab-badge.svg\" alt=\"Open In Colab\"/></a>"
      ]
    },
    {
      "cell_type": "markdown",
      "source": [
        "Exercise-121\n",
        "Sudoku Background\n",
        "\n",
        "Sudoku is a game played on a 9x9 grid. The goal of the game is to fill all cells of the grid with digits from 1 to 9, so that each column, each row, and each of the nine 3x3 sub-grids (also known as blocks) contain all of the digits from 1 to 9.\n",
        "\n",
        "(More info at: http://en.wikipedia.org/wiki/Sudoku)\n",
        "\n",
        "Sudoku Solution Validator\n",
        "\n",
        "Write a function validSolution/ValidateSolution/valid_solution() that accepts a 2D array representing a Sudoku board, and returns true if it is a valid solution, or false otherwise. The cells of the sudoku board may also contain 0's, which will represent empty cells. Boards containing one or more zeroes are considered to be invalid solutions.\n",
        "\n",
        "The board is always 9 cells by 9 cells, and every cell only contains integers from 0 to 9.\n",
        "\n",
        "Examples\n",
        "\n",
        "validSolution([\n",
        "\n",
        "  [5, 3, 4, 6, 7, 8, 9, 1, 2],\n",
        "\n",
        "  [6, 7, 2, 1, 9, 5, 3, 4, 8],\n",
        "\n",
        "  [1, 9, 8, 3, 4, 2, 5, 6, 7],\n",
        "\n",
        "  [8, 5, 9, 7, 6, 1, 4, 2, 3],\n",
        "\n",
        "  [4, 2, 6, 8, 5, 3, 7, 9, 1],\n",
        "\n",
        "  [7, 1, 3, 9, 2, 4, 8, 5, 6],\n",
        "\n",
        "  [9, 6, 1, 5, 3, 7, 2, 8, 4],\n",
        "\n",
        "  [2, 8, 7, 4, 1, 9, 6, 3, 5],\n",
        "\n",
        "  [3, 4, 5, 2, 8, 6, 1, 7, 9]\n",
        "\n",
        "]); // => true\n",
        "\n",
        "validSolution([\n",
        "\n",
        "  [5, 3, 4, 6, 7, 8, 9, 1, 2], \n",
        "\n",
        "  [6, 7, 2, 1, 9, 0, 3, 4, 8],\n",
        "\n",
        "  [1, 0, 0, 3, 4, 2, 5, 6, 0],\n",
        "\n",
        "  [8, 5, 9, 7, 6, 1, 0, 2, 0],\n",
        "\n",
        "  [4, 2, 6, 8, 5, 3, 7, 9, 1],\n",
        "\n",
        "  [7, 1, 3, 9, 2, 4, 8, 5, 6],\n",
        "\n",
        "  [9, 0, 1, 5, 3, 7, 2, 1, 4],\n",
        "\n",
        "  [2, 8, 7, 4, 1, 9, 6, 3, 5],\n",
        "\n",
        "  [3, 0, 0, 4, 8, 1, 1, 7, 9]\n",
        "\n",
        "]); // => false\n"
      ],
      "metadata": {
        "id": "NP4ZuH3cvhv0"
      }
    },
    {
      "cell_type": "code",
      "execution_count": 1,
      "metadata": {
        "colab": {
          "base_uri": "https://localhost:8080/"
        },
        "id": "U5QiHa1XveGO",
        "outputId": "dd0f36ef-6aed-4c50-f29c-f0ffd3cfb89e"
      },
      "outputs": [
        {
          "output_type": "stream",
          "name": "stdout",
          "text": [
            "False\n"
          ]
        }
      ],
      "source": [
        "sudoku=[\n",
        "  [5, 3, 4, 6, 7, 8, 9, 1, 2], \n",
        "  [6, 7, 2, 1, 9, 0, 3, 4, 8],\n",
        "  [1, 0, 0, 3, 4, 2, 5, 6, 0],\n",
        "  [8, 5, 9, 7, 6, 1, 0, 2, 0],\n",
        "  [4, 2, 6, 8, 5, 3, 7, 9, 1],\n",
        "  [7, 1, 3, 9, 2, 4, 8, 5, 6],\n",
        "  [9, 0, 1, 5, 3, 7, 2, 1, 4],\n",
        "  [2, 8, 7, 4, 1, 9, 6, 3, 5],\n",
        "  [3, 0, 0, 4, 8, 1, 1, 7, 9]\n",
        "]\n",
        "new_sudoku=[]\n",
        "false,true=0,0\n",
        "for i in range(len(sudoku)):\n",
        "  a=[]\n",
        "  for j in sudoku:\n",
        "    a.append(j[i])\n",
        "  new_sudoku+=[a]\n",
        "for i in range(len(sudoku)):\n",
        "  if sum(sudoku[i])==45 and sum(new_sudoku[i])==45:\n",
        "    true+=1\n",
        "  else:\n",
        "    false+=1\n",
        "print(False if false>0 else True)"
      ]
    },
    {
      "cell_type": "markdown",
      "source": [
        "D1155 Melek's salute"
      ],
      "metadata": {
        "id": "njoXBeJmwCFV"
      }
    },
    {
      "cell_type": "code",
      "source": [
        "valid=[\n",
        "  [5, 3, 4, 6, 7, 8, 9, 1, 2], \n",
        "  [6, 7, 2, 1, 9, 0, 3, 4, 8],\n",
        "  [1, 0, 0, 3, 4, 2, 5, 6, 0],\n",
        "  [8, 5, 9, 7, 6, 1, 0, 2, 0],\n",
        "  [4, 2, 6, 8, 5, 3, 7, 9, 1],\n",
        "  [7, 1, 3, 9, 2, 4, 8, 5, 6],\n",
        "  [9, 0, 1, 5, 3, 7, 2, 1, 4],\n",
        "  [2, 8, 7, 4, 1, 9, 6, 3, 5],\n",
        "  [3, 0, 0, 4, 8, 1, 1, 7, 9]\n",
        "]\n",
        "nums = \"123456789\"\n",
        "sudoku =  []\n",
        "for i in range(len(valid)) :\n",
        "  temp = []\n",
        "  for k in valid :\n",
        "    temp += [k[i]]\n",
        "  sudoku += [temp]\n",
        "\n",
        "print(all([str(j) in nums and len(set(row)) == len(row) for row in valid for j in row]) and all([str(k) in nums and len(set(n_rows)) == len(n_rows) for n_rows in sudoku for k in n_rows]))"
      ],
      "metadata": {
        "colab": {
          "base_uri": "https://localhost:8080/"
        },
        "id": "_LjqMNwGv_2W",
        "outputId": "c247f8cf-fae6-4df6-d803-3c15405694ac"
      },
      "execution_count": 3,
      "outputs": [
        {
          "output_type": "stream",
          "name": "stdout",
          "text": [
            "False\n"
          ]
        }
      ]
    }
  ]
}