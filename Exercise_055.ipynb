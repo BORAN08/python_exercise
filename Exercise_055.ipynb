{
  "nbformat": 4,
  "nbformat_minor": 0,
  "metadata": {
    "colab": {
      "name": "Exercise_055.ipynb",
      "provenance": [],
      "collapsed_sections": [],
      "authorship_tag": "ABX9TyPaaAbt1jBFo01hwPqfH5Ca",
      "include_colab_link": true
    },
    "kernelspec": {
      "name": "python3",
      "display_name": "Python 3"
    },
    "language_info": {
      "name": "python"
    }
  },
  "cells": [
    {
      "cell_type": "markdown",
      "metadata": {
        "id": "view-in-github",
        "colab_type": "text"
      },
      "source": [
        "<a href=\"https://colab.research.google.com/github/BORAN08/python_exercise/blob/main/Exercise_055.ipynb\" target=\"_parent\"><img src=\"https://colab.research.google.com/assets/colab-badge.svg\" alt=\"Open In Colab\"/></a>"
      ]
    },
    {
      "cell_type": "markdown",
      "metadata": {
        "id": "Z-3UZ6bm7IKM"
      },
      "source": [
        "An avid hiker keeps meticulous records of their hikes. During the last hike that took exactly  steps, for every step it was noted if it was an uphill, , or a downhill,  step. Hikes always start and end at sea level, and each step up or down represents a  unit change in altitude. We define the following terms:\n",
        "\n",
        "\n",
        "A mountain is a sequence of consecutive steps above sea level, starting with a step up from sea level and ending with a step down to sea level.\n",
        "A valley is a sequence of consecutive steps below sea level, starting with a step down from sea level and ending with a step up to sea level.\n",
        "Given the sequence of up and down steps during a hike, find and print the number of valleys walked through.\n",
        "\n",
        "\n",
        "Example\n",
        "\n",
        "\n",
        " \n",
        "\n",
        "The hiker first enters a valley  units deep. Then they climb out and up onto a mountain  units high. Finally, the hiker returns to sea level and ends the hike.\n",
        "\n",
        "Function Description\n",
        "\n",
        "\n",
        "Complete the countingValleys function in the editor below.\n",
        "\n",
        "countingValleys has the following parameter(s):\n",
        "\n",
        "int steps: the number of steps on the hike\n",
        "string path: a string describing the path\n",
        "Returns\n",
        "\n",
        "int: the number of valleys traversed\n",
        "Input Format\n",
        "\n",
        "The first line contains an integer , the number of steps in the hike.\n",
        "The second line contains a single string , of  characters that describe the path.\n",
        "\n",
        "Constraints\n",
        "\n",
        "Sample Input\n",
        "\n",
        "\n",
        "8\n",
        "\n",
        "UDDDUDUU\n",
        "\n",
        "Sample Output\n",
        "\n",
        "\n",
        "1\n",
        "\n",
        "Explanation\n",
        "\n",
        "\n",
        "If we represent _ as sea level, a step up as /, and a step down as \\, the hike can be drawn as:\n",
        "\n",
        "_/\\      _\n",
        "   \\    /\n",
        "    \\/\\/\n",
        "\n",
        "The hiker enters and leaves one valley."
      ]
    },
    {
      "cell_type": "code",
      "source": [
        "def countingValleys(steps, path):\n",
        "    seaLevel = valley = 0\n",
        "    for i in path:\n",
        "        if i == 'U':\n",
        "            seaLevel += 1\n",
        "        else :\n",
        "            seaLevel -= 1\n",
        "        if i == 'U' and seaLevel == 0:\n",
        "            valley += 1\n",
        "    return valley\n",
        "countingValleys(8,\"UDDDUDUU\")"
      ],
      "metadata": {
        "colab": {
          "base_uri": "https://localhost:8080/"
        },
        "id": "CRvdWsukTt4b",
        "outputId": "96d0631a-c9dd-43a1-ac22-5b3b2acafd96"
      },
      "execution_count": 11,
      "outputs": [
        {
          "output_type": "execute_result",
          "data": {
            "text/plain": [
              "1"
            ]
          },
          "metadata": {},
          "execution_count": 11
        }
      ]
    },
    {
      "cell_type": "code",
      "metadata": {
        "colab": {
          "base_uri": "https://localhost:8080/"
        },
        "id": "mHSTKyUe7E1a",
        "outputId": "006dc95b-ba43-4f14-ae67-f14535e274f6"
      },
      "source": [
        "zero=0\n",
        "vadi=0\n",
        "yol=\"DDDUUUUDDDDUUUUUDDDDUUUUUUU\"\n",
        "for i in yol:\n",
        "  if i==\"U\":\n",
        "    zero+=1\n",
        "  elif i==\"D\":\n",
        "    zero-=1\n",
        "  if zero==0 and i==\"U\":\n",
        "    vadi+=1\n",
        "print(vadi)"
      ],
      "execution_count": 10,
      "outputs": [
        {
          "output_type": "stream",
          "name": "stdout",
          "text": [
            "3\n"
          ]
        }
      ]
    },
    {
      "cell_type": "code",
      "metadata": {
        "colab": {
          "base_uri": "https://localhost:8080/"
        },
        "id": "8HSHHCQzo1mX",
        "outputId": "247db9fb-9ae0-4453-c7b3-7b1da653d27d"
      },
      "source": [
        "yol=\"UUUUDDDDUUUUUDDDDUUUUUUUUDDDDDDDDDDDDDDDDDDD\"\n",
        "zero=0\n",
        "vadi=0\n",
        "\n",
        "for i in yol:\n",
        "\n",
        "  if i==\"U\":\n",
        "    zero+=1\n",
        "  else:\n",
        "    zero-=1\n",
        "  if zero==0 and i==\"U\":\n",
        "    vadi+=1\n",
        "print(vadi)"
      ],
      "execution_count": null,
      "outputs": [
        {
          "output_type": "stream",
          "name": "stdout",
          "text": [
            "0\n"
          ]
        }
      ]
    }
  ]
}