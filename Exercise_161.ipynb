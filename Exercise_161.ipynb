{
  "nbformat": 4,
  "nbformat_minor": 0,
  "metadata": {
    "colab": {
      "name": "Exercise_161.ipynb",
      "provenance": [],
      "authorship_tag": "ABX9TyNt0/z8meF/7Xikg9OIMYk2",
      "include_colab_link": true
    },
    "kernelspec": {
      "name": "python3",
      "display_name": "Python 3"
    },
    "language_info": {
      "name": "python"
    }
  },
  "cells": [
    {
      "cell_type": "markdown",
      "metadata": {
        "id": "view-in-github",
        "colab_type": "text"
      },
      "source": [
        "<a href=\"https://colab.research.google.com/github/BORAN08/python_exercise/blob/main/Exercise_161.ipynb\" target=\"_parent\"><img src=\"https://colab.research.google.com/assets/colab-badge.svg\" alt=\"Open In Colab\"/></a>"
      ]
    },
    {
      "cell_type": "markdown",
      "source": [
        "Exercise 161-)You have received an encrypted message from space. Your task is to decrypt the message with the following simple rules:\n",
        "Message string will consist of capital letters, numbers, and brackets only.\n",
        "When there's a block of code inside the brackets, such as [10AB], it means you need to repeat the letters AB for 10 times.\n",
        "Message can be embedded in multiple layers of blocks.\n",
        "Final decrypted message will only consist of capital letters.\n",
        "Create a function that takes encrypted message txt and returns the decrypted message.\n",
        "Examples\n",
        "space_message(\"ABCD\") ➞ \"ABCD\"\n",
        "\n",
        "space_message(\"AB[3CD]\") ➞ \"ABCDCDCD\"\n",
        "# \"AB\" = \"AB\"\n",
        "# \"[3CD]\" = \"CDCDCD\"\n",
        "\n",
        "space_message(\"IF[2E]LG[5O]D\") ➞ \"IFEELGOOOOOD\""
      ],
      "metadata": {
        "id": "IPnWiwAlh6mQ"
      }
    },
    {
      "cell_type": "code",
      "execution_count": 1,
      "metadata": {
        "colab": {
          "base_uri": "https://localhost:8080/",
          "height": 35
        },
        "id": "MAv6RCAXh2cv",
        "outputId": "95679909-57df-4767-9d35-cbf68ea5d0a7"
      },
      "outputs": [
        {
          "output_type": "execute_result",
          "data": {
            "application/vnd.google.colaboratory.intrinsic+json": {
              "type": "string"
            },
            "text/plain": [
              "'IFCDCDCDLGOOOOOD'"
            ]
          },
          "metadata": {},
          "execution_count": 1
        }
      ],
      "source": [
        "def space_message2(t):\n",
        "  for i in t:\n",
        "    if not i.isalnum():\n",
        "      t=t.replace(i,\" \")\n",
        "  for i in t.split(\" \"):\n",
        "    for j in i:\n",
        "      if j.isdigit():\n",
        "        a=(int(j)-1)*i[i.index(j)+1:]\n",
        "        t=t.replace(i,i.replace(j,a))\n",
        "  return t.replace(\" \",\"\")\n",
        "space_message2(\"IF[3CD]LG[5O]D\")"
      ]
    }
  ]
}