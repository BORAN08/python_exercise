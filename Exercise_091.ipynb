{
  "nbformat": 4,
  "nbformat_minor": 0,
  "metadata": {
    "colab": {
      "name": "Exercise_91.ipynb",
      "provenance": [],
      "authorship_tag": "ABX9TyN7ZcrP50vgYfPnulrnRm9T",
      "include_colab_link": true
    },
    "kernelspec": {
      "name": "python3",
      "display_name": "Python 3"
    },
    "language_info": {
      "name": "python"
    }
  },
  "cells": [
    {
      "cell_type": "markdown",
      "metadata": {
        "id": "view-in-github",
        "colab_type": "text"
      },
      "source": [
        "<a href=\"https://colab.research.google.com/github/BORAN08/python_exercise/blob/main/Exercise_91.ipynb\" target=\"_parent\"><img src=\"https://colab.research.google.com/assets/colab-badge.svg\" alt=\"Open In Colab\"/></a>"
      ]
    },
    {
      "cell_type": "markdown",
      "source": [
        "Exercise -90 Abigail and Benson are playing Rock, Paper, Scissors. Each game is represented by an array of length 2, where the first element represents what Abigail played and the second element represents what Benson played. Given a sequence of games, determine who wins the most number of matches. If they tie, output \"Tie\". R stands for Rock P stands for Paper S stands for Scissors \n",
        "Examples \n",
        "\n",
        "[[\"R\", \"P\"], [\"R\", \"S\"], [\"S\", \"P\"]] ➞ \"Abigail\"\n",
        "\n",
        "\n",
        "[[\"R\", \"R\"], [\"S\", \"S\"]] ➞ \"Tie\"\n",
        "\n",
        "\n",
        "[[\"S\", \"R\"], [\"R\", \"S\"], [\"R\", \"R\"]] ➞ \"Tie\"\n"
      ],
      "metadata": {
        "id": "mIuYTl6SbY_i"
      }
    },
    {
      "cell_type": "code",
      "execution_count": 1,
      "metadata": {
        "colab": {
          "base_uri": "https://localhost:8080/"
        },
        "id": "VWFkL3wWbN1e",
        "outputId": "b5fbfa0d-083e-43c3-dff5-02ab60f5f061"
      },
      "outputs": [
        {
          "output_type": "stream",
          "name": "stdout",
          "text": [
            "Abigail\n"
          ]
        }
      ],
      "source": [
        "mylist= [[\"R\", \"P\"], [\"R\", \"S\"], [\"S\", \"P\"]]\n",
        "a=0\n",
        "b=0\n",
        "for i in mylist:\n",
        "  if i[0]==\"R\" and i[1]==\"P\":\n",
        "    b+=1\n",
        "  elif i[0]==\"R\" and i[1]==\"S\":\n",
        "    a+=1\n",
        "  elif i[0]==\"P\" and i[1]==\"S\":\n",
        "    b+=1\n",
        "  elif i[0]==\"P\" and i[1]==\"R\":\n",
        "    a+=1\n",
        "  elif i[0]==\"S\" and i[1]==\"R\":\n",
        "    b+=1\n",
        "  elif i[0]==\"S\" and i[1]==\"P\":\n",
        "    a+=1\n",
        "if a==b:\n",
        "  print(\"Tie\")\n",
        "elif a>b:\n",
        "  print(\"Abigail\")\n",
        "else:\n",
        "  print(\"Benson\")"
      ]
    }
  ]
}
