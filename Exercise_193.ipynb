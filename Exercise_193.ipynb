{
  "nbformat": 4,
  "nbformat_minor": 0,
  "metadata": {
    "colab": {
      "name": "Exercise_193.ipynb",
      "provenance": [],
      "authorship_tag": "ABX9TyMwk0CYjOpAIli1TbxbSLSx",
      "include_colab_link": true
    },
    "kernelspec": {
      "name": "python3",
      "display_name": "Python 3"
    },
    "language_info": {
      "name": "python"
    }
  },
  "cells": [
    {
      "cell_type": "markdown",
      "metadata": {
        "id": "view-in-github",
        "colab_type": "text"
      },
      "source": [
        "<a href=\"https://colab.research.google.com/github/mahmutboran/python_exercise/blob/main/Exercise_193.ipynb\" target=\"_parent\"><img src=\"https://colab.research.google.com/assets/colab-badge.svg\" alt=\"Open In Colab\"/></a>"
      ]
    },
    {
      "cell_type": "markdown",
      "source": [
        "This is an interview question asked by Airbnb.\n",
        "\n",
        "Given a list of integers, write a function that returns the largest sum of non-adjacent numbers. Numbers can be 0 or negative.\n",
        "\n",
        "For example,\n",
        "\n",
        "[2, 4, 6, 2, 5] should return 13, since we pick 2, 6, and 5.\n",
        "\n",
        "[5, 1, 1, 5] should return 10, since we pick 5 and 5."
      ],
      "metadata": {
        "id": "e8-lLT3IaQGx"
      }
    },
    {
      "cell_type": "code",
      "source": [
        "def largestNonAdjacent(arr):\n",
        "  n = len(arr)\n",
        "  if (n == 1): return arr[-1]\n",
        "  if (n == 2): return max(arr[-1],arr[-2])\n",
        "  else: maxNum = max(largestNonAdjacent(arr[:-1]), (arr[-1] + largestNonAdjacent(arr[:-2])))\n",
        "        \n",
        "  return maxNum\n",
        "largestNonAdjacent([2, 4, 6, 2, 5])"
      ],
      "metadata": {
        "colab": {
          "base_uri": "https://localhost:8080/"
        },
        "id": "-cB_Z-STjbPy",
        "outputId": "d54e08be-2f6b-4198-f4a5-6b7e467853ee"
      },
      "execution_count": 11,
      "outputs": [
        {
          "output_type": "execute_result",
          "data": {
            "text/plain": [
              "13"
            ]
          },
          "metadata": {},
          "execution_count": 11
        }
      ]
    },
    {
      "cell_type": "code",
      "execution_count": 20,
      "metadata": {
        "colab": {
          "base_uri": "https://localhost:8080/"
        },
        "id": "Bdf6jwwVaPaR",
        "outputId": "98cabf43-79f5-4fc6-9804-5021e7fd58c7"
      },
      "outputs": [
        {
          "output_type": "stream",
          "name": "stdout",
          "text": [
            "8\n",
            "6\n",
            "11\n",
            "11\n",
            "15\n",
            "17\n"
          ]
        },
        {
          "output_type": "execute_result",
          "data": {
            "text/plain": [
              "17"
            ]
          },
          "metadata": {},
          "execution_count": 20
        }
      ],
      "source": [
        "def largestSum(arr,n=0):\n",
        "\n",
        "  if (len(arr)==1) :return arr[-1]\n",
        "  if (len(arr)==2) :return max(arr)\n",
        "\n",
        "\n",
        "  maxSum = max(arr[n]+arr[n+2],arr[n+1])\n",
        "  print(maxSum)\n",
        "\n",
        "  maxSum=arr[n]+largestSum(arr[n+1:])\n",
        "  print(maxSum)\n",
        "  return maxSum\n",
        "\n",
        "largestSum([2, 4, 6, 2, 5])\n"
      ]
    }
  ]
}