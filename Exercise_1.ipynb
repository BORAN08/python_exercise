{
  "nbformat": 4,
  "nbformat_minor": 0,
  "metadata": {
    "colab": {
      "name": "Exercise_1.ipynb",
      "provenance": []
    },
    "kernelspec": {
      "name": "python3",
      "display_name": "Python 3"
    },
    "language_info": {
      "name": "python"
    }
  },
  "cells": [
    {
      "cell_type": "markdown",
      "metadata": {
        "id": "L8gfVbszzpmX"
      },
      "source": [
        "Python Exercise\n",
        "Write a Python program to compute the greatest common divisor (GCD) of two positive integers"
      ]
    },
    {
      "cell_type": "code",
      "metadata": {
        "colab": {
          "base_uri": "https://localhost:8080/"
        },
        "id": "B63CbhiUyXxz",
        "outputId": "944a9844-30dc-4b60-8ba2-47583308eb5a"
      },
      "source": [
        "a=128\n",
        "b=248\n",
        "if a%b==0:\n",
        "  ebob=b\n",
        "elif b%a==0:\n",
        "  ebob=a\n",
        "else:\n",
        "  c=min(a,b)\n",
        "  for i in range(1,int(c/2)):\n",
        "    if a%i==0 and b%i==0:\n",
        "      print(\"Ortak Bölenler:\",i)\n",
        "      ebob=i\n",
        "print(\"EBOB:\",ebob) "
      ],
      "execution_count": 1,
      "outputs": [
        {
          "output_type": "stream",
          "name": "stdout",
          "text": [
            "Ortak Bölenler: 1\n",
            "Ortak Bölenler: 2\n",
            "Ortak Bölenler: 4\n",
            "Ortak Bölenler: 8\n",
            "EBOB: 8\n"
          ]
        }
      ]
    }
  ]
}