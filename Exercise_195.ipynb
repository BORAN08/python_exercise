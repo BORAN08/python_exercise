{
  "nbformat": 4,
  "nbformat_minor": 0,
  "metadata": {
    "colab": {
      "name": "Exercise_195.ipynb",
      "provenance": [],
      "authorship_tag": "ABX9TyMa50UJDRqDv88looXWttEr",
      "include_colab_link": true
    },
    "kernelspec": {
      "name": "python3",
      "display_name": "Python 3"
    },
    "language_info": {
      "name": "python"
    }
  },
  "cells": [
    {
      "cell_type": "markdown",
      "metadata": {
        "id": "view-in-github",
        "colab_type": "text"
      },
      "source": [
        "<a href=\"https://colab.research.google.com/github/mahmutboran/python_exercise/blob/main/Exercise_195.ipynb\" target=\"_parent\"><img src=\"https://colab.research.google.com/assets/colab-badge.svg\" alt=\"Open In Colab\"/></a>"
      ]
    },
    {
      "cell_type": "markdown",
      "source": [
        "This is an interview question asked by Yelp.\n",
        "\n",
        "Given a mapping of digits to letters (as in a phone number), and a digit string, return all possible letters the number could represent.\n",
        "\n",
        "You can assume each valid number in the mapping is a single digit.\n",
        "\n",
        "For example if {\"2\": [\"a\", \"b\", \"c\"], 3: [\"d\", \"e\", \"f\"], …} then \"23\" \n",
        "\n",
        "should return [\"ad\", \"ae\", \"af\", \"bd\", \"be\", \"bf\", \"cd\", \"ce\", \"cf\"]"
      ],
      "metadata": {
        "id": "Rt99QbJV55i2"
      }
    },
    {
      "cell_type": "code",
      "execution_count": 15,
      "metadata": {
        "colab": {
          "base_uri": "https://localhost:8080/"
        },
        "id": "NSVMZZhj5392",
        "outputId": "4f2b27fb-2214-41a3-85a8-47f86eeb84e2"
      },
      "outputs": [
        {
          "output_type": "execute_result",
          "data": {
            "text/plain": [
              "['tw', 'tx', 'ty', 'tz', 'uw', 'ux', 'uy', 'uz', 'vw', 'vx', 'vy', 'vz']"
            ]
          },
          "metadata": {},
          "execution_count": 15
        }
      ],
      "source": [
        "def possibleLetters(n):\n",
        "    phoneNum= {\n",
        "            \"2\" : [\"a\",\"b\",\"c\"],\n",
        "            \"3\" : [\"d\",\"e\",\"f\"],\n",
        "            \"4\" : [\"g\",\"h\",\"i\"],\n",
        "            \"5\" : [\"j\",\"k\",\"l\"],\n",
        "            \"6\" : [\"m\",\"n\",\"o\"],\n",
        "            \"7\" : [\"p\",\"q\",\"r\",\"s\"],\n",
        "            \"8\" : [\"t\",\"u\",\"v\"],\n",
        "            \"9\" : [\"w\",\"x\",\"y\",\"z\"]\n",
        "        }\n",
        "    _n=[phoneNum[i] for i in str(n)]\n",
        "    for i in range(len(_n)-1):\n",
        "      return [ j+k for j in _n[i] for k in _n[i+1]]\n",
        "\n",
        "possibleLetters(89)      "
      ]
    }
  ]
}