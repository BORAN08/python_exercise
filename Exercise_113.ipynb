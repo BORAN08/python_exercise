{
  "nbformat": 4,
  "nbformat_minor": 0,
  "metadata": {
    "colab": {
      "name": "Exercise_113.ipynb",
      "provenance": [],
      "authorship_tag": "ABX9TyNaDDA5G4Zk1VoLnoWyeeje",
      "include_colab_link": true
    },
    "kernelspec": {
      "name": "python3",
      "display_name": "Python 3"
    },
    "language_info": {
      "name": "python"
    }
  },
  "cells": [
    {
      "cell_type": "markdown",
      "metadata": {
        "id": "view-in-github",
        "colab_type": "text"
      },
      "source": [
        "<a href=\"https://colab.research.google.com/github/BORAN08/python_exercise/blob/main/Exercise_113.ipynb\" target=\"_parent\"><img src=\"https://colab.research.google.com/assets/colab-badge.svg\" alt=\"Open In Colab\"/></a>"
      ]
    },
    {
      "cell_type": "markdown",
      "source": [
        "Exercise -113 Write a Python function to convert a given string to all uppercase if it contains at least 2 uppercase characters in the first 4 characters."
      ],
      "metadata": {
        "id": "iEuMpTAsymlu"
      }
    },
    {
      "cell_type": "code",
      "execution_count": 4,
      "metadata": {
        "colab": {
          "base_uri": "https://localhost:8080/"
        },
        "id": "83lEUZQxymK0",
        "outputId": "3bfd4b0d-8ea2-4a6e-9ccd-b15699c101b4"
      },
      "outputs": [
        {
          "output_type": "stream",
          "name": "stdout",
          "text": [
            "cCClAl\n",
            "CCCLAL\n"
          ]
        }
      ],
      "source": [
        "str_ = input(\"\")\n",
        "if len([i for i in str_[:4]  if i.isupper()])>1:\n",
        "  print(str_.upper())"
      ]
    }
  ]
}