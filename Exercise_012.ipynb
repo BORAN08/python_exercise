{
  "nbformat": 4,
  "nbformat_minor": 0,
  "metadata": {
    "colab": {
      "name": "Exercise-12.ipynb",
      "provenance": []
    },
    "kernelspec": {
      "name": "python3",
      "display_name": "Python 3"
    },
    "language_info": {
      "name": "python"
    }
  },
  "cells": [
    {
      "cell_type": "markdown",
      "source": [
        "Exercise 12 :\n",
        "Write a Python program to print the following string in a specific format (see the output).\n",
        "Sample String : \"Twinkle, twinkle, little star, How I wonder what you are! Up above the world so high, Like a diamond in the sky. Twinkle, twinkle, little star, How I wonder what you are\"  Output :\n",
        "Twinkle, twinkle, little star,\n",
        "\tHow I wonder what you are! \n",
        "\t\tUp above the world so high,   \t\t\n",
        "\t\tLike a diamond in the sky. \n",
        "Twinkle, twinkle, little star, \n",
        "\tHow I wonder what you are"
      ],
      "metadata": {
        "id": "M4SWKJcJjZxs"
      }
    },
    {
      "cell_type": "code",
      "execution_count": 1,
      "metadata": {
        "colab": {
          "base_uri": "https://localhost:8080/"
        },
        "id": "LYzuXvOkjYDW",
        "outputId": "46aa0d83-3102-438b-a195-0879b899b245"
      },
      "outputs": [
        {
          "output_type": "stream",
          "name": "stdout",
          "text": [
            "Twinkle, twinkle, little star,\n",
            "\tHow I wonder what you are!\n",
            "\t\tUp above the world so high\n",
            "\t\tLike a diamond in the sky.\n",
            "Twinkle, twinkle, little star,\n",
            "\tHow I wonder what you are!\n"
          ]
        }
      ],
      "source": [
        "text1=\"Twinkle, twinkle, little star,\\n\\tHow I wonder what you are!\" \n",
        "text2=\"\\t\\tUp above the world so high\\n\\t\\tLike a diamond in the sky.\" \n",
        "print(text1,text2,text1,sep=\"\\n\")"
      ]
    }
  ]
}
