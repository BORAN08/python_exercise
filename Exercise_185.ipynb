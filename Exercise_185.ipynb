{
  "nbformat": 4,
  "nbformat_minor": 0,
  "metadata": {
    "colab": {
      "name": "Exercise_185.ipynb",
      "provenance": [],
      "authorship_tag": "ABX9TyPctFP3rkHfFosdtGyGjo7Q",
      "include_colab_link": true
    },
    "kernelspec": {
      "name": "python3",
      "display_name": "Python 3"
    },
    "language_info": {
      "name": "python"
    }
  },
  "cells": [
    {
      "cell_type": "markdown",
      "metadata": {
        "id": "view-in-github",
        "colab_type": "text"
      },
      "source": [
        "<a href=\"https://colab.research.google.com/github/mahmutboran/python_exercise/blob/main/Exercise_185.ipynb\" target=\"_parent\"><img src=\"https://colab.research.google.com/assets/colab-badge.svg\" alt=\"Open In Colab\"/></a>"
      ]
    },
    {
      "cell_type": "markdown",
      "source": [
        "This is an interview question asked by Google.\n",
        "Given a list of numbers and a number k, return whether any two numbers from the list add up to k.\n",
        "For example, given [10, 15, 3, 7] and k of 17, return true since 10 + 7 is 17."
      ],
      "metadata": {
        "id": "J1Ngty3EUkg8"
      }
    },
    {
      "cell_type": "code",
      "execution_count": 65,
      "metadata": {
        "colab": {
          "base_uri": "https://localhost:8080/",
          "height": 35
        },
        "id": "atIMlgAEUjwY",
        "outputId": "1ba4be5d-4f5a-4b10-b93a-b58c3cb9da27"
      },
      "outputs": [
        {
          "output_type": "execute_result",
          "data": {
            "application/vnd.google.colaboratory.intrinsic+json": {
              "type": "string"
            },
            "text/plain": [
              "'10+7 = 17 =>> True '"
            ]
          },
          "metadata": {},
          "execution_count": 65
        }
      ],
      "source": [
        "def anyTwoNumbers(mylist,k):\n",
        "  return \" \".join( f\"{i}+{j} = {k} =>> {True} \" for i in mylist for j in mylist[mylist.index(i)+1:] if i+j ==k)\n",
        "anyTwoNumbers([10,15,3,7],17)"
      ]
    }
  ]
}