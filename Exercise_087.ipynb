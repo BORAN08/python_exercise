{
  "nbformat": 4,
  "nbformat_minor": 0,
  "metadata": {
    "colab": {
      "name": "Exercise_087.ipynb",
      "provenance": [],
      "authorship_tag": "ABX9TyPHu0hIDZbn+2f6BveKXiu+",
      "include_colab_link": true
    },
    "kernelspec": {
      "name": "python3",
      "display_name": "Python 3"
    },
    "language_info": {
      "name": "python"
    }
  },
  "cells": [
    {
      "cell_type": "markdown",
      "metadata": {
        "id": "view-in-github",
        "colab_type": "text"
      },
      "source": [
        "<a href=\"https://colab.research.google.com/github/BORAN08/python_exercise/blob/main/Exercise_087.ipynb\" target=\"_parent\"><img src=\"https://colab.research.google.com/assets/colab-badge.svg\" alt=\"Open In Colab\"/></a>"
      ]
    },
    {
      "cell_type": "markdown",
      "source": [
        "Move the first letter of each word to the end of it, then add \"ay\" to the end of the word. Leave punctuation marks untouched.\n",
        "\n",
        "\n",
        "Examples\n",
        "\n",
        "pig_it('Pig latin is cool') # igPay atinlay siay oolcay\n",
        "\n",
        "pig_it('Hello world !')     # elloHay orldway !"
      ],
      "metadata": {
        "id": "YDsgO-ChCqd0"
      }
    },
    {
      "cell_type": "code",
      "execution_count": 1,
      "metadata": {
        "colab": {
          "base_uri": "https://localhost:8080/",
          "height": 35
        },
        "id": "n_hDhBn3CoYU",
        "outputId": "4152bbf9-7243-4f0c-b846-2719a21e0990"
      },
      "outputs": [
        {
          "output_type": "execute_result",
          "data": {
            "application/vnd.google.colaboratory.intrinsic+json": {
              "type": "string"
            },
            "text/plain": [
              "'Oay emporatay oay oresmay !'"
            ]
          },
          "metadata": {},
          "execution_count": 1
        }
      ],
      "source": [
        "def pig_it(text):\n",
        "    x=[]\n",
        "    for i in text.split():\n",
        "        if i.isalpha():\n",
        "            i=i[1:]+i[0]+\"ay\"\n",
        "            x.append(i)\n",
        "        else:\n",
        "            x.append(i)\n",
        "    return \" \".join(x)\n",
        "pig_it(\"O tempora o mores !\")"
      ]
    }
  ]
}