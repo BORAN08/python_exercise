{
  "nbformat": 4,
  "nbformat_minor": 0,
  "metadata": {
    "colab": {
      "name": "Exercise_183.ipynb",
      "provenance": [],
      "authorship_tag": "ABX9TyPaCrR7x2yQy6Xi39B22EGo",
      "include_colab_link": true
    },
    "kernelspec": {
      "name": "python3",
      "display_name": "Python 3"
    },
    "language_info": {
      "name": "python"
    }
  },
  "cells": [
    {
      "cell_type": "markdown",
      "metadata": {
        "id": "view-in-github",
        "colab_type": "text"
      },
      "source": [
        "<a href=\"https://colab.research.google.com/github/mahmutboran/python_exercise/blob/main/Exercise_183.ipynb\" target=\"_parent\"><img src=\"https://colab.research.google.com/assets/colab-badge.svg\" alt=\"Open In Colab\"/></a>"
      ]
    },
    {
      "cell_type": "markdown",
      "source": [
        "Write a Python/JS code to find greatest common divisor (gcd) of 2 numbers.\n",
        "  \n",
        "Example:  \n",
        "\n",
        "gcd of 6, 9 ---> 3  \n",
        "\n",
        "gcd of 120, 90 --> 30"
      ],
      "metadata": {
        "id": "XIIC10bUC49c"
      }
    },
    {
      "cell_type": "code",
      "execution_count": 24,
      "metadata": {
        "colab": {
          "base_uri": "https://localhost:8080/"
        },
        "id": "iaPZ1SQuCur9",
        "outputId": "49a8051e-2074-4614-f80b-259e33f6e143"
      },
      "outputs": [
        {
          "output_type": "execute_result",
          "data": {
            "text/plain": [
              "30"
            ]
          },
          "metadata": {},
          "execution_count": 24
        }
      ],
      "source": [
        "def gcd(num1,num2):\n",
        "  commonDivisor=[]\n",
        "  if(num1%num2==0):return num2\n",
        "  elif(num2%num1==0):return num1\n",
        "  else:\n",
        "    for i in range(1,int(max(num1,num2)/2)+1):\n",
        "      if (num1%i==0 and num2%i==0):commonDivisor.append(i)\n",
        "  return max(commonDivisor)\n",
        "gcd(120,90)"
      ]
    }
  ]
}