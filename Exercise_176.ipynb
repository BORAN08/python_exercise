{
  "nbformat": 4,
  "nbformat_minor": 0,
  "metadata": {
    "colab": {
      "name": "Exercise_176.ipynb",
      "provenance": [],
      "authorship_tag": "ABX9TyNd4kjAGrZSgFooda3LoMo6",
      "include_colab_link": true
    },
    "kernelspec": {
      "name": "python3",
      "display_name": "Python 3"
    },
    "language_info": {
      "name": "python"
    }
  },
  "cells": [
    {
      "cell_type": "markdown",
      "metadata": {
        "id": "view-in-github",
        "colab_type": "text"
      },
      "source": [
        "<a href=\"https://colab.research.google.com/github/BORAN08/python_exercise/blob/main/Exercise_176.ipynb\" target=\"_parent\"><img src=\"https://colab.research.google.com/assets/colab-badge.svg\" alt=\"Open In Colab\"/></a>"
      ]
    },
    {
      "cell_type": "markdown",
      "source": [
        "Exercise_176\n",
        "\n",
        "Complete the solution so that it strips all text that follows any of a set of comment markers passed in. Any whitespace at the end of the line should also be stripped out.\n",
        "\n",
        "Example:\n",
        "\n",
        "Given an input string of:\n",
        "\n",
        "  apples, pears # and bananas\n",
        "\n",
        "  grapes\n",
        "\n",
        "  bananas !apples\n",
        "\n",
        "The output expected would be:\n",
        "\n",
        "  apples, pears\n",
        "\n",
        "  grapes\n",
        "\n",
        "  bananas\n",
        "\n",
        "The code would be called like so:\n",
        "\n",
        "result = solution(\"apples, pears # and bananas\\ngrapes\\nbananas !apples\", [\"#\", \"!\"])\n",
        "\n",
        "# result should == \"apples, pears\\ngrapes\\nbananas\"\n",
        "\n",
        "solution(\"apples, pears # and bananas\\ngrapes\\nbananas !apples\", [\"#\", \"!\"] ) >>>>>  \"apples, pears\\ngrapes\\nbananas\"\n",
        "\n",
        "solution(\"a #b\\nc\\nd $e f g\", [\"#\", \"$\"] )>>>>>> \"a\\nc\\nd\""
      ],
      "metadata": {
        "id": "HUGrKPCW4S9e"
      }
    },
    {
      "cell_type": "code",
      "execution_count": 1,
      "metadata": {
        "colab": {
          "base_uri": "https://localhost:8080/",
          "height": 35
        },
        "id": "mV26oOYf4LTH",
        "outputId": "19156fde-c04e-4f59-cb5a-df2676d46512"
      },
      "outputs": [
        {
          "output_type": "execute_result",
          "data": {
            "application/vnd.google.colaboratory.intrinsic+json": {
              "type": "string"
            },
            "text/plain": [
              "'apples, pears\\ngrapes\\nbananas'"
            ]
          },
          "metadata": {},
          "execution_count": 1
        }
      ],
      "source": [
        "def solution(string,markers):\n",
        "  for i in string:\n",
        "    if i in markers:\n",
        "      new_string=string[string.index(i)-1:string.index(i)+string[string.index(i):].find(\"\\n\")]\n",
        "      string=string.replace(new_string,\"\")\n",
        "  for i in string[::-1]:\n",
        "    if i in markers:\n",
        "      string=string.replace(string[string.index(i)-1:],\"\")\n",
        "      break\n",
        "  return string\n",
        "solution(\"apples, pears # and bananas\\ngrapes\\nbananas !apples\", [\"#\", \"!\"])"
      ]
    }
  ]
}