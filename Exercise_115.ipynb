{
  "nbformat": 4,
  "nbformat_minor": 0,
  "metadata": {
    "colab": {
      "name": "Exercise_115.ipynb",
      "provenance": [],
      "collapsed_sections": [],
      "authorship_tag": "ABX9TyNgaNNxKQvhQd1lpYWXSAu5",
      "include_colab_link": true
    },
    "kernelspec": {
      "name": "python3",
      "display_name": "Python 3"
    },
    "language_info": {
      "name": "python"
    }
  },
  "cells": [
    {
      "cell_type": "markdown",
      "metadata": {
        "id": "view-in-github",
        "colab_type": "text"
      },
      "source": [
        "<a href=\"https://colab.research.google.com/github/BORAN08/python_exercise/blob/main/Exercise_115.ipynb\" target=\"_parent\"><img src=\"https://colab.research.google.com/assets/colab-badge.svg\" alt=\"Open In Colab\"/></a>"
      ]
    },
    {
      "cell_type": "markdown",
      "metadata": {
        "id": "zBTzAsqk9k-m"
      },
      "source": [
        "Exercise -115 :\n",
        "\n",
        "Write a program that takes a country's name and its area as arguments and returns the area of the country's proportion of the total world's landmass.\n",
        "\n",
        "Examples\n",
        "\"Russia\", 17098242 ➞ \"Russia is 11.48% of the total world's landmass\"\n",
        "\n",
        "\"USA\", 9372610 ➞ \"USA is 6.29% of the total world's landmass\"\n",
        "\n",
        "\"Iran\", 1648195 ➞ \"Iran is 1.11% of the total world's landmass\"\n",
        "\n",
        "Notes\n",
        "The total world's landmass is 148,940,000 [Km^2]\n",
        "Round the result to two decimal places."
      ]
    },
    {
      "cell_type": "code",
      "source": [
        "name, area = input(\"Please enter country's name: \"), int(input(\"Please enter the area: \"))\n",
        "print(f\"{name} is {round(100 * area/148940000, 2)}% of the total world's landmass\")"
      ],
      "metadata": {
        "colab": {
          "base_uri": "https://localhost:8080/"
        },
        "id": "pmi5SvWpO2z2",
        "outputId": "dd74f460-e8ab-43cf-b629-856f8d245caf"
      },
      "execution_count": 5,
      "outputs": [
        {
          "output_type": "stream",
          "name": "stdout",
          "text": [
            "Please enter country's name: USA\n",
            "Please enter the area: 3500000\n",
            "USA is 2.35% of the total world's landmass\n"
          ]
        }
      ]
    }
  ]
}