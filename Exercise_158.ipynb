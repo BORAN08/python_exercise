{
  "nbformat": 4,
  "nbformat_minor": 0,
  "metadata": {
    "colab": {
      "name": "Exercise_158.ipynb",
      "provenance": [],
      "authorship_tag": "ABX9TyO7WMD6g8EmBNzbLBTOgpci",
      "include_colab_link": true
    },
    "kernelspec": {
      "name": "python3",
      "display_name": "Python 3"
    },
    "language_info": {
      "name": "python"
    }
  },
  "cells": [
    {
      "cell_type": "markdown",
      "metadata": {
        "id": "view-in-github",
        "colab_type": "text"
      },
      "source": [
        "<a href=\"https://colab.research.google.com/github/BORAN08/python_exercise/blob/main/Exercise_158.ipynb\" target=\"_parent\"><img src=\"https://colab.research.google.com/assets/colab-badge.svg\" alt=\"Open In Colab\"/></a>"
      ]
    },
    {
      "cell_type": "markdown",
      "source": [
        "Exercise-158\n",
        "\n",
        "Write a rotate function that rotates a two-dimensional array (a matrix) either clockwise or anti-clockwise by 90 degrees, and returns the rotated array.\n",
        "\n",
        "The function accepts two parameters: an array, and a string specifying the direction or rotation. The direction will be either \"clockwise\" or \"counter-clockwise\".\n",
        "\n",
        "Here is an example of how your function will be used:\n",
        "NOT: Bizden istenen verilen bir matrix' in saat yönünde(clockwise) veya saat yönünün tersine (counter-clockwise) çevrilmiş halini döndürmek.\n",
        "\n",
        "////def rotate(matrix, direction)://///\n",
        "\n",
        "     \n",
        "matrix = [[1, 2, 3],\n",
        "          [4, 5, 6],\n",
        "          [7, 8, 9]]\n",
        "\n",
        "\n",
        "rotate(matrix, \"clockwise\") #  Would return  [[7, 4, 1], [8, 5, 2],  [9, 6, 3]]\n",
        "\n",
        "rotate(matrix, 'counter-clockwise'), [[3,6,9],[2,5,8],[1,4,7]])\n",
        "To help you visualize the rotated matrix, here it is formatted as a grid:\n",
        "\n",
        " [[7, 4, 1],\n",
        "  [8, 5, 2],\n",
        "  [9, 6, 3]]\n",
        "\n",
        "Rotated counter-clockwise it would looks like this:\n",
        "\n",
        " [[3, 6, 9],\n",
        "  [2, 5, 8],\n",
        "  [1, 4, 7]]"
      ],
      "metadata": {
        "id": "c4oK5CN7kqSM"
      }
    },
    {
      "cell_type": "code",
      "execution_count": 1,
      "metadata": {
        "colab": {
          "base_uri": "https://localhost:8080/"
        },
        "id": "hFL4AhYrklc5",
        "outputId": "3e406539-4205-499e-8e5c-93e278cdea36"
      },
      "outputs": [
        {
          "output_type": "execute_result",
          "data": {
            "text/plain": [
              "[[3, 6, 9], [2, 5, 8], [1, 4, 7]]"
            ]
          },
          "metadata": {},
          "execution_count": 1
        }
      ],
      "source": [
        "def rotate(matrix, direction): \n",
        "  if direction==\"clockwise\":\n",
        "    return [list(i)[::-1] for i in zip(*matrix)]\n",
        "  elif direction==\"counter-clockwise\":\n",
        "    return [list(i) for i in zip(*matrix)][::-1]\n",
        "matrix = [[1, 2, 3],\n",
        "          [4, 5, 6],\n",
        "          [7, 8, 9]]\n",
        "rotate(matrix,\"counter-clockwise\")   "
      ]
    }
  ]
}